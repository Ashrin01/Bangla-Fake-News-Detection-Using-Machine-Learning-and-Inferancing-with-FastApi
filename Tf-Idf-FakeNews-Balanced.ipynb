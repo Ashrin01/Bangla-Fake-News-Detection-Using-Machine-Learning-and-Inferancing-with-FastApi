{
 "cells": [
  {
   "cell_type": "code",
   "execution_count": 1,
   "id": "0f5354e3",
   "metadata": {},
   "outputs": [],
   "source": [
    "#importing libraries\n",
    "import pandas as pd\n",
    "import seaborn as sns\n",
    "from matplotlib import pyplot as plt"
   ]
  },
  {
   "cell_type": "code",
   "execution_count": 2,
   "id": "62ed011a",
   "metadata": {},
   "outputs": [],
   "source": [
    "#creting data frames\n",
    "df1=pd.read_csv(\"Authentic-48k.csv\")"
   ]
  },
  {
   "cell_type": "code",
   "execution_count": 3,
   "id": "56beea04",
   "metadata": {},
   "outputs": [
    {
     "data": {
      "text/plain": [
       "<bound method DataFrame.info of        articleID            domain                 date       category  \\\n",
       "0              1    jagonews24.com  2018-09-19 17:48:18      Education   \n",
       "1              2    jagonews24.com  2018-09-19 17:48:19       National   \n",
       "2              3    jagonews24.com  2018-09-19 17:48:20       National   \n",
       "3              4    jagonews24.com  2018-09-19 17:48:21          Crime   \n",
       "4              5    jagonews24.com  2018-09-19 17:48:21       National   \n",
       "...          ...               ...                  ...            ...   \n",
       "48673      61776  banglanews24.com  2018-10-11 16:39:23         Sports   \n",
       "48674      61777  banglanews24.com  2018-10-11 16:39:27  International   \n",
       "48675      61778  banglanews24.com  2018-10-11 16:39:30       Politics   \n",
       "48676      61779  banglanews24.com  2018-10-11 16:39:32       National   \n",
       "48677      61780  banglanews24.com  2018-10-11 16:39:36       National   \n",
       "\n",
       "                                                headline  \\\n",
       "0       হট্টগোল করায় বাকৃবিতে দুইজন বরখাস্ত, ৬ জনকে শোকজ   \n",
       "1        মালয়েশিয়ায় কর্মী পাঠানোর ব্যবস্থা নেয়ার সুপারিশ   \n",
       "2      প্রেমের প্রস্তাবে রাজি না হওয়ায় স্কুলছাত্রীকে ...   \n",
       "3      মেডিয়েশনই মামলাজট নিরসনের পথ : বিচারপতি আহমেদ ...   \n",
       "4             টকশোতে বক্তব্য দিতে গিয়ে জাপা নেতার মৃত্যু   \n",
       "...                                                  ...   \n",
       "48673                এনসিএলে তিতলির প্রভাব, সব ম্যাচ ড্র   \n",
       "48674      কর্ম-বসবাসে সেরা সিঙ্গাপুর, আয়ে সুইজারল্যান্ড   \n",
       "48675               জয়পুরহাটে জামায়াতের ১৯ নেতাকর্মী আটক   \n",
       "48676                 ভ্যানগার্ড পোশাক কারখানাকে জরিমানা   \n",
       "48677  উল্লাপাড়ায় ভেজাল সার-কীটনাশক তৈরির কারখানা সিল...   \n",
       "\n",
       "                                                 content  label  \n",
       "0      গত ১৭ সেপ্টেম্বর বাংলাদেশ কৃষি বিশ্ববিদ্যালয়ে ...      1  \n",
       "1      বাংলাদেশের বৃহৎ শ্রমবাজার মালয়েশিয়ায় আবার শ্রম...      1  \n",
       "2      নরসিংদীর মনোহরদীতে প্রেমের প্রস্তাবে রাজি না হ...      1  \n",
       "3      সুপ্রিম কোর্টের হাইকোর্ট বিভাগের বিচারপতি আহমে...      1  \n",
       "4      মাদারীপুর সদরের উপজেলার লেকেরপাড়ে একটি বেসরকার...      1  \n",
       "...                                                  ...    ...  \n",
       "48673  প্রথমে বাংলাদেশের কাছ দিয়ে যাওয়ার কথা থাকলেও ঘ...      1  \n",
       "48674  উন্নত জীবনযাপনের জন্য অনেকেই বিদেশে পাড়ি দেন। ...      1  \n",
       "48675  জয়পুরহাট: সরকার বিরোধী গোপন বৈঠকের সময় জয়পুরহা...      1  \n",
       "48676  চট্টগ্রাম: পরিবেশ দূষণের দায়ে নগরের আগ্রাবাদ এ...      1  \n",
       "48677  সিরাজগঞ্জ: সিরাজগঞ্জের উল্লাপাড়ায় অভিযান চালিয়...      1  \n",
       "\n",
       "[48678 rows x 7 columns]>"
      ]
     },
     "execution_count": 3,
     "metadata": {},
     "output_type": "execute_result"
    }
   ],
   "source": [
    "df1.info"
   ]
  },
  {
   "cell_type": "code",
   "execution_count": 4,
   "id": "a656f7bd",
   "metadata": {},
   "outputs": [],
   "source": [
    "df2=pd.read_csv(\"LabeledAuthentic-7K.csv\")"
   ]
  },
  {
   "cell_type": "code",
   "execution_count": 5,
   "id": "9c0d50ad",
   "metadata": {},
   "outputs": [
    {
     "data": {
      "text/plain": [
       "<bound method DataFrame.info of       articleID                  domain                 date       category  \\\n",
       "0             1         bd-pratidin.com  2018-09-20 08:16:43         Sports   \n",
       "1             2            jugantor.com  2018-09-20 20:20:20         Sports   \n",
       "2             3            bd24live.com  2018-09-20 16:39:40       National   \n",
       "3             4            bd24live.com  2018-09-19 18:27:56       National   \n",
       "4             5            somoynews.tv  2018-09-20 10:15:28        Finance   \n",
       "...         ...                     ...                  ...            ...   \n",
       "7197       8263          jagonews24.com  2018-09-23 11:12:27       National   \n",
       "7198       8265          jagonews24.com  2018-09-24 13:36:25       National   \n",
       "7199       8266          jagonews24.com  2018-09-23 19:36:27       National   \n",
       "7200       8267       independent24.com  2018-09-21 14:26:51       National   \n",
       "7201       8268  bangla.thereport24.com  2018-09-23 12:29:50  Entertainment   \n",
       "\n",
       "                                            source relation  \\\n",
       "0               আফগান ক্রিকেট বোর্ড (এসিবি) প্রধান  Related   \n",
       "1                                         Reporter  Related   \n",
       "2                                         Reporter  Related   \n",
       "3                         জননিরাপত্তা বিভাগের সচিব  Related   \n",
       "4                 পেট্রোল পাম্প মালিক সমিতি সভাপতি  Related   \n",
       "...                                            ...      ...   \n",
       "7197               দেবপুড় ফাঁড়ী ইনচার্জ ইন্সপেক্টর  Related   \n",
       "7198                 বান্দরবানে রাজবিহারের অধ্যক্ষ  Related   \n",
       "7199  নারায়ণগঞ্জ জেলা পুলিশের অতিরিক্ত পুলিশ সুপার  Related   \n",
       "7200       ডাক, টেলিযোগাযোগ ও তথ্যপ্রযুক্তিমন্ত্রী  Related   \n",
       "7201                                       writter  Related   \n",
       "\n",
       "                                               headline  \\\n",
       "0             হঠাৎ আফগান ক্রিকেট বোর্ড প্রধানের পদত্যাগ   \n",
       "1                              টস হেরে বোলিংয়ে বাংলাদেশ   \n",
       "2                        রাজধানীতে বিশেষ অভিযানে আটক ৪৩   \n",
       "3     উস্কানি রোধে নজরদারি থাকবে সামাজিক যোগাযোগ মাধ...   \n",
       "4        'যেখানে তেল আসত ৭ দিনে, এখন তা আসবে অতি দ্রুত'   \n",
       "...                                                 ...   \n",
       "7197       তালাকের ৫ বছর পর শ্বশুরবাড়িতে প্রবাসীর মরদেহ   \n",
       "7198                বান্দরবানে পালিত হচ্ছে মধু পূর্ণিমা   \n",
       "7199  মাজেদাকে ধরিয়ে দিয়ে ১০ হাজার টাকা পুরস্কার নিল...   \n",
       "7200  মন্ত্রিসভায় চূড়ান্ত অনুমোদনের অপেক্ষায় টেলিযোগ...   \n",
       "7201                                        ফুল ঝরে পড়ে   \n",
       "\n",
       "                                                content  label  \n",
       "0     ক্রিকেট বিশ্বের নতুন চমকের নাম আফগানিস্তান। কয়...    1.0  \n",
       "1     এশিয়া কাপের ষষ্ঠ ম্যাচে বাংলাদেশ দলের বিপক্ষে ...    1.0  \n",
       "2     রাজধানীতে মাদক বিরোধী বিশেষ অভিযান পরিচালনা কর...    1.0  \n",
       "3     সনাতন ধর্মাবলম্বীদের সবচেয়ে বড় ধর্মীয় উৎসব দুর...    1.0  \n",
       "4     ভারত থেকে পাইপ লাইনের মাধ্যমে সরাসরি দেশে জ্বা...    1.0  \n",
       "...                                                 ...    ...  \n",
       "7197  কুমিল্লার বুড়িচং উপজেলার এবদারপুর গ্রামে সাবেক...    1.0  \n",
       "7198  নানা মাঙ্গলিক আয়োজনের মধ্যে দিয়ে বান্দরবানে পা...    1.0  \n",
       "7199  নারায়ণগঞ্জের সিদ্ধিরগঞ্জে শীর্ষ মাদক ব্যবসায়ী ...    1.0  \n",
       "7200  ২০ বছরের পুরনো নীতিমালা দিয়েই চলছে দেশের টেলিয...    1.0  \n",
       "7201  মারুফ কামরুল মুখ ভরে বমি করছে চুটকি। আধ ভাঙা ভ...    1.0  \n",
       "\n",
       "[7202 rows x 9 columns]>"
      ]
     },
     "execution_count": 5,
     "metadata": {},
     "output_type": "execute_result"
    }
   ],
   "source": [
    "df2.info"
   ]
  },
  {
   "cell_type": "code",
   "execution_count": 6,
   "id": "aaf44630",
   "metadata": {},
   "outputs": [],
   "source": [
    "Auth = [df1, df2]"
   ]
  },
  {
   "cell_type": "code",
   "execution_count": 7,
   "id": "2e40e9e7",
   "metadata": {},
   "outputs": [],
   "source": [
    "#mergining data frames\n",
    "df_auth = pd.concat(Auth)"
   ]
  },
  {
   "cell_type": "code",
   "execution_count": 8,
   "id": "268b07ba",
   "metadata": {},
   "outputs": [],
   "source": [
    "# randomly picking 2598 rows\n",
    "df_auth = df_auth.sample(n=2598, replace=True)"
   ]
  },
  {
   "cell_type": "code",
   "execution_count": 9,
   "id": "3c7b0626",
   "metadata": {},
   "outputs": [
    {
     "data": {
      "text/plain": [
       "label\n",
       "1.0    2598\n",
       "dtype: int64"
      ]
     },
     "execution_count": 9,
     "metadata": {},
     "output_type": "execute_result"
    }
   ],
   "source": [
    "df_auth.value_counts(\"label\")"
   ]
  },
  {
   "cell_type": "code",
   "execution_count": 10,
   "id": "3e17514b",
   "metadata": {},
   "outputs": [],
   "source": [
    "df3=pd.read_csv(\"Fake-1k.csv\")"
   ]
  },
  {
   "cell_type": "code",
   "execution_count": 11,
   "id": "cc7f5e5c",
   "metadata": {},
   "outputs": [
    {
     "data": {
      "text/plain": [
       "<bound method DataFrame.info of       articleID                    domain                        date  \\\n",
       "0             1         channeldhaka.news   2019-03-14T13:34:14+00:00   \n",
       "1             2                 earki.com            সেম্বর ১৭, ২০১৮    \n",
       "2             3                 earki.com  ২০:৩৯, জানুয়ারি ১৪, ২০১৯    \n",
       "3             4         channeldhaka.news   2018-06-30T15:56:47+00:00   \n",
       "4             5  motikontho.wordpress.com   2013-03-05T21:55:45+00:00   \n",
       "...         ...                       ...                         ...   \n",
       "1294       1303           bengalbeats.com   2019-03-31T21:34:42+00:00   \n",
       "1295       1304      bengaliviralnews.com   2018-01-16T15:36:12+00:00   \n",
       "1296       1305         channeldhaka.news   2018-12-03T18:09:08+00:00   \n",
       "1297       1306                 earki.com  ১৭:৩৬, জানুয়ারি ০৭, ২০১৯    \n",
       "1298       1307         channeldhaka.news   2019-03-09T23:00:05+00:00   \n",
       "\n",
       "           category                                           headline  \\\n",
       "0     International                           মুরগির হামলায় শেয়াল নিহত   \n",
       "1     Miscellaneous            বিটিভিতে যেবার আমি ইন্টারভিউ দিতে গেলাম   \n",
       "2     Miscellaneous  বিদেশ থেকে উন্নতমানের বিরোধীদল আমদানি করার পরা...   \n",
       "3            Sports                      অবসর নেয়ার ঘোষণা দিলেন মেসি !   \n",
       "4     Miscellaneous  মাদারফাকার নহে, ব্রাদারফাকার: সাকা | দৈনিক মতি...   \n",
       "...             ...                                                ...   \n",
       "1294  Miscellaneous  রাজশাহীতে স্বামীর হাঁচির আওয়াজে ঘুমের মধ্যেই স...   \n",
       "1295  Miscellaneous  IAS ইন্টারভিউ এ মেয়েটিকে জিজ্ঞসা করা হল মেয়েদে...   \n",
       "1296          Crime         শাওমি মোবাইল বিস্ফোরণে কলেজছাত্রের মৃত্যু!   \n",
       "1297  Miscellaneous  ফেসবুকে যেভাবে নতুন মন্ত্রীদের অভিনন্দন বার্তা...   \n",
       "1298  International            মাঝ আকাশে পর্ন দেখার অভিযোগে পাইলট আটক!   \n",
       "\n",
       "                                                content  label  \n",
       "0     বাংলায় একটা প্রবাদ আছে, শেয়ালের কাছে মুরগী বর্...      0  \n",
       "1     BTV থেকে লোকজন আসছে, ইন্টারভিউ নিবে।চারজনের টি...      0  \n",
       "2     অদ্ভুত বিরোধীদলহীনতায় ভুগছে সরকার। এ এক অন্যরক...      0  \n",
       "3     রাশিয়া বিশ্বকাপ নকআউট পর্বে ফ্রান্সের সাথে ৪-৩...      0  \n",
       "4     নিজস্ব মতিবেদক‘মাদারফাকার নহে, আমি ব্রাদারফাকা...      0  \n",
       "...                                                 ...    ...  \n",
       "1294  রাজশাহীর সাহেব বাজার মোড়ে রাতে ঘুমের মধ্যে হাস...      0  \n",
       "1295  IAS পরীক্ষায় এমন এমন অবাক করে দেওয়া প্রশ্ন এসে...      0  \n",
       "1296  শাওমি মোবাইল ফোন বিস্ফোরণ হয়ে স্বপ্নীল মজুমদা...      0  \n",
       "1297  আপনাকে নতুন মন্ত্রিসভার সদস্যদের অভিনন্দন জানা...      0  \n",
       "1298  বিমান যখন আকাশে তখন আর কোনও দিকে খেয়াল না রেখ...      0  \n",
       "\n",
       "[1299 rows x 7 columns]>"
      ]
     },
     "execution_count": 11,
     "metadata": {},
     "output_type": "execute_result"
    }
   ],
   "source": [
    "df3.info"
   ]
  },
  {
   "cell_type": "code",
   "execution_count": 12,
   "id": "d735a9cf",
   "metadata": {},
   "outputs": [],
   "source": [
    "df4=pd.read_csv(\"LabeledFake-1K.csv\")"
   ]
  },
  {
   "cell_type": "code",
   "execution_count": 13,
   "id": "747876d8",
   "metadata": {},
   "outputs": [
    {
     "data": {
      "text/plain": [
       "<bound method DataFrame.info of       articleID                    domain                        date  \\\n",
       "0             1         channeldhaka.news   2019-03-14T13:34:14+00:00   \n",
       "1             2                 earki.com            সেম্বর ১৭, ২০১৮    \n",
       "2             3                 earki.com  ২০:৩৯, জানুয়ারি ১৪, ২০১৯    \n",
       "3             4         channeldhaka.news   2018-06-30T15:56:47+00:00   \n",
       "4             5  motikontho.wordpress.com   2013-03-05T21:55:45+00:00   \n",
       "...         ...                       ...                         ...   \n",
       "1294       1303           bengalbeats.com   2019-03-31T21:34:42+00:00   \n",
       "1295       1304      bengaliviralnews.com   2018-01-16T15:36:12+00:00   \n",
       "1296       1305         channeldhaka.news   2018-12-03T18:09:08+00:00   \n",
       "1297       1306                 earki.com  ১৭:৩৬, জানুয়ারি ০৭, ২০১৯    \n",
       "1298       1307         channeldhaka.news   2019-03-09T23:00:05+00:00   \n",
       "\n",
       "           category                         source   relation  \\\n",
       "0     International                       Reporter  Unrelated   \n",
       "1     Miscellaneous                       Reporter  Unrelated   \n",
       "2     Miscellaneous                       Reporter  Unrelated   \n",
       "3            Sports                       Reporter  Unrelated   \n",
       "4     Miscellaneous                       Reporter  Unrelated   \n",
       "...             ...                            ...        ...   \n",
       "1294  Miscellaneous                       Reporter  Unrelated   \n",
       "1295  Miscellaneous                       Reporter  Unrelated   \n",
       "1296          Crime  ফেনী ফায়ার স্টেশনের ইনচার্জ   Unrelated   \n",
       "1297  Miscellaneous                       Reporter    Related   \n",
       "1298  International      মুম্বাই বিমানবন্দর সূত্র   Unrelated   \n",
       "\n",
       "                                               headline  \\\n",
       "0                              মুরগির হামলায় শেয়াল নিহত   \n",
       "1               বিটিভিতে যেবার আমি ইন্টারভিউ দিতে গেলাম   \n",
       "2     বিদেশ থেকে উন্নতমানের বিরোধীদল আমদানি করার পরা...   \n",
       "3                         অবসর নেয়ার ঘোষণা দিলেন মেসি !   \n",
       "4     মাদারফাকার নহে, ব্রাদারফাকার: সাকা | দৈনিক মতি...   \n",
       "...                                                 ...   \n",
       "1294  রাজশাহীতে স্বামীর হাঁচির আওয়াজে ঘুমের মধ্যেই স...   \n",
       "1295  IAS ইন্টারভিউ এ মেয়েটিকে জিজ্ঞসা করা হল মেয়েদে...   \n",
       "1296         শাওমি মোবাইল বিস্ফোরণে কলেজছাত্রের মৃত্যু!   \n",
       "1297  ফেসবুকে যেভাবে নতুন মন্ত্রীদের অভিনন্দন বার্তা...   \n",
       "1298            মাঝ আকাশে পর্ন দেখার অভিযোগে পাইলট আটক!   \n",
       "\n",
       "                                                content  label      F-type  \n",
       "0     বাংলায় একটা প্রবাদ আছে, শেয়ালের কাছে মুরগী বর্...      0      Satire  \n",
       "1     BTV থেকে লোকজন আসছে, ইন্টারভিউ নিবে।চারজনের টি...      0      Satire  \n",
       "2     অদ্ভুত বিরোধীদলহীনতায় ভুগছে সরকার। এ এক অন্যরক...      0      Satire  \n",
       "3     রাশিয়া বিশ্বকাপ নকআউট পর্বে ফ্রান্সের সাথে ৪-৩...      0      Satire  \n",
       "4     নিজস্ব মতিবেদক‘মাদারফাকার নহে, আমি ব্রাদারফাকা...      0      Satire  \n",
       "...                                                 ...    ...         ...  \n",
       "1294  রাজশাহীর সাহেব বাজার মোড়ে রাতে ঘুমের মধ্যে হাস...      0      Satire  \n",
       "1295  IAS পরীক্ষায় এমন এমন অবাক করে দেওয়া প্রশ্ন এসে...      0  Clickbaits  \n",
       "1296  শাওমি মোবাইল ফোন বিস্ফোরণ হয়ে স্বপ্নীল মজুমদা...      0      Satire  \n",
       "1297  আপনাকে নতুন মন্ত্রিসভার সদস্যদের অভিনন্দন জানা...      0      Satire  \n",
       "1298  বিমান যখন আকাশে তখন আর কোনও দিকে খেয়াল না রেখ...      0      Satire  \n",
       "\n",
       "[1299 rows x 10 columns]>"
      ]
     },
     "execution_count": 13,
     "metadata": {},
     "output_type": "execute_result"
    }
   ],
   "source": [
    "df4.info"
   ]
  },
  {
   "cell_type": "code",
   "execution_count": 14,
   "id": "8e5d4f71",
   "metadata": {},
   "outputs": [],
   "source": [
    "Fake = [df3, df4]"
   ]
  },
  {
   "cell_type": "code",
   "execution_count": 15,
   "id": "2f087f8c",
   "metadata": {},
   "outputs": [],
   "source": [
    "#mergining data frames\n",
    "df_fake = pd.concat(Fake)"
   ]
  },
  {
   "cell_type": "code",
   "execution_count": 16,
   "id": "d69964b3",
   "metadata": {},
   "outputs": [
    {
     "data": {
      "text/plain": [
       "label\n",
       "0    2598\n",
       "dtype: int64"
      ]
     },
     "execution_count": 16,
     "metadata": {},
     "output_type": "execute_result"
    }
   ],
   "source": [
    "df_fake.value_counts(\"label\")"
   ]
  },
  {
   "cell_type": "code",
   "execution_count": 17,
   "id": "3e5ed6aa",
   "metadata": {},
   "outputs": [],
   "source": [
    "frame = [df_auth, df_fake]"
   ]
  },
  {
   "cell_type": "code",
   "execution_count": 18,
   "id": "4e73827e",
   "metadata": {},
   "outputs": [],
   "source": [
    "#mergining data frames\n",
    "df = pd.concat(frame)"
   ]
  },
  {
   "cell_type": "code",
   "execution_count": 19,
   "id": "1d4e8d7e",
   "metadata": {},
   "outputs": [
    {
     "data": {
      "text/plain": [
       "label\n",
       "0.0    2598\n",
       "1.0    2598\n",
       "dtype: int64"
      ]
     },
     "execution_count": 19,
     "metadata": {},
     "output_type": "execute_result"
    }
   ],
   "source": [
    "df.value_counts(\"label\")"
   ]
  },
  {
   "cell_type": "code",
   "execution_count": 20,
   "id": "ce5a0dad",
   "metadata": {},
   "outputs": [
    {
     "data": {
      "text/plain": [
       "<bound method DataFrame.info of        articleID                domain                        date  \\\n",
       "45178      57384        jagonews24.com         2018-10-10 08:35:21   \n",
       "36839      46841          bd24live.com         2018-10-06 15:14:59   \n",
       "3823        4098        prothomalo.com         2018-09-21 20:13:38   \n",
       "46691      59283    channelionline.com         2018-10-10 22:00:03   \n",
       "6176        6973        jagonews24.com         2018-09-25 16:00:23   \n",
       "...          ...                   ...                         ...   \n",
       "1294        1303       bengalbeats.com   2019-03-31T21:34:42+00:00   \n",
       "1295        1304  bengaliviralnews.com   2018-01-16T15:36:12+00:00   \n",
       "1296        1305     channeldhaka.news   2018-12-03T18:09:08+00:00   \n",
       "1297        1306             earki.com  ১৭:৩৬, জানুয়ারি ০৭, ২০১৯    \n",
       "1298        1307     channeldhaka.news   2019-03-09T23:00:05+00:00   \n",
       "\n",
       "            category                                           headline  \\\n",
       "45178  Entertainment                  আবারও হাসপাতালে ভর্তি দিলীপ কুমার   \n",
       "36839       National  মেঘনায় ইলিশ শিকারে নিষেধাজ্ঞা জারি ০৬ অক্টোবর,...   \n",
       "3823   International                              প্রবাসী মায়ের শূন্যতা   \n",
       "46691         Sports                    দুই ‘ঢাকা’র লড়াইয়ে এগিয়ে মেট্টো   \n",
       "6176        National                  সরকারি জমিতে ভবন নির্মাণের অভিযোগ   \n",
       "...              ...                                                ...   \n",
       "1294   Miscellaneous  রাজশাহীতে স্বামীর হাঁচির আওয়াজে ঘুমের মধ্যেই স...   \n",
       "1295   Miscellaneous  IAS ইন্টারভিউ এ মেয়েটিকে জিজ্ঞসা করা হল মেয়েদে...   \n",
       "1296           Crime         শাওমি মোবাইল বিস্ফোরণে কলেজছাত্রের মৃত্যু!   \n",
       "1297   Miscellaneous  ফেসবুকে যেভাবে নতুন মন্ত্রীদের অভিনন্দন বার্তা...   \n",
       "1298   International            মাঝ আকাশে পর্ন দেখার অভিযোগে পাইলট আটক!   \n",
       "\n",
       "                                                 content  label  \\\n",
       "45178  দীর্ঘদিন ধরেই বার্ধক্যজনিত নানা অসুখে আক্রান্ত...    1.0   \n",
       "36839  ইলিশের প্রজনন সময় শুরু হওয়ায় লক্ষ্মীপুরের মেঘন...    1.0   \n",
       "3823   আমার বয়স এখন বাষট্টি। শাশ্বত সুন্দর সবুজের মধ্...    1.0   \n",
       "46691  ক্যারিয়ারের প্রথম দ্বিশতক ছুঁতে মাত্র ১৪ রান দ...    1.0   \n",
       "6176   গোপালগঞ্জের টুঙ্গিপাড়ায় অবৈধভাবে সরকারি হালট ব...    1.0   \n",
       "...                                                  ...    ...   \n",
       "1294   রাজশাহীর সাহেব বাজার মোড়ে রাতে ঘুমের মধ্যে হাস...    0.0   \n",
       "1295   IAS পরীক্ষায় এমন এমন অবাক করে দেওয়া প্রশ্ন এসে...    0.0   \n",
       "1296   শাওমি মোবাইল ফোন বিস্ফোরণ হয়ে স্বপ্নীল মজুমদা...    0.0   \n",
       "1297   আপনাকে নতুন মন্ত্রিসভার সদস্যদের অভিনন্দন জানা...    0.0   \n",
       "1298   বিমান যখন আকাশে তখন আর কোনও দিকে খেয়াল না রেখ...    0.0   \n",
       "\n",
       "                                  source   relation      F-type  \n",
       "45178                                NaN        NaN         NaN  \n",
       "36839                                NaN        NaN         NaN  \n",
       "3823                            reporter    Related         NaN  \n",
       "46691                                NaN        NaN         NaN  \n",
       "6176   টুঙ্গিপাড়ার সহকারী কমিশনার (ভূমি)    Related         NaN  \n",
       "...                                  ...        ...         ...  \n",
       "1294                            Reporter  Unrelated      Satire  \n",
       "1295                            Reporter  Unrelated  Clickbaits  \n",
       "1296       ফেনী ফায়ার স্টেশনের ইনচার্জ   Unrelated      Satire  \n",
       "1297                            Reporter    Related      Satire  \n",
       "1298           মুম্বাই বিমানবন্দর সূত্র   Unrelated      Satire  \n",
       "\n",
       "[5196 rows x 10 columns]>"
      ]
     },
     "execution_count": 20,
     "metadata": {},
     "output_type": "execute_result"
    }
   ],
   "source": [
    "df.info"
   ]
  },
  {
   "cell_type": "code",
   "execution_count": 21,
   "id": "136eda95",
   "metadata": {},
   "outputs": [
    {
     "data": {
      "text/plain": [
       "<bound method NDFrame.head of        articleID                domain                        date  \\\n",
       "45178      57384        jagonews24.com         2018-10-10 08:35:21   \n",
       "36839      46841          bd24live.com         2018-10-06 15:14:59   \n",
       "3823        4098        prothomalo.com         2018-09-21 20:13:38   \n",
       "46691      59283    channelionline.com         2018-10-10 22:00:03   \n",
       "6176        6973        jagonews24.com         2018-09-25 16:00:23   \n",
       "...          ...                   ...                         ...   \n",
       "1294        1303       bengalbeats.com   2019-03-31T21:34:42+00:00   \n",
       "1295        1304  bengaliviralnews.com   2018-01-16T15:36:12+00:00   \n",
       "1296        1305     channeldhaka.news   2018-12-03T18:09:08+00:00   \n",
       "1297        1306             earki.com  ১৭:৩৬, জানুয়ারি ০৭, ২০১৯    \n",
       "1298        1307     channeldhaka.news   2019-03-09T23:00:05+00:00   \n",
       "\n",
       "            category                                           headline  \\\n",
       "45178  Entertainment                  আবারও হাসপাতালে ভর্তি দিলীপ কুমার   \n",
       "36839       National  মেঘনায় ইলিশ শিকারে নিষেধাজ্ঞা জারি ০৬ অক্টোবর,...   \n",
       "3823   International                              প্রবাসী মায়ের শূন্যতা   \n",
       "46691         Sports                    দুই ‘ঢাকা’র লড়াইয়ে এগিয়ে মেট্টো   \n",
       "6176        National                  সরকারি জমিতে ভবন নির্মাণের অভিযোগ   \n",
       "...              ...                                                ...   \n",
       "1294   Miscellaneous  রাজশাহীতে স্বামীর হাঁচির আওয়াজে ঘুমের মধ্যেই স...   \n",
       "1295   Miscellaneous  IAS ইন্টারভিউ এ মেয়েটিকে জিজ্ঞসা করা হল মেয়েদে...   \n",
       "1296           Crime         শাওমি মোবাইল বিস্ফোরণে কলেজছাত্রের মৃত্যু!   \n",
       "1297   Miscellaneous  ফেসবুকে যেভাবে নতুন মন্ত্রীদের অভিনন্দন বার্তা...   \n",
       "1298   International            মাঝ আকাশে পর্ন দেখার অভিযোগে পাইলট আটক!   \n",
       "\n",
       "                                                 content  label  \\\n",
       "45178  দীর্ঘদিন ধরেই বার্ধক্যজনিত নানা অসুখে আক্রান্ত...    1.0   \n",
       "36839  ইলিশের প্রজনন সময় শুরু হওয়ায় লক্ষ্মীপুরের মেঘন...    1.0   \n",
       "3823   আমার বয়স এখন বাষট্টি। শাশ্বত সুন্দর সবুজের মধ্...    1.0   \n",
       "46691  ক্যারিয়ারের প্রথম দ্বিশতক ছুঁতে মাত্র ১৪ রান দ...    1.0   \n",
       "6176   গোপালগঞ্জের টুঙ্গিপাড়ায় অবৈধভাবে সরকারি হালট ব...    1.0   \n",
       "...                                                  ...    ...   \n",
       "1294   রাজশাহীর সাহেব বাজার মোড়ে রাতে ঘুমের মধ্যে হাস...    0.0   \n",
       "1295   IAS পরীক্ষায় এমন এমন অবাক করে দেওয়া প্রশ্ন এসে...    0.0   \n",
       "1296   শাওমি মোবাইল ফোন বিস্ফোরণ হয়ে স্বপ্নীল মজুমদা...    0.0   \n",
       "1297   আপনাকে নতুন মন্ত্রিসভার সদস্যদের অভিনন্দন জানা...    0.0   \n",
       "1298   বিমান যখন আকাশে তখন আর কোনও দিকে খেয়াল না রেখ...    0.0   \n",
       "\n",
       "                                  source   relation      F-type  \n",
       "45178                                NaN        NaN         NaN  \n",
       "36839                                NaN        NaN         NaN  \n",
       "3823                            reporter    Related         NaN  \n",
       "46691                                NaN        NaN         NaN  \n",
       "6176   টুঙ্গিপাড়ার সহকারী কমিশনার (ভূমি)    Related         NaN  \n",
       "...                                  ...        ...         ...  \n",
       "1294                            Reporter  Unrelated      Satire  \n",
       "1295                            Reporter  Unrelated  Clickbaits  \n",
       "1296       ফেনী ফায়ার স্টেশনের ইনচার্জ   Unrelated      Satire  \n",
       "1297                            Reporter    Related      Satire  \n",
       "1298           মুম্বাই বিমানবন্দর সূত্র   Unrelated      Satire  \n",
       "\n",
       "[5196 rows x 10 columns]>"
      ]
     },
     "execution_count": 21,
     "metadata": {},
     "output_type": "execute_result"
    }
   ],
   "source": [
    "df.head"
   ]
  },
  {
   "cell_type": "code",
   "execution_count": 22,
   "id": "698b3dc9",
   "metadata": {},
   "outputs": [
    {
     "data": {
      "text/plain": [
       "articleID      int64\n",
       "domain        object\n",
       "date          object\n",
       "category      object\n",
       "headline      object\n",
       "content       object\n",
       "label        float64\n",
       "source        object\n",
       "relation      object\n",
       "F-type        object\n",
       "dtype: object"
      ]
     },
     "execution_count": 22,
     "metadata": {},
     "output_type": "execute_result"
    }
   ],
   "source": [
    "df.dtypes"
   ]
  },
  {
   "cell_type": "code",
   "execution_count": 23,
   "id": "a7340126",
   "metadata": {},
   "outputs": [],
   "source": [
    "#chaning data frames type\n",
    "df['content'] = df['content'].astype('string')\n",
    "df['label'] = df['label'].astype('int64')"
   ]
  },
  {
   "cell_type": "code",
   "execution_count": 24,
   "id": "f401333a",
   "metadata": {},
   "outputs": [
    {
     "data": {
      "text/plain": [
       "articleID     int64\n",
       "domain       object\n",
       "date         object\n",
       "category     object\n",
       "headline     object\n",
       "content      string\n",
       "label         int64\n",
       "source       object\n",
       "relation     object\n",
       "F-type       object\n",
       "dtype: object"
      ]
     },
     "execution_count": 24,
     "metadata": {},
     "output_type": "execute_result"
    }
   ],
   "source": [
    "df.dtypes"
   ]
  },
  {
   "cell_type": "code",
   "execution_count": 25,
   "id": "f61501a0",
   "metadata": {
    "scrolled": true
   },
   "outputs": [
    {
     "data": {
      "text/html": [
       "<div>\n",
       "<style scoped>\n",
       "    .dataframe tbody tr th:only-of-type {\n",
       "        vertical-align: middle;\n",
       "    }\n",
       "\n",
       "    .dataframe tbody tr th {\n",
       "        vertical-align: top;\n",
       "    }\n",
       "\n",
       "    .dataframe thead tr th {\n",
       "        text-align: left;\n",
       "    }\n",
       "\n",
       "    .dataframe thead tr:last-of-type th {\n",
       "        text-align: right;\n",
       "    }\n",
       "</style>\n",
       "<table border=\"1\" class=\"dataframe\">\n",
       "  <thead>\n",
       "    <tr>\n",
       "      <th></th>\n",
       "      <th colspan=\"8\" halign=\"left\">articleID</th>\n",
       "    </tr>\n",
       "    <tr>\n",
       "      <th></th>\n",
       "      <th>count</th>\n",
       "      <th>mean</th>\n",
       "      <th>std</th>\n",
       "      <th>min</th>\n",
       "      <th>25%</th>\n",
       "      <th>50%</th>\n",
       "      <th>75%</th>\n",
       "      <th>max</th>\n",
       "    </tr>\n",
       "    <tr>\n",
       "      <th>label</th>\n",
       "      <th></th>\n",
       "      <th></th>\n",
       "      <th></th>\n",
       "      <th></th>\n",
       "      <th></th>\n",
       "      <th></th>\n",
       "      <th></th>\n",
       "      <th></th>\n",
       "    </tr>\n",
       "  </thead>\n",
       "  <tbody>\n",
       "    <tr>\n",
       "      <th>0</th>\n",
       "      <td>2598.0</td>\n",
       "      <td>653.268668</td>\n",
       "      <td>377.032471</td>\n",
       "      <td>1.0</td>\n",
       "      <td>326.25</td>\n",
       "      <td>653.0</td>\n",
       "      <td>978.75</td>\n",
       "      <td>1307.0</td>\n",
       "    </tr>\n",
       "    <tr>\n",
       "      <th>1</th>\n",
       "      <td>2598.0</td>\n",
       "      <td>27133.357198</td>\n",
       "      <td>18971.590449</td>\n",
       "      <td>2.0</td>\n",
       "      <td>8411.75</td>\n",
       "      <td>25345.5</td>\n",
       "      <td>44216.00</td>\n",
       "      <td>61739.0</td>\n",
       "    </tr>\n",
       "  </tbody>\n",
       "</table>\n",
       "</div>"
      ],
      "text/plain": [
       "      articleID                                                               \\\n",
       "          count          mean           std  min      25%      50%       75%   \n",
       "label                                                                          \n",
       "0        2598.0    653.268668    377.032471  1.0   326.25    653.0    978.75   \n",
       "1        2598.0  27133.357198  18971.590449  2.0  8411.75  25345.5  44216.00   \n",
       "\n",
       "                \n",
       "           max  \n",
       "label           \n",
       "0       1307.0  \n",
       "1      61739.0  "
      ]
     },
     "execution_count": 25,
     "metadata": {},
     "output_type": "execute_result"
    }
   ],
   "source": [
    "df.groupby(\"label\").describe()"
   ]
  },
  {
   "cell_type": "code",
   "execution_count": 26,
   "id": "80dc5abe",
   "metadata": {
    "scrolled": true
   },
   "outputs": [],
   "source": [
    "from sklearn.preprocessing import LabelBinarizer\n",
    "lb = LabelBinarizer() # object for making class-labels into binary numbers"
   ]
  },
  {
   "cell_type": "code",
   "execution_count": 27,
   "id": "9bc17df6",
   "metadata": {},
   "outputs": [
    {
     "data": {
      "text/plain": [
       "Index(['articleID', 'domain', 'date', 'category', 'headline', 'content',\n",
       "       'label', 'source', 'relation', 'F-type'],\n",
       "      dtype='object')"
      ]
     },
     "execution_count": 27,
     "metadata": {},
     "output_type": "execute_result"
    }
   ],
   "source": [
    "df.columns"
   ]
  },
  {
   "cell_type": "code",
   "execution_count": 28,
   "id": "a710a6cb",
   "metadata": {
    "scrolled": true
   },
   "outputs": [
    {
     "data": {
      "text/plain": [
       "<bound method NDFrame.head of        articleID                domain                        date  \\\n",
       "45178      57384        jagonews24.com         2018-10-10 08:35:21   \n",
       "36839      46841          bd24live.com         2018-10-06 15:14:59   \n",
       "3823        4098        prothomalo.com         2018-09-21 20:13:38   \n",
       "46691      59283    channelionline.com         2018-10-10 22:00:03   \n",
       "6176        6973        jagonews24.com         2018-09-25 16:00:23   \n",
       "...          ...                   ...                         ...   \n",
       "1294        1303       bengalbeats.com   2019-03-31T21:34:42+00:00   \n",
       "1295        1304  bengaliviralnews.com   2018-01-16T15:36:12+00:00   \n",
       "1296        1305     channeldhaka.news   2018-12-03T18:09:08+00:00   \n",
       "1297        1306             earki.com  ১৭:৩৬, জানুয়ারি ০৭, ২০১৯    \n",
       "1298        1307     channeldhaka.news   2019-03-09T23:00:05+00:00   \n",
       "\n",
       "            category                                           headline  \\\n",
       "45178  Entertainment                  আবারও হাসপাতালে ভর্তি দিলীপ কুমার   \n",
       "36839       National  মেঘনায় ইলিশ শিকারে নিষেধাজ্ঞা জারি ০৬ অক্টোবর,...   \n",
       "3823   International                              প্রবাসী মায়ের শূন্যতা   \n",
       "46691         Sports                    দুই ‘ঢাকা’র লড়াইয়ে এগিয়ে মেট্টো   \n",
       "6176        National                  সরকারি জমিতে ভবন নির্মাণের অভিযোগ   \n",
       "...              ...                                                ...   \n",
       "1294   Miscellaneous  রাজশাহীতে স্বামীর হাঁচির আওয়াজে ঘুমের মধ্যেই স...   \n",
       "1295   Miscellaneous  IAS ইন্টারভিউ এ মেয়েটিকে জিজ্ঞসা করা হল মেয়েদে...   \n",
       "1296           Crime         শাওমি মোবাইল বিস্ফোরণে কলেজছাত্রের মৃত্যু!   \n",
       "1297   Miscellaneous  ফেসবুকে যেভাবে নতুন মন্ত্রীদের অভিনন্দন বার্তা...   \n",
       "1298   International            মাঝ আকাশে পর্ন দেখার অভিযোগে পাইলট আটক!   \n",
       "\n",
       "                                                 content  label  \\\n",
       "45178  দীর্ঘদিন ধরেই বার্ধক্যজনিত নানা অসুখে আক্রান্ত...      1   \n",
       "36839  ইলিশের প্রজনন সময় শুরু হওয়ায় লক্ষ্মীপুরের মেঘন...      1   \n",
       "3823   আমার বয়স এখন বাষট্টি। শাশ্বত সুন্দর সবুজের মধ্...      1   \n",
       "46691  ক্যারিয়ারের প্রথম দ্বিশতক ছুঁতে মাত্র ১৪ রান দ...      1   \n",
       "6176   গোপালগঞ্জের টুঙ্গিপাড়ায় অবৈধভাবে সরকারি হালট ব...      1   \n",
       "...                                                  ...    ...   \n",
       "1294   রাজশাহীর সাহেব বাজার মোড়ে রাতে ঘুমের মধ্যে হাস...      0   \n",
       "1295   IAS পরীক্ষায় এমন এমন অবাক করে দেওয়া প্রশ্ন এসে...      0   \n",
       "1296   শাওমি মোবাইল ফোন বিস্ফোরণ হয়ে স্বপ্নীল মজুমদা...      0   \n",
       "1297   আপনাকে নতুন মন্ত্রিসভার সদস্যদের অভিনন্দন জানা...      0   \n",
       "1298   বিমান যখন আকাশে তখন আর কোনও দিকে খেয়াল না রেখ...      0   \n",
       "\n",
       "                                  source   relation      F-type  \n",
       "45178                                NaN        NaN         NaN  \n",
       "36839                                NaN        NaN         NaN  \n",
       "3823                            reporter    Related         NaN  \n",
       "46691                                NaN        NaN         NaN  \n",
       "6176   টুঙ্গিপাড়ার সহকারী কমিশনার (ভূমি)    Related         NaN  \n",
       "...                                  ...        ...         ...  \n",
       "1294                            Reporter  Unrelated      Satire  \n",
       "1295                            Reporter  Unrelated  Clickbaits  \n",
       "1296       ফেনী ফায়ার স্টেশনের ইনচার্জ   Unrelated      Satire  \n",
       "1297                            Reporter    Related      Satire  \n",
       "1298           মুম্বাই বিমানবন্দর সূত্র   Unrelated      Satire  \n",
       "\n",
       "[5196 rows x 10 columns]>"
      ]
     },
     "execution_count": 28,
     "metadata": {},
     "output_type": "execute_result"
    }
   ],
   "source": [
    "df.head"
   ]
  },
  {
   "cell_type": "code",
   "execution_count": 29,
   "id": "fffdfff2",
   "metadata": {},
   "outputs": [
    {
     "data": {
      "text/html": [
       "<div>\n",
       "<style scoped>\n",
       "    .dataframe tbody tr th:only-of-type {\n",
       "        vertical-align: middle;\n",
       "    }\n",
       "\n",
       "    .dataframe tbody tr th {\n",
       "        vertical-align: top;\n",
       "    }\n",
       "\n",
       "    .dataframe thead th {\n",
       "        text-align: right;\n",
       "    }\n",
       "</style>\n",
       "<table border=\"1\" class=\"dataframe\">\n",
       "  <thead>\n",
       "    <tr style=\"text-align: right;\">\n",
       "      <th></th>\n",
       "      <th>articleID</th>\n",
       "      <th>domain</th>\n",
       "      <th>date</th>\n",
       "      <th>category</th>\n",
       "      <th>headline</th>\n",
       "      <th>content</th>\n",
       "      <th>label</th>\n",
       "      <th>source</th>\n",
       "      <th>relation</th>\n",
       "      <th>F-type</th>\n",
       "    </tr>\n",
       "  </thead>\n",
       "  <tbody>\n",
       "    <tr>\n",
       "      <th>45178</th>\n",
       "      <td>57384</td>\n",
       "      <td>jagonews24.com</td>\n",
       "      <td>2018-10-10 08:35:21</td>\n",
       "      <td>Entertainment</td>\n",
       "      <td>আবারও হাসপাতালে ভর্তি দিলীপ কুমার</td>\n",
       "      <td>দীর্ঘদিন ধরেই বার্ধক্যজনিত নানা অসুখে আক্রান্ত...</td>\n",
       "      <td>1</td>\n",
       "      <td>NaN</td>\n",
       "      <td>NaN</td>\n",
       "      <td>NaN</td>\n",
       "    </tr>\n",
       "    <tr>\n",
       "      <th>36839</th>\n",
       "      <td>46841</td>\n",
       "      <td>bd24live.com</td>\n",
       "      <td>2018-10-06 15:14:59</td>\n",
       "      <td>National</td>\n",
       "      <td>মেঘনায় ইলিশ শিকারে নিষেধাজ্ঞা জারি ০৬ অক্টোবর,...</td>\n",
       "      <td>ইলিশের প্রজনন সময় শুরু হওয়ায় লক্ষ্মীপুরের মেঘন...</td>\n",
       "      <td>1</td>\n",
       "      <td>NaN</td>\n",
       "      <td>NaN</td>\n",
       "      <td>NaN</td>\n",
       "    </tr>\n",
       "    <tr>\n",
       "      <th>3823</th>\n",
       "      <td>4098</td>\n",
       "      <td>prothomalo.com</td>\n",
       "      <td>2018-09-21 20:13:38</td>\n",
       "      <td>International</td>\n",
       "      <td>প্রবাসী মায়ের শূন্যতা</td>\n",
       "      <td>আমার বয়স এখন বাষট্টি। শাশ্বত সুন্দর সবুজের মধ্...</td>\n",
       "      <td>1</td>\n",
       "      <td>reporter</td>\n",
       "      <td>Related</td>\n",
       "      <td>NaN</td>\n",
       "    </tr>\n",
       "    <tr>\n",
       "      <th>46691</th>\n",
       "      <td>59283</td>\n",
       "      <td>channelionline.com</td>\n",
       "      <td>2018-10-10 22:00:03</td>\n",
       "      <td>Sports</td>\n",
       "      <td>দুই ‘ঢাকা’র লড়াইয়ে এগিয়ে মেট্টো</td>\n",
       "      <td>ক্যারিয়ারের প্রথম দ্বিশতক ছুঁতে মাত্র ১৪ রান দ...</td>\n",
       "      <td>1</td>\n",
       "      <td>NaN</td>\n",
       "      <td>NaN</td>\n",
       "      <td>NaN</td>\n",
       "    </tr>\n",
       "    <tr>\n",
       "      <th>6176</th>\n",
       "      <td>6973</td>\n",
       "      <td>jagonews24.com</td>\n",
       "      <td>2018-09-25 16:00:23</td>\n",
       "      <td>National</td>\n",
       "      <td>সরকারি জমিতে ভবন নির্মাণের অভিযোগ</td>\n",
       "      <td>গোপালগঞ্জের টুঙ্গিপাড়ায় অবৈধভাবে সরকারি হালট ব...</td>\n",
       "      <td>1</td>\n",
       "      <td>টুঙ্গিপাড়ার সহকারী কমিশনার (ভূমি)</td>\n",
       "      <td>Related</td>\n",
       "      <td>NaN</td>\n",
       "    </tr>\n",
       "    <tr>\n",
       "      <th>...</th>\n",
       "      <td>...</td>\n",
       "      <td>...</td>\n",
       "      <td>...</td>\n",
       "      <td>...</td>\n",
       "      <td>...</td>\n",
       "      <td>...</td>\n",
       "      <td>...</td>\n",
       "      <td>...</td>\n",
       "      <td>...</td>\n",
       "      <td>...</td>\n",
       "    </tr>\n",
       "    <tr>\n",
       "      <th>1294</th>\n",
       "      <td>1303</td>\n",
       "      <td>bengalbeats.com</td>\n",
       "      <td>2019-03-31T21:34:42+00:00</td>\n",
       "      <td>Miscellaneous</td>\n",
       "      <td>রাজশাহীতে স্বামীর হাঁচির আওয়াজে ঘুমের মধ্যেই স...</td>\n",
       "      <td>রাজশাহীর সাহেব বাজার মোড়ে রাতে ঘুমের মধ্যে হাস...</td>\n",
       "      <td>0</td>\n",
       "      <td>Reporter</td>\n",
       "      <td>Unrelated</td>\n",
       "      <td>Satire</td>\n",
       "    </tr>\n",
       "    <tr>\n",
       "      <th>1295</th>\n",
       "      <td>1304</td>\n",
       "      <td>bengaliviralnews.com</td>\n",
       "      <td>2018-01-16T15:36:12+00:00</td>\n",
       "      <td>Miscellaneous</td>\n",
       "      <td>IAS ইন্টারভিউ এ মেয়েটিকে জিজ্ঞসা করা হল মেয়েদে...</td>\n",
       "      <td>IAS পরীক্ষায় এমন এমন অবাক করে দেওয়া প্রশ্ন এসে...</td>\n",
       "      <td>0</td>\n",
       "      <td>Reporter</td>\n",
       "      <td>Unrelated</td>\n",
       "      <td>Clickbaits</td>\n",
       "    </tr>\n",
       "    <tr>\n",
       "      <th>1296</th>\n",
       "      <td>1305</td>\n",
       "      <td>channeldhaka.news</td>\n",
       "      <td>2018-12-03T18:09:08+00:00</td>\n",
       "      <td>Crime</td>\n",
       "      <td>শাওমি মোবাইল বিস্ফোরণে কলেজছাত্রের মৃত্যু!</td>\n",
       "      <td>শাওমি মোবাইল ফোন বিস্ফোরণ হয়ে স্বপ্নীল মজুমদা...</td>\n",
       "      <td>0</td>\n",
       "      <td>ফেনী ফায়ার স্টেশনের ইনচার্জ</td>\n",
       "      <td>Unrelated</td>\n",
       "      <td>Satire</td>\n",
       "    </tr>\n",
       "    <tr>\n",
       "      <th>1297</th>\n",
       "      <td>1306</td>\n",
       "      <td>earki.com</td>\n",
       "      <td>১৭:৩৬, জানুয়ারি ০৭, ২০১৯</td>\n",
       "      <td>Miscellaneous</td>\n",
       "      <td>ফেসবুকে যেভাবে নতুন মন্ত্রীদের অভিনন্দন বার্তা...</td>\n",
       "      <td>আপনাকে নতুন মন্ত্রিসভার সদস্যদের অভিনন্দন জানা...</td>\n",
       "      <td>0</td>\n",
       "      <td>Reporter</td>\n",
       "      <td>Related</td>\n",
       "      <td>Satire</td>\n",
       "    </tr>\n",
       "    <tr>\n",
       "      <th>1298</th>\n",
       "      <td>1307</td>\n",
       "      <td>channeldhaka.news</td>\n",
       "      <td>2019-03-09T23:00:05+00:00</td>\n",
       "      <td>International</td>\n",
       "      <td>মাঝ আকাশে পর্ন দেখার অভিযোগে পাইলট আটক!</td>\n",
       "      <td>বিমান যখন আকাশে তখন আর কোনও দিকে খেয়াল না রেখ...</td>\n",
       "      <td>0</td>\n",
       "      <td>মুম্বাই বিমানবন্দর সূত্র</td>\n",
       "      <td>Unrelated</td>\n",
       "      <td>Satire</td>\n",
       "    </tr>\n",
       "  </tbody>\n",
       "</table>\n",
       "<p>5196 rows × 10 columns</p>\n",
       "</div>"
      ],
      "text/plain": [
       "       articleID                domain                        date  \\\n",
       "45178      57384        jagonews24.com         2018-10-10 08:35:21   \n",
       "36839      46841          bd24live.com         2018-10-06 15:14:59   \n",
       "3823        4098        prothomalo.com         2018-09-21 20:13:38   \n",
       "46691      59283    channelionline.com         2018-10-10 22:00:03   \n",
       "6176        6973        jagonews24.com         2018-09-25 16:00:23   \n",
       "...          ...                   ...                         ...   \n",
       "1294        1303       bengalbeats.com   2019-03-31T21:34:42+00:00   \n",
       "1295        1304  bengaliviralnews.com   2018-01-16T15:36:12+00:00   \n",
       "1296        1305     channeldhaka.news   2018-12-03T18:09:08+00:00   \n",
       "1297        1306             earki.com  ১৭:৩৬, জানুয়ারি ০৭, ২০১৯    \n",
       "1298        1307     channeldhaka.news   2019-03-09T23:00:05+00:00   \n",
       "\n",
       "            category                                           headline  \\\n",
       "45178  Entertainment                  আবারও হাসপাতালে ভর্তি দিলীপ কুমার   \n",
       "36839       National  মেঘনায় ইলিশ শিকারে নিষেধাজ্ঞা জারি ০৬ অক্টোবর,...   \n",
       "3823   International                              প্রবাসী মায়ের শূন্যতা   \n",
       "46691         Sports                    দুই ‘ঢাকা’র লড়াইয়ে এগিয়ে মেট্টো   \n",
       "6176        National                  সরকারি জমিতে ভবন নির্মাণের অভিযোগ   \n",
       "...              ...                                                ...   \n",
       "1294   Miscellaneous  রাজশাহীতে স্বামীর হাঁচির আওয়াজে ঘুমের মধ্যেই স...   \n",
       "1295   Miscellaneous  IAS ইন্টারভিউ এ মেয়েটিকে জিজ্ঞসা করা হল মেয়েদে...   \n",
       "1296           Crime         শাওমি মোবাইল বিস্ফোরণে কলেজছাত্রের মৃত্যু!   \n",
       "1297   Miscellaneous  ফেসবুকে যেভাবে নতুন মন্ত্রীদের অভিনন্দন বার্তা...   \n",
       "1298   International            মাঝ আকাশে পর্ন দেখার অভিযোগে পাইলট আটক!   \n",
       "\n",
       "                                                 content  label  \\\n",
       "45178  দীর্ঘদিন ধরেই বার্ধক্যজনিত নানা অসুখে আক্রান্ত...      1   \n",
       "36839  ইলিশের প্রজনন সময় শুরু হওয়ায় লক্ষ্মীপুরের মেঘন...      1   \n",
       "3823   আমার বয়স এখন বাষট্টি। শাশ্বত সুন্দর সবুজের মধ্...      1   \n",
       "46691  ক্যারিয়ারের প্রথম দ্বিশতক ছুঁতে মাত্র ১৪ রান দ...      1   \n",
       "6176   গোপালগঞ্জের টুঙ্গিপাড়ায় অবৈধভাবে সরকারি হালট ব...      1   \n",
       "...                                                  ...    ...   \n",
       "1294   রাজশাহীর সাহেব বাজার মোড়ে রাতে ঘুমের মধ্যে হাস...      0   \n",
       "1295   IAS পরীক্ষায় এমন এমন অবাক করে দেওয়া প্রশ্ন এসে...      0   \n",
       "1296   শাওমি মোবাইল ফোন বিস্ফোরণ হয়ে স্বপ্নীল মজুমদা...      0   \n",
       "1297   আপনাকে নতুন মন্ত্রিসভার সদস্যদের অভিনন্দন জানা...      0   \n",
       "1298   বিমান যখন আকাশে তখন আর কোনও দিকে খেয়াল না রেখ...      0   \n",
       "\n",
       "                                  source   relation      F-type  \n",
       "45178                                NaN        NaN         NaN  \n",
       "36839                                NaN        NaN         NaN  \n",
       "3823                            reporter    Related         NaN  \n",
       "46691                                NaN        NaN         NaN  \n",
       "6176   টুঙ্গিপাড়ার সহকারী কমিশনার (ভূমি)    Related         NaN  \n",
       "...                                  ...        ...         ...  \n",
       "1294                            Reporter  Unrelated      Satire  \n",
       "1295                            Reporter  Unrelated  Clickbaits  \n",
       "1296       ফেনী ফায়ার স্টেশনের ইনচার্জ   Unrelated      Satire  \n",
       "1297                            Reporter    Related      Satire  \n",
       "1298           মুম্বাই বিমানবন্দর সূত্র   Unrelated      Satire  \n",
       "\n",
       "[5196 rows x 10 columns]"
      ]
     },
     "execution_count": 29,
     "metadata": {},
     "output_type": "execute_result"
    }
   ],
   "source": [
    "df"
   ]
  },
  {
   "cell_type": "code",
   "execution_count": 30,
   "id": "12f3da68",
   "metadata": {
    "scrolled": true
   },
   "outputs": [
    {
     "data": {
      "text/html": [
       "<div>\n",
       "<style scoped>\n",
       "    .dataframe tbody tr th:only-of-type {\n",
       "        vertical-align: middle;\n",
       "    }\n",
       "\n",
       "    .dataframe tbody tr th {\n",
       "        vertical-align: top;\n",
       "    }\n",
       "\n",
       "    .dataframe thead th {\n",
       "        text-align: right;\n",
       "    }\n",
       "</style>\n",
       "<table border=\"1\" class=\"dataframe\">\n",
       "  <thead>\n",
       "    <tr style=\"text-align: right;\">\n",
       "      <th></th>\n",
       "      <th>articleID</th>\n",
       "      <th>domain</th>\n",
       "      <th>date</th>\n",
       "      <th>category</th>\n",
       "      <th>headline</th>\n",
       "      <th>content</th>\n",
       "      <th>label</th>\n",
       "      <th>source</th>\n",
       "      <th>relation</th>\n",
       "      <th>F-type</th>\n",
       "    </tr>\n",
       "  </thead>\n",
       "  <tbody>\n",
       "    <tr>\n",
       "      <th>45178</th>\n",
       "      <td>False</td>\n",
       "      <td>False</td>\n",
       "      <td>False</td>\n",
       "      <td>False</td>\n",
       "      <td>False</td>\n",
       "      <td>False</td>\n",
       "      <td>False</td>\n",
       "      <td>True</td>\n",
       "      <td>True</td>\n",
       "      <td>True</td>\n",
       "    </tr>\n",
       "    <tr>\n",
       "      <th>36839</th>\n",
       "      <td>False</td>\n",
       "      <td>False</td>\n",
       "      <td>False</td>\n",
       "      <td>False</td>\n",
       "      <td>False</td>\n",
       "      <td>False</td>\n",
       "      <td>False</td>\n",
       "      <td>True</td>\n",
       "      <td>True</td>\n",
       "      <td>True</td>\n",
       "    </tr>\n",
       "    <tr>\n",
       "      <th>3823</th>\n",
       "      <td>False</td>\n",
       "      <td>False</td>\n",
       "      <td>False</td>\n",
       "      <td>False</td>\n",
       "      <td>False</td>\n",
       "      <td>False</td>\n",
       "      <td>False</td>\n",
       "      <td>False</td>\n",
       "      <td>False</td>\n",
       "      <td>True</td>\n",
       "    </tr>\n",
       "    <tr>\n",
       "      <th>46691</th>\n",
       "      <td>False</td>\n",
       "      <td>False</td>\n",
       "      <td>False</td>\n",
       "      <td>False</td>\n",
       "      <td>False</td>\n",
       "      <td>False</td>\n",
       "      <td>False</td>\n",
       "      <td>True</td>\n",
       "      <td>True</td>\n",
       "      <td>True</td>\n",
       "    </tr>\n",
       "    <tr>\n",
       "      <th>6176</th>\n",
       "      <td>False</td>\n",
       "      <td>False</td>\n",
       "      <td>False</td>\n",
       "      <td>False</td>\n",
       "      <td>False</td>\n",
       "      <td>False</td>\n",
       "      <td>False</td>\n",
       "      <td>False</td>\n",
       "      <td>False</td>\n",
       "      <td>True</td>\n",
       "    </tr>\n",
       "    <tr>\n",
       "      <th>...</th>\n",
       "      <td>...</td>\n",
       "      <td>...</td>\n",
       "      <td>...</td>\n",
       "      <td>...</td>\n",
       "      <td>...</td>\n",
       "      <td>...</td>\n",
       "      <td>...</td>\n",
       "      <td>...</td>\n",
       "      <td>...</td>\n",
       "      <td>...</td>\n",
       "    </tr>\n",
       "    <tr>\n",
       "      <th>1294</th>\n",
       "      <td>False</td>\n",
       "      <td>False</td>\n",
       "      <td>False</td>\n",
       "      <td>False</td>\n",
       "      <td>False</td>\n",
       "      <td>False</td>\n",
       "      <td>False</td>\n",
       "      <td>False</td>\n",
       "      <td>False</td>\n",
       "      <td>False</td>\n",
       "    </tr>\n",
       "    <tr>\n",
       "      <th>1295</th>\n",
       "      <td>False</td>\n",
       "      <td>False</td>\n",
       "      <td>False</td>\n",
       "      <td>False</td>\n",
       "      <td>False</td>\n",
       "      <td>False</td>\n",
       "      <td>False</td>\n",
       "      <td>False</td>\n",
       "      <td>False</td>\n",
       "      <td>False</td>\n",
       "    </tr>\n",
       "    <tr>\n",
       "      <th>1296</th>\n",
       "      <td>False</td>\n",
       "      <td>False</td>\n",
       "      <td>False</td>\n",
       "      <td>False</td>\n",
       "      <td>False</td>\n",
       "      <td>False</td>\n",
       "      <td>False</td>\n",
       "      <td>False</td>\n",
       "      <td>False</td>\n",
       "      <td>False</td>\n",
       "    </tr>\n",
       "    <tr>\n",
       "      <th>1297</th>\n",
       "      <td>False</td>\n",
       "      <td>False</td>\n",
       "      <td>False</td>\n",
       "      <td>False</td>\n",
       "      <td>False</td>\n",
       "      <td>False</td>\n",
       "      <td>False</td>\n",
       "      <td>False</td>\n",
       "      <td>False</td>\n",
       "      <td>False</td>\n",
       "    </tr>\n",
       "    <tr>\n",
       "      <th>1298</th>\n",
       "      <td>False</td>\n",
       "      <td>False</td>\n",
       "      <td>False</td>\n",
       "      <td>False</td>\n",
       "      <td>False</td>\n",
       "      <td>False</td>\n",
       "      <td>False</td>\n",
       "      <td>False</td>\n",
       "      <td>False</td>\n",
       "      <td>False</td>\n",
       "    </tr>\n",
       "  </tbody>\n",
       "</table>\n",
       "<p>5196 rows × 10 columns</p>\n",
       "</div>"
      ],
      "text/plain": [
       "       articleID  domain   date  category  headline  content  label  source  \\\n",
       "45178      False   False  False     False     False    False  False    True   \n",
       "36839      False   False  False     False     False    False  False    True   \n",
       "3823       False   False  False     False     False    False  False   False   \n",
       "46691      False   False  False     False     False    False  False    True   \n",
       "6176       False   False  False     False     False    False  False   False   \n",
       "...          ...     ...    ...       ...       ...      ...    ...     ...   \n",
       "1294       False   False  False     False     False    False  False   False   \n",
       "1295       False   False  False     False     False    False  False   False   \n",
       "1296       False   False  False     False     False    False  False   False   \n",
       "1297       False   False  False     False     False    False  False   False   \n",
       "1298       False   False  False     False     False    False  False   False   \n",
       "\n",
       "       relation  F-type  \n",
       "45178      True    True  \n",
       "36839      True    True  \n",
       "3823      False    True  \n",
       "46691      True    True  \n",
       "6176      False    True  \n",
       "...         ...     ...  \n",
       "1294      False   False  \n",
       "1295      False   False  \n",
       "1296      False   False  \n",
       "1297      False   False  \n",
       "1298      False   False  \n",
       "\n",
       "[5196 rows x 10 columns]"
      ]
     },
     "execution_count": 30,
     "metadata": {},
     "output_type": "execute_result"
    }
   ],
   "source": [
    "df.isnull()"
   ]
  },
  {
   "cell_type": "code",
   "execution_count": 31,
   "id": "760668fc",
   "metadata": {},
   "outputs": [
    {
     "data": {
      "text/plain": [
       "label\n",
       "0    2598\n",
       "1    2598\n",
       "dtype: int64"
      ]
     },
     "execution_count": 31,
     "metadata": {},
     "output_type": "execute_result"
    }
   ],
   "source": [
    "df.value_counts(\"label\")"
   ]
  },
  {
   "cell_type": "code",
   "execution_count": 32,
   "id": "9fc7e0ac",
   "metadata": {},
   "outputs": [
    {
     "data": {
      "text/html": [
       "<div>\n",
       "<style scoped>\n",
       "    .dataframe tbody tr th:only-of-type {\n",
       "        vertical-align: middle;\n",
       "    }\n",
       "\n",
       "    .dataframe tbody tr th {\n",
       "        vertical-align: top;\n",
       "    }\n",
       "\n",
       "    .dataframe thead th {\n",
       "        text-align: right;\n",
       "    }\n",
       "</style>\n",
       "<table border=\"1\" class=\"dataframe\">\n",
       "  <thead>\n",
       "    <tr style=\"text-align: right;\">\n",
       "      <th></th>\n",
       "      <th>articleID</th>\n",
       "      <th>domain</th>\n",
       "      <th>date</th>\n",
       "      <th>category</th>\n",
       "      <th>headline</th>\n",
       "      <th>content</th>\n",
       "      <th>label</th>\n",
       "      <th>source</th>\n",
       "      <th>relation</th>\n",
       "      <th>F-type</th>\n",
       "    </tr>\n",
       "  </thead>\n",
       "  <tbody>\n",
       "    <tr>\n",
       "      <th>45178</th>\n",
       "      <td>57384</td>\n",
       "      <td>jagonews24.com</td>\n",
       "      <td>2018-10-10 08:35:21</td>\n",
       "      <td>Entertainment</td>\n",
       "      <td>আবারও হাসপাতালে ভর্তি দিলীপ কুমার</td>\n",
       "      <td>দীর্ঘদিন ধরেই বার্ধক্যজনিত নানা অসুখে আক্রান্ত...</td>\n",
       "      <td>1</td>\n",
       "      <td>NaN</td>\n",
       "      <td>NaN</td>\n",
       "      <td>NaN</td>\n",
       "    </tr>\n",
       "    <tr>\n",
       "      <th>36839</th>\n",
       "      <td>46841</td>\n",
       "      <td>bd24live.com</td>\n",
       "      <td>2018-10-06 15:14:59</td>\n",
       "      <td>National</td>\n",
       "      <td>মেঘনায় ইলিশ শিকারে নিষেধাজ্ঞা জারি ০৬ অক্টোবর,...</td>\n",
       "      <td>ইলিশের প্রজনন সময় শুরু হওয়ায় লক্ষ্মীপুরের মেঘন...</td>\n",
       "      <td>1</td>\n",
       "      <td>NaN</td>\n",
       "      <td>NaN</td>\n",
       "      <td>NaN</td>\n",
       "    </tr>\n",
       "    <tr>\n",
       "      <th>3823</th>\n",
       "      <td>4098</td>\n",
       "      <td>prothomalo.com</td>\n",
       "      <td>2018-09-21 20:13:38</td>\n",
       "      <td>International</td>\n",
       "      <td>প্রবাসী মায়ের শূন্যতা</td>\n",
       "      <td>আমার বয়স এখন বাষট্টি। শাশ্বত সুন্দর সবুজের মধ্...</td>\n",
       "      <td>1</td>\n",
       "      <td>reporter</td>\n",
       "      <td>Related</td>\n",
       "      <td>NaN</td>\n",
       "    </tr>\n",
       "    <tr>\n",
       "      <th>46691</th>\n",
       "      <td>59283</td>\n",
       "      <td>channelionline.com</td>\n",
       "      <td>2018-10-10 22:00:03</td>\n",
       "      <td>Sports</td>\n",
       "      <td>দুই ‘ঢাকা’র লড়াইয়ে এগিয়ে মেট্টো</td>\n",
       "      <td>ক্যারিয়ারের প্রথম দ্বিশতক ছুঁতে মাত্র ১৪ রান দ...</td>\n",
       "      <td>1</td>\n",
       "      <td>NaN</td>\n",
       "      <td>NaN</td>\n",
       "      <td>NaN</td>\n",
       "    </tr>\n",
       "    <tr>\n",
       "      <th>6176</th>\n",
       "      <td>6973</td>\n",
       "      <td>jagonews24.com</td>\n",
       "      <td>2018-09-25 16:00:23</td>\n",
       "      <td>National</td>\n",
       "      <td>সরকারি জমিতে ভবন নির্মাণের অভিযোগ</td>\n",
       "      <td>গোপালগঞ্জের টুঙ্গিপাড়ায় অবৈধভাবে সরকারি হালট ব...</td>\n",
       "      <td>1</td>\n",
       "      <td>টুঙ্গিপাড়ার সহকারী কমিশনার (ভূমি)</td>\n",
       "      <td>Related</td>\n",
       "      <td>NaN</td>\n",
       "    </tr>\n",
       "    <tr>\n",
       "      <th>...</th>\n",
       "      <td>...</td>\n",
       "      <td>...</td>\n",
       "      <td>...</td>\n",
       "      <td>...</td>\n",
       "      <td>...</td>\n",
       "      <td>...</td>\n",
       "      <td>...</td>\n",
       "      <td>...</td>\n",
       "      <td>...</td>\n",
       "      <td>...</td>\n",
       "    </tr>\n",
       "    <tr>\n",
       "      <th>1294</th>\n",
       "      <td>1303</td>\n",
       "      <td>bengalbeats.com</td>\n",
       "      <td>2019-03-31T21:34:42+00:00</td>\n",
       "      <td>Miscellaneous</td>\n",
       "      <td>রাজশাহীতে স্বামীর হাঁচির আওয়াজে ঘুমের মধ্যেই স...</td>\n",
       "      <td>রাজশাহীর সাহেব বাজার মোড়ে রাতে ঘুমের মধ্যে হাস...</td>\n",
       "      <td>0</td>\n",
       "      <td>Reporter</td>\n",
       "      <td>Unrelated</td>\n",
       "      <td>Satire</td>\n",
       "    </tr>\n",
       "    <tr>\n",
       "      <th>1295</th>\n",
       "      <td>1304</td>\n",
       "      <td>bengaliviralnews.com</td>\n",
       "      <td>2018-01-16T15:36:12+00:00</td>\n",
       "      <td>Miscellaneous</td>\n",
       "      <td>IAS ইন্টারভিউ এ মেয়েটিকে জিজ্ঞসা করা হল মেয়েদে...</td>\n",
       "      <td>IAS পরীক্ষায় এমন এমন অবাক করে দেওয়া প্রশ্ন এসে...</td>\n",
       "      <td>0</td>\n",
       "      <td>Reporter</td>\n",
       "      <td>Unrelated</td>\n",
       "      <td>Clickbaits</td>\n",
       "    </tr>\n",
       "    <tr>\n",
       "      <th>1296</th>\n",
       "      <td>1305</td>\n",
       "      <td>channeldhaka.news</td>\n",
       "      <td>2018-12-03T18:09:08+00:00</td>\n",
       "      <td>Crime</td>\n",
       "      <td>শাওমি মোবাইল বিস্ফোরণে কলেজছাত্রের মৃত্যু!</td>\n",
       "      <td>শাওমি মোবাইল ফোন বিস্ফোরণ হয়ে স্বপ্নীল মজুমদা...</td>\n",
       "      <td>0</td>\n",
       "      <td>ফেনী ফায়ার স্টেশনের ইনচার্জ</td>\n",
       "      <td>Unrelated</td>\n",
       "      <td>Satire</td>\n",
       "    </tr>\n",
       "    <tr>\n",
       "      <th>1297</th>\n",
       "      <td>1306</td>\n",
       "      <td>earki.com</td>\n",
       "      <td>১৭:৩৬, জানুয়ারি ০৭, ২০১৯</td>\n",
       "      <td>Miscellaneous</td>\n",
       "      <td>ফেসবুকে যেভাবে নতুন মন্ত্রীদের অভিনন্দন বার্তা...</td>\n",
       "      <td>আপনাকে নতুন মন্ত্রিসভার সদস্যদের অভিনন্দন জানা...</td>\n",
       "      <td>0</td>\n",
       "      <td>Reporter</td>\n",
       "      <td>Related</td>\n",
       "      <td>Satire</td>\n",
       "    </tr>\n",
       "    <tr>\n",
       "      <th>1298</th>\n",
       "      <td>1307</td>\n",
       "      <td>channeldhaka.news</td>\n",
       "      <td>2019-03-09T23:00:05+00:00</td>\n",
       "      <td>International</td>\n",
       "      <td>মাঝ আকাশে পর্ন দেখার অভিযোগে পাইলট আটক!</td>\n",
       "      <td>বিমান যখন আকাশে তখন আর কোনও দিকে খেয়াল না রেখ...</td>\n",
       "      <td>0</td>\n",
       "      <td>মুম্বাই বিমানবন্দর সূত্র</td>\n",
       "      <td>Unrelated</td>\n",
       "      <td>Satire</td>\n",
       "    </tr>\n",
       "  </tbody>\n",
       "</table>\n",
       "<p>5196 rows × 10 columns</p>\n",
       "</div>"
      ],
      "text/plain": [
       "       articleID                domain                        date  \\\n",
       "45178      57384        jagonews24.com         2018-10-10 08:35:21   \n",
       "36839      46841          bd24live.com         2018-10-06 15:14:59   \n",
       "3823        4098        prothomalo.com         2018-09-21 20:13:38   \n",
       "46691      59283    channelionline.com         2018-10-10 22:00:03   \n",
       "6176        6973        jagonews24.com         2018-09-25 16:00:23   \n",
       "...          ...                   ...                         ...   \n",
       "1294        1303       bengalbeats.com   2019-03-31T21:34:42+00:00   \n",
       "1295        1304  bengaliviralnews.com   2018-01-16T15:36:12+00:00   \n",
       "1296        1305     channeldhaka.news   2018-12-03T18:09:08+00:00   \n",
       "1297        1306             earki.com  ১৭:৩৬, জানুয়ারি ০৭, ২০১৯    \n",
       "1298        1307     channeldhaka.news   2019-03-09T23:00:05+00:00   \n",
       "\n",
       "            category                                           headline  \\\n",
       "45178  Entertainment                  আবারও হাসপাতালে ভর্তি দিলীপ কুমার   \n",
       "36839       National  মেঘনায় ইলিশ শিকারে নিষেধাজ্ঞা জারি ০৬ অক্টোবর,...   \n",
       "3823   International                              প্রবাসী মায়ের শূন্যতা   \n",
       "46691         Sports                    দুই ‘ঢাকা’র লড়াইয়ে এগিয়ে মেট্টো   \n",
       "6176        National                  সরকারি জমিতে ভবন নির্মাণের অভিযোগ   \n",
       "...              ...                                                ...   \n",
       "1294   Miscellaneous  রাজশাহীতে স্বামীর হাঁচির আওয়াজে ঘুমের মধ্যেই স...   \n",
       "1295   Miscellaneous  IAS ইন্টারভিউ এ মেয়েটিকে জিজ্ঞসা করা হল মেয়েদে...   \n",
       "1296           Crime         শাওমি মোবাইল বিস্ফোরণে কলেজছাত্রের মৃত্যু!   \n",
       "1297   Miscellaneous  ফেসবুকে যেভাবে নতুন মন্ত্রীদের অভিনন্দন বার্তা...   \n",
       "1298   International            মাঝ আকাশে পর্ন দেখার অভিযোগে পাইলট আটক!   \n",
       "\n",
       "                                                 content  label  \\\n",
       "45178  দীর্ঘদিন ধরেই বার্ধক্যজনিত নানা অসুখে আক্রান্ত...      1   \n",
       "36839  ইলিশের প্রজনন সময় শুরু হওয়ায় লক্ষ্মীপুরের মেঘন...      1   \n",
       "3823   আমার বয়স এখন বাষট্টি। শাশ্বত সুন্দর সবুজের মধ্...      1   \n",
       "46691  ক্যারিয়ারের প্রথম দ্বিশতক ছুঁতে মাত্র ১৪ রান দ...      1   \n",
       "6176   গোপালগঞ্জের টুঙ্গিপাড়ায় অবৈধভাবে সরকারি হালট ব...      1   \n",
       "...                                                  ...    ...   \n",
       "1294   রাজশাহীর সাহেব বাজার মোড়ে রাতে ঘুমের মধ্যে হাস...      0   \n",
       "1295   IAS পরীক্ষায় এমন এমন অবাক করে দেওয়া প্রশ্ন এসে...      0   \n",
       "1296   শাওমি মোবাইল ফোন বিস্ফোরণ হয়ে স্বপ্নীল মজুমদা...      0   \n",
       "1297   আপনাকে নতুন মন্ত্রিসভার সদস্যদের অভিনন্দন জানা...      0   \n",
       "1298   বিমান যখন আকাশে তখন আর কোনও দিকে খেয়াল না রেখ...      0   \n",
       "\n",
       "                                  source   relation      F-type  \n",
       "45178                                NaN        NaN         NaN  \n",
       "36839                                NaN        NaN         NaN  \n",
       "3823                            reporter    Related         NaN  \n",
       "46691                                NaN        NaN         NaN  \n",
       "6176   টুঙ্গিপাড়ার সহকারী কমিশনার (ভূমি)    Related         NaN  \n",
       "...                                  ...        ...         ...  \n",
       "1294                            Reporter  Unrelated      Satire  \n",
       "1295                            Reporter  Unrelated  Clickbaits  \n",
       "1296       ফেনী ফায়ার স্টেশনের ইনচার্জ   Unrelated      Satire  \n",
       "1297                            Reporter    Related      Satire  \n",
       "1298           মুম্বাই বিমানবন্দর সূত্র   Unrelated      Satire  \n",
       "\n",
       "[5196 rows x 10 columns]"
      ]
     },
     "execution_count": 32,
     "metadata": {},
     "output_type": "execute_result"
    }
   ],
   "source": [
    "df"
   ]
  },
  {
   "cell_type": "code",
   "execution_count": 33,
   "id": "23fbb740",
   "metadata": {},
   "outputs": [],
   "source": [
    "text = df['content'].values.tolist()"
   ]
  },
  {
   "cell_type": "code",
   "execution_count": 34,
   "id": "73914a34",
   "metadata": {},
   "outputs": [
    {
     "data": {
      "text/html": [
       "<div>\n",
       "<style scoped>\n",
       "    .dataframe tbody tr th:only-of-type {\n",
       "        vertical-align: middle;\n",
       "    }\n",
       "\n",
       "    .dataframe tbody tr th {\n",
       "        vertical-align: top;\n",
       "    }\n",
       "\n",
       "    .dataframe thead tr th {\n",
       "        text-align: left;\n",
       "    }\n",
       "\n",
       "    .dataframe thead tr:last-of-type th {\n",
       "        text-align: right;\n",
       "    }\n",
       "</style>\n",
       "<table border=\"1\" class=\"dataframe\">\n",
       "  <thead>\n",
       "    <tr>\n",
       "      <th></th>\n",
       "      <th colspan=\"8\" halign=\"left\">articleID</th>\n",
       "    </tr>\n",
       "    <tr>\n",
       "      <th></th>\n",
       "      <th>count</th>\n",
       "      <th>mean</th>\n",
       "      <th>std</th>\n",
       "      <th>min</th>\n",
       "      <th>25%</th>\n",
       "      <th>50%</th>\n",
       "      <th>75%</th>\n",
       "      <th>max</th>\n",
       "    </tr>\n",
       "    <tr>\n",
       "      <th>label</th>\n",
       "      <th></th>\n",
       "      <th></th>\n",
       "      <th></th>\n",
       "      <th></th>\n",
       "      <th></th>\n",
       "      <th></th>\n",
       "      <th></th>\n",
       "      <th></th>\n",
       "    </tr>\n",
       "  </thead>\n",
       "  <tbody>\n",
       "    <tr>\n",
       "      <th>0</th>\n",
       "      <td>2598.0</td>\n",
       "      <td>653.268668</td>\n",
       "      <td>377.032471</td>\n",
       "      <td>1.0</td>\n",
       "      <td>326.25</td>\n",
       "      <td>653.0</td>\n",
       "      <td>978.75</td>\n",
       "      <td>1307.0</td>\n",
       "    </tr>\n",
       "    <tr>\n",
       "      <th>1</th>\n",
       "      <td>2598.0</td>\n",
       "      <td>27133.357198</td>\n",
       "      <td>18971.590449</td>\n",
       "      <td>2.0</td>\n",
       "      <td>8411.75</td>\n",
       "      <td>25345.5</td>\n",
       "      <td>44216.00</td>\n",
       "      <td>61739.0</td>\n",
       "    </tr>\n",
       "  </tbody>\n",
       "</table>\n",
       "</div>"
      ],
      "text/plain": [
       "      articleID                                                               \\\n",
       "          count          mean           std  min      25%      50%       75%   \n",
       "label                                                                          \n",
       "0        2598.0    653.268668    377.032471  1.0   326.25    653.0    978.75   \n",
       "1        2598.0  27133.357198  18971.590449  2.0  8411.75  25345.5  44216.00   \n",
       "\n",
       "                \n",
       "           max  \n",
       "label           \n",
       "0       1307.0  \n",
       "1      61739.0  "
      ]
     },
     "execution_count": 34,
     "metadata": {},
     "output_type": "execute_result"
    }
   ],
   "source": [
    "df.groupby(\"label\").describe()"
   ]
  },
  {
   "cell_type": "code",
   "execution_count": 35,
   "id": "9367651b",
   "metadata": {},
   "outputs": [
    {
     "data": {
      "text/plain": [
       "1    2598\n",
       "0    2598\n",
       "Name: label, dtype: int64"
      ]
     },
     "execution_count": 35,
     "metadata": {},
     "output_type": "execute_result"
    }
   ],
   "source": [
    "df[\"label\"].value_counts()"
   ]
  },
  {
   "cell_type": "code",
   "execution_count": 36,
   "id": "17a8951f",
   "metadata": {},
   "outputs": [
    {
     "name": "stderr",
     "output_type": "stream",
     "text": [
      "C:\\Users\\RAZER\\anaconda3\\lib\\site-packages\\seaborn\\_decorators.py:36: FutureWarning: Pass the following variable as a keyword arg: x. From version 0.12, the only valid positional argument will be `data`, and passing other arguments without an explicit keyword will result in an error or misinterpretation.\n",
      "  warnings.warn(\n"
     ]
    },
    {
     "data": {
      "image/png": "[encoded data removed]",
      "text/plain": [
       "<Figure size 576x432 with 1 Axes>"
      ]
     },
     "metadata": {
      "needs_background": "light"
     },
     "output_type": "display_data"
    }
   ],
   "source": [
    "plt.subplots(figsize=(8,6))\n",
    "sns.countplot(df[\"label\"])\n",
    "plt.show()"
   ]
  },
  {
   "cell_type": "code",
   "execution_count": 37,
   "id": "8dd4d10d",
   "metadata": {},
   "outputs": [
    {
     "name": "stdout",
     "output_type": "stream",
     "text": [
      "17719\n"
     ]
    }
   ],
   "source": [
    "longest_string = max(df[\"content\"], key=len)\n",
    "print(len(longest_string))"
   ]
  },
  {
   "cell_type": "code",
   "execution_count": 38,
   "id": "5a02d478",
   "metadata": {},
   "outputs": [],
   "source": [
    "#importing libraries for data cleaning\n",
    "import nltk\n",
    "from bs4 import BeautifulSoup\n",
    "import re,string,unicodedata"
   ]
  },
  {
   "cell_type": "code",
   "execution_count": 39,
   "id": "9fcb0c21",
   "metadata": {},
   "outputs": [
    {
     "name": "stderr",
     "output_type": "stream",
     "text": [
      "C:\\Users\\RAZER\\anaconda3\\lib\\site-packages\\bs4\\__init__.py:435: MarkupResemblesLocatorWarning: The input looks more like a filename than markup. You may want to open this file and pass the filehandle into Beautiful Soup.\n",
      "  warnings.warn(\n"
     ]
    }
   ],
   "source": [
    "#Removing the html strips\n",
    "def strip_html(text):\n",
    "    soup = BeautifulSoup(text, \"html.parser\")\n",
    "    return soup.get_text()\n",
    "\n",
    "#Removing the square brackets\n",
    "def remove_between_square_brackets(text):\n",
    "    return re.sub('\\[[^]]*\\]', '', text)\n",
    "\n",
    "#Removing the noisy text\n",
    "def denoise_text(text):\n",
    "    text = strip_html(text)\n",
    "    text = remove_between_square_brackets(text)\n",
    "    return text\n",
    "#Apply function on description column\n",
    "df['content']=df['content'].apply(denoise_text)"
   ]
  },
  {
   "cell_type": "code",
   "execution_count": 40,
   "id": "be664942",
   "metadata": {},
   "outputs": [],
   "source": [
    "#remove special character\n",
    "def rem_special_characters(text):\n",
    "    pattern = re.compile('[!@#$%^&*()_+-={}\\[\\];:\\'\\\"\\|<>,.///?`~।]', flags=re.I)\n",
    "    return pattern.sub(r'', text)\n",
    "#remove non bangla character\n",
    "def rem_non_bangla_characters(text):\n",
    "    pattern = re.compile('[A-Z]', flags=re.I)\n",
    "    return pattern.sub(r'', text)\n",
    "#remove non empticons character\n",
    "def rem_emoticons(text):\n",
    "    regrex_pattern = re.compile(pattern = \"[\"\n",
    "        u\"\\U0001F600-\\U0001F64F\"  # emoticons\n",
    "        u\"\\U0001F300-\\U0001F5FF\"  # symbols & pictographs\n",
    "        u\"\\U0001F680-\\U0001F6FF\"  # transport & map symbols\n",
    "        u\"\\U0001F1E0-\\U0001F1FF\"  # flags (iOS)\n",
    "                           \"]+\", flags = re.UNICODE)\n",
    "    return regrex_pattern.sub(r'',text)\n",
    "\n",
    "#remove noise\n",
    "def Remove_text(text):\n",
    "    text = rem_special_characters(text)\n",
    "    text = rem_non_bangla_characters(text)\n",
    "    text = rem_emoticons(text)\n",
    "    return text\n",
    "#Apply function on description column\n",
    "df['content']=df['content'].apply(Remove_text)"
   ]
  },
  {
   "cell_type": "code",
   "execution_count": 41,
   "id": "e5baeb66",
   "metadata": {},
   "outputs": [
    {
     "data": {
      "text/plain": [
       "45178    দীর্ঘদিন ধরেই বার্ধক্যজনিত নানা অসুখে আক্রান্ত...\n",
       "36839    ইলিশের প্রজনন সময় শুরু হওয়ায় লক্ষ্মীপুরের মেঘন...\n",
       "3823     আমার বয়স এখন বাষট্টি শাশ্বত সুন্দর সবুজের মধ্য...\n",
       "46691    ক্যারিয়ারের প্রথম দ্বিশতক ছুঁতে মাত্র ১৪ রান দ...\n",
       "6176     গোপালগঞ্জের টুঙ্গিপাড়ায় অবৈধভাবে সরকারি হালট ব...\n",
       "                               ...                        \n",
       "1294     রাজশাহীর সাহেব বাজার মোড়ে রাতে ঘুমের মধ্যে হাস...\n",
       "1295      পরীক্ষায় এমন এমন অবাক করে দেওয়া প্রশ্ন এসেছে ...\n",
       "1296     শাওমি মোবাইল ফোন বিস্ফোরণ হয়ে স্বপ্নীল মজুমদা...\n",
       "1297     আপনাকে নতুন মন্ত্রিসভার সদস্যদের অভিনন্দন জানা...\n",
       "1298     বিমান যখন আকাশে তখন আর কোনও দিকে খেয়াল না রেখ...\n",
       "Name: content, Length: 5196, dtype: object"
      ]
     },
     "execution_count": 41,
     "metadata": {},
     "output_type": "execute_result"
    }
   ],
   "source": [
    "df['content']"
   ]
  },
  {
   "cell_type": "code",
   "execution_count": 42,
   "id": "afced9f3",
   "metadata": {},
   "outputs": [
    {
     "name": "stdout",
     "output_type": "stream",
     "text": [
      "17229\n"
     ]
    }
   ],
   "source": [
    "#checking longest sting size\n",
    "longest_string = max(df[\"content\"], key=len)\n",
    "print(len(longest_string))"
   ]
  },
  {
   "cell_type": "code",
   "execution_count": 43,
   "id": "cf6d8169",
   "metadata": {},
   "outputs": [
    {
     "name": "stderr",
     "output_type": "stream",
     "text": [
      "C:\\Users\\RAZER\\AppData\\Local\\Temp\\ipykernel_16892\\3308837054.py:1: SettingWithCopyWarning: \n",
      "A value is trying to be set on a copy of a slice from a DataFrame\n",
      "\n",
      "See the caveats in the documentation: https://pandas.pydata.org/pandas-docs/stable/user_guide/indexing.html#returning-a-view-versus-a-copy\n",
      "  df.label[df.label == 1]=\"real\"\n"
     ]
    }
   ],
   "source": [
    "df.label[df.label == 1]=\"real\"\n",
    "df.label[df.label == 0]=\"fake\""
   ]
  },
  {
   "cell_type": "code",
   "execution_count": 44,
   "id": "2fd1d060",
   "metadata": {},
   "outputs": [
    {
     "data": {
      "text/plain": [
       "45178    real\n",
       "36839    real\n",
       "3823     real\n",
       "46691    real\n",
       "6176     real\n",
       "         ... \n",
       "1294     fake\n",
       "1295     fake\n",
       "1296     fake\n",
       "1297     fake\n",
       "1298     fake\n",
       "Name: label, Length: 5196, dtype: object"
      ]
     },
     "execution_count": 44,
     "metadata": {},
     "output_type": "execute_result"
    }
   ],
   "source": [
    "df['label']"
   ]
  },
  {
   "cell_type": "code",
   "execution_count": 45,
   "id": "77143afb",
   "metadata": {},
   "outputs": [
    {
     "data": {
      "text/html": [
       "<div>\n",
       "<style scoped>\n",
       "    .dataframe tbody tr th:only-of-type {\n",
       "        vertical-align: middle;\n",
       "    }\n",
       "\n",
       "    .dataframe tbody tr th {\n",
       "        vertical-align: top;\n",
       "    }\n",
       "\n",
       "    .dataframe thead th {\n",
       "        text-align: right;\n",
       "    }\n",
       "</style>\n",
       "<table border=\"1\" class=\"dataframe\">\n",
       "  <thead>\n",
       "    <tr style=\"text-align: right;\">\n",
       "      <th></th>\n",
       "      <th>label</th>\n",
       "      <th>Text_label</th>\n",
       "    </tr>\n",
       "  </thead>\n",
       "  <tbody>\n",
       "    <tr>\n",
       "      <th>45178</th>\n",
       "      <td>real</td>\n",
       "      <td>1</td>\n",
       "    </tr>\n",
       "    <tr>\n",
       "      <th>36839</th>\n",
       "      <td>real</td>\n",
       "      <td>1</td>\n",
       "    </tr>\n",
       "    <tr>\n",
       "      <th>3823</th>\n",
       "      <td>real</td>\n",
       "      <td>1</td>\n",
       "    </tr>\n",
       "    <tr>\n",
       "      <th>46691</th>\n",
       "      <td>real</td>\n",
       "      <td>1</td>\n",
       "    </tr>\n",
       "    <tr>\n",
       "      <th>6176</th>\n",
       "      <td>real</td>\n",
       "      <td>1</td>\n",
       "    </tr>\n",
       "    <tr>\n",
       "      <th>31871</th>\n",
       "      <td>real</td>\n",
       "      <td>1</td>\n",
       "    </tr>\n",
       "    <tr>\n",
       "      <th>5812</th>\n",
       "      <td>real</td>\n",
       "      <td>1</td>\n",
       "    </tr>\n",
       "    <tr>\n",
       "      <th>1865</th>\n",
       "      <td>real</td>\n",
       "      <td>1</td>\n",
       "    </tr>\n",
       "    <tr>\n",
       "      <th>15613</th>\n",
       "      <td>real</td>\n",
       "      <td>1</td>\n",
       "    </tr>\n",
       "    <tr>\n",
       "      <th>14440</th>\n",
       "      <td>real</td>\n",
       "      <td>1</td>\n",
       "    </tr>\n",
       "    <tr>\n",
       "      <th>46628</th>\n",
       "      <td>real</td>\n",
       "      <td>1</td>\n",
       "    </tr>\n",
       "  </tbody>\n",
       "</table>\n",
       "</div>"
      ],
      "text/plain": [
       "      label  Text_label\n",
       "45178  real           1\n",
       "36839  real           1\n",
       "3823   real           1\n",
       "46691  real           1\n",
       "6176   real           1\n",
       "31871  real           1\n",
       "5812   real           1\n",
       "1865   real           1\n",
       "15613  real           1\n",
       "14440  real           1\n",
       "46628  real           1"
      ]
     },
     "execution_count": 45,
     "metadata": {},
     "output_type": "execute_result"
    }
   ],
   "source": [
    "from sklearn.preprocessing import LabelEncoder\n",
    "\n",
    "lb_make = LabelEncoder()\n",
    "df[\"Text_label\"] = lb_make.fit_transform(df[\"label\"])\n",
    "df[[\"label\", \"Text_label\"]].head(11)"
   ]
  },
  {
   "cell_type": "code",
   "execution_count": 46,
   "id": "699e5e06",
   "metadata": {},
   "outputs": [
    {
     "data": {
      "text/plain": [
       "real    2598\n",
       "fake    2598\n",
       "Name: label, dtype: int64"
      ]
     },
     "execution_count": 46,
     "metadata": {},
     "output_type": "execute_result"
    }
   ],
   "source": [
    "df[\"label\"].value_counts()"
   ]
  },
  {
   "cell_type": "code",
   "execution_count": 47,
   "id": "f5084f38",
   "metadata": {},
   "outputs": [],
   "source": [
    "#fuction for tokenizing text\n",
    "def tokenized_data(sent):\n",
    "    tokenized_text = sent.split()\n",
    "    return tokenized_text"
   ]
  },
  {
   "cell_type": "code",
   "execution_count": 48,
   "id": "646797dc",
   "metadata": {},
   "outputs": [],
   "source": [
    "stop_words = { \"অবশ্য\" ,\"অনেক\",\"অনেকে\",\"অনেকেই\",\"অন্তত\",\"অথবা\",\"অথচ\",\"অর্থাত\",\"অন্য\",\"আজ\",\"আছে\",\"আপনার\",\"আপনি\",\"আবার\",\"আমরা\"\n",
    "\"আমাকে\",\"আমাদের\",\"আমার\",\"আমি\",\"আরও\",\"আর\",\"আগে\",\"আগেই\",\"আই\",\"অতএব\",\"আগামী\",\"অবধি\",\"অনুযায়ী\",\"আদ্যভাগে\",\"এই\",\"একই\",\"একে\",\n",
    "\"একটি\",\"এখন\",\"এখনও\",\"এখানে\",\"এখানেই\",\"এটি\",\"এটা\",\"এটাই\",\"এতটাই\",\"এবং\",\"একবার\",\"এবার\",\"এদের\",\"এঁদের\",\"এমন\",\"এমনকী\",\"এল\",\n",
    "\"এর\",\"এরা\",\"এঁরা\",\"এস\",\"এত\",\"এতে\",\"এসে\",\"একে\",\"এ\",\"ঐ\",\"ই\",\"ইহা\",\"ইত্যাদি\",\"উনি\",\"উপর\",\"উপরে\",\"উচিত\",\"ও\",\"ওই\",\"ওর\",\"ওরা\",\"ওঁর\",\"ওঁরা\",\n",
    "\"ওকে\",\"ওদের\",\"ওঁদের\",\"ওখানে\",'কত',\"কবে\",'করতে',\"কয়েক\"\"কয়েকটি\",\"করবে\",\"করলেন\",\"করার\",\"কারও\",\"করা\",\"করি\",\"করিয়ে\",\"করার\",\n",
    "\"করাই\",\"করলে\",\"করলেন\",\"করিতে\",\"করিয়া\",\"করেছিলেন\",\"করছে\",\"করছেন\",\"করেছেন\",\"করেছে\",\"করেন\",\"করবেন\",\"করায়\",\"করে\",\"করেই\",\n",
    "\"কাছ\",\"কাছে\",\"কাজে\",\"কারণ\",\"কিছু\",\"কিছুই\",\"কিন্তু\",\"কিংবা\",\"কি\",\"কী\",\"কেউ\",\"কেউই\",\"কাউকে\",\"কেন\",\"কে\",\"কোনও\",\"কোনো\",\"কোন\",\n",
    "\"কখনও\",\"ক্ষেত্রে\",\"খুব\",\"গুলি\",\"গিয়ে\",\"গিয়েছে\",\"গেছে\",\"গেল\",\"গেলে\",\"গোটা\",\"চলে\",\"ছাড়া\",\"ছাড়াও\",\"ছিলেন\",\"ছিল\",\"জন্য\",\"জানা\",\"ঠিক\",\"তিনি\",\n",
    "\"তিনঐ\",\"তিনিও\",\"তখন\",\"তবে\",\"তবু\",\"তাঁদের\",\"তাঁাহারা\",\"তাঁরা\",\"তাঁর\",\"তাঁকে\",\"তাই\",\"তেমন\",\"তাকে\",\"তাহা\",\"তাহাতে\",\"তাহার\",\"তাদের\",\"তারপর\",\n",
    "\"তারা\",\"তারৈ\",\"তার\",\"তাহলে\",\"তিনি\",\"তা\",\"তাও\",\"তাতে\",\"তো\",\"তত\",\"তুমি\",\"তোমার\",\"তথা\",\"থাকে\",\"থাকা\",\"থাকায়\",\"থেকে\",\"থেকেও\",\"থাকবে\",\n",
    "\"থাকেন\",\"থাকবেন\",\"থেকেই\",\"দিকে\",\"দিতে\",\"দিয়ে\",\"দিয়েছে\",\"দিয়েছেন\",\"দিলেন\",\"দু\",\"দুটি\",\"দুটো\",\"দেয়\",\"দেওয়া\",\"দেওয়ার\",\"দেখা\",\"দেখে\",\"দেখতে\",\n",
    "\"দ্বারা\",\"ধরে\",\"ধরা\",\"নয়\",\"নানা\",\"না\",\"নাকি\",\"নাগাদ\",\"নিতে\",\"নিজে\",\"নিজেই\",\"নিজের\",\"নিজেদের\",\"নিয়ে\",\"নেওয়া\",\"নেওয়ার\",\"নেই\",\"নাই\",\"পক্ষে\",\n",
    "\"পর্যন্ত\",\"পাওয়া\",\"পারেন\",\"পারি\",\"পারে\",\"পরে\",\"পরেই\",\"পরেও\",\"পর\",\"পেয়ে\",\"প্রতি\",\"প্রভৃতি\",\"প্রায়\",\"ফের\",\"ফলে\",\"ফিরে\",\"ব্যবহার\",\"বলতে\",\n",
    "\"বললেন\",\"বলেছেন\",\"বলল\",\"বলা\",\"বলেন\",\"বলে\",\"বহু\",\"বসে\",\"বার\",\"বা\",\"বিনা\",\"বরং\",\"বদলে\",\"বাদে\",\"বার\",\"বিশেষ\",\"বিভিন্ন\",\"বিষয়টি\",\"ব্যবহার\",\"ব্যাপারে\"\"ভাবে\",\"ভাবেই\",\"মধ্যে\",\"মধ্যেই\",\n",
    "\"মধ্যেও\",\"মধ্যভাগে\",\"মাধ্যমে\",\"মাত্র\",\"মতো\",\"মতোই\",\"মোটেই\",\"যখন\",\"যদি\",\"যদিও\",\"যাবে\",\"যায়\",\"যাকে\",\"যাওয়া\",\"যাওয়ার\",\"যত\",\"যতটা\",\"যা\",\"যার\",\n",
    "\"যারা\",\"যাঁর\",\"যাঁরা\",\"যাদের\",\"যান\",\"যাচ্ছে\",\"যেতে\",\"যাতে\",\"যেন\",\"যেমন\",\"যেখানে\",\"যিনি\",\"যে\",\"রেখে\",\"রাখা\",\"রয়েছে\",\"রকম\",\"শুধু\",\"সঙ্গে\",\n",
    "\"সঙ্গেও\",\"সমস্ত\",\"সব\",\"সবার\",\"সহ\",\"সুতরাং\",\"সহিত\",\"সেই\",\"সেটা\",\"সেটি\",\"সেটাই\",\"সেটাও\",\"সম্প্রতি\",\"সেখান\",\"সেখানে\",\"সে\",\"স্পষ্ট\",\"স্বয়ং\",\"হইতে\",\n",
    "\"হইবে\",\"হৈলে\",\"হইয়া\",\"হচ্ছে\",\"হত\",\"হতে\",\"হতেই\",\"হবে\",\"হবেন\",\"হয়েছিল\",\"হয়েছে\",\"হয়েছেন\",\"হয়ে\",\"হয়নি\",\"হয়\",\"হয়েই\",\"হয়তো\",\"হল\",\"হলে\",\n",
    "\"হলেই\",\"হলেও\",\"হলো\",\"হিসাবে\",\"হওয়া\",\"হওয়ার\",\"হওয়ায়\",\"হন\",\"হোক\",\"জন\",\"জনকে\",\"জনের\",\"জানতে\",\"জানায়\",\"জানিয়ে\",\"জানানো\",\"জানিয়েছে\",\n",
    "\"জন্য\",\"জন্যওজে\",\"জে\",\"বেশ\",\"দেন\",\"তুলে\",\"ছিলেন\",\"চান\",\"চায়\",\"চেয়ে\",\"মোট\",\"যথেষ্ট\",\"টি\"}"
   ]
  },
  {
   "cell_type": "code",
   "execution_count": 49,
   "id": "cfe207ea",
   "metadata": {},
   "outputs": [],
   "source": [
    "def remove_stop_words(text):\n",
    "    text = [w for w in text if not w in stop_words]\n",
    "    text = ' '.join(text)\n",
    "    return text"
   ]
  },
  {
   "cell_type": "code",
   "execution_count": 50,
   "id": "ac01a639",
   "metadata": {},
   "outputs": [],
   "source": [
    "df['content'] = [remove_stop_words(tokenized_data(sent)) for sent in df['content'].tolist()]"
   ]
  },
  {
   "cell_type": "code",
   "execution_count": 51,
   "id": "86985733",
   "metadata": {
    "scrolled": true
   },
   "outputs": [
    {
     "name": "stdout",
     "output_type": "stream",
     "text": [
      "14550\n"
     ]
    }
   ],
   "source": [
    "longest_string = max(df[\"content\"], key=len)\n",
    "print(len(longest_string))"
   ]
  },
  {
   "cell_type": "code",
   "execution_count": 52,
   "id": "b7ffc464",
   "metadata": {},
   "outputs": [],
   "source": [
    "text = df[\"content\"]"
   ]
  },
  {
   "cell_type": "code",
   "execution_count": 53,
   "id": "4f61532a",
   "metadata": {},
   "outputs": [
    {
     "data": {
      "text/plain": [
       "45178    দীর্ঘদিন ধরেই বার্ধক্যজনিত অসুখে আক্রান্ত বলিউ...\n",
       "36839    ইলিশের প্রজনন সময় শুরু লক্ষ্মীপুরের মেঘনায় ইলি...\n",
       "3823     বয়স বাষট্টি শাশ্বত সুন্দর সবুজের নেতিয়ে পড়া এক...\n",
       "46691    ক্যারিয়ারের প্রথম দ্বিশতক ছুঁতে ১৪ রান দূরে ক্...\n",
       "6176     গোপালগঞ্জের টুঙ্গিপাড়ায় অবৈধভাবে সরকারি হালট ব...\n",
       "                               ...                        \n",
       "1294     রাজশাহীর সাহেব বাজার মোড়ে রাতে ঘুমের হাসানুল ন...\n",
       "1295     পরীক্ষায় অবাক প্রশ্ন এসেছে দেখলে নিজেরই মাথায় ...\n",
       "1296     শাওমি মোবাইল ফোন বিস্ফোরণ হয়ে স্বপ্নীল মজুমদা...\n",
       "1297     আপনাকে নতুন মন্ত্রিসভার সদস্যদের অভিনন্দন জানা...\n",
       "1298     বিমান আকাশে খেয়াল শিশু পর্নোগ্রাফির অ্যাপ ডাউ...\n",
       "Name: content, Length: 5196, dtype: object"
      ]
     },
     "execution_count": 53,
     "metadata": {},
     "output_type": "execute_result"
    }
   ],
   "source": [
    "text"
   ]
  },
  {
   "cell_type": "code",
   "execution_count": 54,
   "id": "ec320938",
   "metadata": {
    "scrolled": true
   },
   "outputs": [
    {
     "data": {
      "text/plain": [
       "(5196, 11457)"
      ]
     },
     "execution_count": 54,
     "metadata": {},
     "output_type": "execute_result"
    }
   ],
   "source": [
    "import sklearn\n",
    "vectorizer = sklearn.feature_extraction.text.TfidfVectorizer(lowercase=False)\n",
    "train_tfidf = vectorizer.fit_transform(text) # converting transformed vectors into tf-idf vectors\n",
    "train_tfidf.shape #vector shape"
   ]
  },
  {
   "cell_type": "code",
   "execution_count": 55,
   "id": "b5ca4e4c",
   "metadata": {},
   "outputs": [],
   "source": [
    "#train test split\n",
    "from sklearn.model_selection import train_test_split"
   ]
  },
  {
   "cell_type": "code",
   "execution_count": 56,
   "id": "18282b5d",
   "metadata": {},
   "outputs": [],
   "source": [
    "X_train, X_test, y_train, y_test = train_test_split(train_tfidf, df['Text_label'],stratify=df['Text_label'], test_size=0.2, random_state=42)\n",
    "\n",
    "Y_pre = df['label']\n",
    "target_names = list(set(Y_pre))"
   ]
  },
  {
   "cell_type": "code",
   "execution_count": 57,
   "id": "55a97594",
   "metadata": {
    "scrolled": true
   },
   "outputs": [
    {
     "data": {
      "text/plain": [
       "real    2598\n",
       "fake    2598\n",
       "Name: label, dtype: int64"
      ]
     },
     "execution_count": 57,
     "metadata": {},
     "output_type": "execute_result"
    }
   ],
   "source": [
    "Y_pre.value_counts()"
   ]
  },
  {
   "cell_type": "code",
   "execution_count": 58,
   "id": "8683a063",
   "metadata": {
    "scrolled": true
   },
   "outputs": [
    {
     "data": {
      "text/plain": [
       "['fake', 'real']"
      ]
     },
     "execution_count": 58,
     "metadata": {},
     "output_type": "execute_result"
    }
   ],
   "source": [
    "target_names"
   ]
  },
  {
   "cell_type": "code",
   "execution_count": 59,
   "id": "81f576ca",
   "metadata": {},
   "outputs": [
    {
     "data": {
      "text/plain": [
       "<4156x11457 sparse matrix of type '<class 'numpy.float64'>'\n",
       "\twith 344431 stored elements in Compressed Sparse Row format>"
      ]
     },
     "execution_count": 59,
     "metadata": {},
     "output_type": "execute_result"
    }
   ],
   "source": [
    "X_train"
   ]
  },
  {
   "cell_type": "code",
   "execution_count": 60,
   "id": "7317b086",
   "metadata": {},
   "outputs": [
    {
     "data": {
      "text/plain": [
       "0    2078\n",
       "1    2078\n",
       "Name: Text_label, dtype: int64"
      ]
     },
     "execution_count": 60,
     "metadata": {},
     "output_type": "execute_result"
    }
   ],
   "source": [
    "y_train.value_counts()"
   ]
  },
  {
   "cell_type": "code",
   "execution_count": 61,
   "id": "117096c0",
   "metadata": {},
   "outputs": [
    {
     "data": {
      "text/plain": [
       "1    520\n",
       "0    520\n",
       "Name: Text_label, dtype: int64"
      ]
     },
     "execution_count": 61,
     "metadata": {},
     "output_type": "execute_result"
    }
   ],
   "source": [
    "y_test.value_counts()"
   ]
  },
  {
   "cell_type": "code",
   "execution_count": 62,
   "id": "8d6fa472",
   "metadata": {},
   "outputs": [],
   "source": [
    "from sklearn.naive_bayes import MultinomialNB\n",
    "from sklearn.metrics import classification_report\n",
    "from sklearn.metrics import confusion_matrix, accuracy_score"
   ]
  },
  {
   "cell_type": "code",
   "execution_count": 63,
   "id": "3bae7e2d",
   "metadata": {},
   "outputs": [],
   "source": [
    "import seaborn as sn"
   ]
  },
  {
   "cell_type": "code",
   "execution_count": 64,
   "id": "9f0279a4",
   "metadata": {},
   "outputs": [
    {
     "name": "stdout",
     "output_type": "stream",
     "text": [
      "Test set accuracy 0.8942307692307693\n",
      "              precision    recall  f1-score   support\n",
      "\n",
      "        fake       0.88      0.91      0.90       520\n",
      "        real       0.91      0.88      0.89       520\n",
      "\n",
      "    accuracy                           0.89      1040\n",
      "   macro avg       0.89      0.89      0.89      1040\n",
      "weighted avg       0.89      0.89      0.89      1040\n",
      "\n"
     ]
    },
    {
     "data": {
      "image/png": "[encoded data removed]",
      "text/plain": [
       "<Figure size 1584x864 with 2 Axes>"
      ]
     },
     "metadata": {},
     "output_type": "display_data"
    }
   ],
   "source": [
    "#naive bayes model\n",
    "NBclassifer = MultinomialNB()\n",
    "NBclassifer.fit(X_train, y_train)\n",
    "y_pred = NBclassifer.predict(X_test)\n",
    "print('Test set accuracy %s' % accuracy_score(y_test, y_pred))\n",
    "cr = classification_report(y_test, y_pred, target_names=target_names)\n",
    "print(cr)\n",
    "\n",
    "\n",
    "# ------------------------------------------------------------------------------ #\n",
    "\n",
    "cm = confusion_matrix(y_test, y_pred)\n",
    "cm = (cm.T / cm.astype(float).sum(axis=1)).T\n",
    "\n",
    "df_cm = pd.DataFrame(cm, range(len(target_names)), range(len(target_names)))\n",
    "with sn.axes_style(\"white\"):\n",
    "    plt.figure(figsize = (22,12))\n",
    "    ax = sn.heatmap(df_cm, annot=True, xticklabels=target_names, yticklabels=target_names, vmax=1,  cmap=sn.cubehelix_palette(10))\n",
    "    ax.set_xticklabels(ax.get_xticklabels(), rotation=0)\n",
    "    fig = ax.get_figure()\n",
    "  "
   ]
  },
  {
   "cell_type": "code",
   "execution_count": 65,
   "id": "780e6cd6",
   "metadata": {},
   "outputs": [],
   "source": [
    "from sklearn.svm import SVC"
   ]
  },
  {
   "cell_type": "code",
   "execution_count": 66,
   "id": "7daac7fc",
   "metadata": {},
   "outputs": [
    {
     "name": "stdout",
     "output_type": "stream",
     "text": [
      "Test set accuracy 0.9182692307692307\n",
      "              precision    recall  f1-score   support\n",
      "\n",
      "        fake       0.91      0.93      0.92       520\n",
      "        real       0.92      0.91      0.92       520\n",
      "\n",
      "    accuracy                           0.92      1040\n",
      "   macro avg       0.92      0.92      0.92      1040\n",
      "weighted avg       0.92      0.92      0.92      1040\n",
      "\n"
     ]
    },
    {
     "data": {
      "image/png": "[encoded data removed]",
      "text/plain": [
       "<Figure size 1584x864 with 2 Axes>"
      ]
     },
     "metadata": {},
     "output_type": "display_data"
    }
   ],
   "source": [
    "#SVM model\n",
    "SVclassifer = SVC(kernel='linear')\n",
    "SVclassifer.fit(X_train, y_train)\n",
    "y_pred = SVclassifer.predict(X_test)\n",
    "print('Test set accuracy %s' % accuracy_score(y_test, y_pred))\n",
    "cr = classification_report(y_test, y_pred, target_names=target_names)\n",
    "print(cr)\n",
    "\n",
    "# ------------------------------------------------------------------------------ #\n",
    "\n",
    "cm = confusion_matrix(y_test, y_pred)\n",
    "cm = (cm.T / cm.astype(float).sum(axis=1)).T\n",
    "\n",
    "df_cm = pd.DataFrame(cm, range(len(target_names)), range(len(target_names)))\n",
    "with sn.axes_style(\"white\"):\n",
    "    plt.figure(figsize = (22,12))\n",
    "    ax = sn.heatmap(df_cm, annot=True, xticklabels=target_names, yticklabels=target_names, vmax=1,  cmap=sn.cubehelix_palette(10))\n",
    "    ax.set_xticklabels(ax.get_xticklabels(), rotation=0)\n",
    "    fig = ax.get_figure()\n"
   ]
  },
  {
   "cell_type": "code",
   "execution_count": 67,
   "id": "59d93989",
   "metadata": {
    "scrolled": true
   },
   "outputs": [],
   "source": [
    "from xgboost import XGBClassifier"
   ]
  },
  {
   "cell_type": "code",
   "execution_count": 68,
   "id": "d24f497a",
   "metadata": {},
   "outputs": [
    {
     "name": "stdout",
     "output_type": "stream",
     "text": [
      "Test set accuracy 0.948076923076923\n",
      "              precision    recall  f1-score   support\n",
      "\n",
      "        fake       0.93      0.97      0.95       520\n",
      "        real       0.97      0.92      0.95       520\n",
      "\n",
      "    accuracy                           0.95      1040\n",
      "   macro avg       0.95      0.95      0.95      1040\n",
      "weighted avg       0.95      0.95      0.95      1040\n",
      "\n"
     ]
    },
    {
     "data": {
      "image/png": "[encoded data removed]",
      "text/plain": [
       "<Figure size 1584x864 with 2 Axes>"
      ]
     },
     "metadata": {},
     "output_type": "display_data"
    }
   ],
   "source": [
    "#XGboost model\n",
    "XGBclassifer = XGBClassifier()\n",
    "XGBclassifer.fit(X_train, y_train)\n",
    "y_pred = XGBclassifer.predict(X_test)\n",
    "print('Test set accuracy %s' % accuracy_score(y_test, y_pred))\n",
    "cr = classification_report(y_test, y_pred, target_names=target_names)\n",
    "print(cr)\n",
    "\n",
    "# ------------------------------------------------------------------------------ #\n",
    "\n",
    "cm = confusion_matrix(y_test, y_pred)\n",
    "cm = (cm.T / cm.astype(float).sum(axis=1)).T\n",
    "\n",
    "df_cm = pd.DataFrame(cm, range(len(target_names)), range(len(target_names)))\n",
    "with sn.axes_style(\"white\"):\n",
    "    plt.figure(figsize = (22,12))\n",
    "    ax = sn.heatmap(df_cm, annot=True, xticklabels=target_names, yticklabels=target_names, vmax=1,  cmap=sn.cubehelix_palette(10))\n",
    "    ax.set_xticklabels(ax.get_xticklabels(), rotation=0)\n",
    "    fig = ax.get_figure()\n",
    "  \n"
   ]
  },
  {
   "cell_type": "code",
   "execution_count": 69,
   "id": "0330d563",
   "metadata": {},
   "outputs": [],
   "source": [
    "from sklearn.ensemble import AdaBoostClassifier\n"
   ]
  },
  {
   "cell_type": "code",
   "execution_count": 70,
   "id": "ddb497ec",
   "metadata": {},
   "outputs": [
    {
     "name": "stdout",
     "output_type": "stream",
     "text": [
      "Test set accuracy 0.8596153846153847\n",
      "              precision    recall  f1-score   support\n",
      "\n",
      "        fake       0.85      0.87      0.86       520\n",
      "        real       0.87      0.85      0.86       520\n",
      "\n",
      "    accuracy                           0.86      1040\n",
      "   macro avg       0.86      0.86      0.86      1040\n",
      "weighted avg       0.86      0.86      0.86      1040\n",
      "\n"
     ]
    },
    {
     "data": {
      "image/png": "[encoded data removed]",
      "text/plain": [
       "<Figure size 1584x864 with 2 Axes>"
      ]
     },
     "metadata": {},
     "output_type": "display_data"
    }
   ],
   "source": [
    "#Adaboost model\n",
    "ADBclassifer = AdaBoostClassifier(n_estimators=60,\n",
    "                         learning_rate=1)\n",
    "ADBclassifer.fit(X_train, y_train)\n",
    "y_pred = ADBclassifer.predict(X_test)\n",
    "print('Test set accuracy %s' % accuracy_score(y_test, y_pred))\n",
    "cr = classification_report(y_test, y_pred, target_names=target_names)\n",
    "print(cr)\n",
    "\n",
    "# ------------------------------------------------------------------------------ #\n",
    "\n",
    "cm = confusion_matrix(y_test, y_pred)\n",
    "cm = (cm.T / cm.astype(float).sum(axis=1)).T\n",
    "\n",
    "df_cm = pd.DataFrame(cm, range(len(target_names)), range(len(target_names)))\n",
    "with sn.axes_style(\"white\"):\n",
    "    plt.figure(figsize = (22,12))\n",
    "    ax = sn.heatmap(df_cm, annot=True, xticklabels=target_names, yticklabels=target_names, vmax=1,  cmap=sn.cubehelix_palette(10))\n",
    "    ax.set_xticklabels(ax.get_xticklabels(), rotation=0)\n",
    "    fig = ax.get_figure()\n",
    "  \n"
   ]
  },
  {
   "cell_type": "code",
   "execution_count": 71,
   "id": "32cf2afc",
   "metadata": {},
   "outputs": [],
   "source": [
    "from sklearn.tree import DecisionTreeClassifier"
   ]
  },
  {
   "cell_type": "code",
   "execution_count": 72,
   "id": "8c3fa0fc",
   "metadata": {
    "scrolled": false
   },
   "outputs": [
    {
     "name": "stdout",
     "output_type": "stream",
     "text": [
      "Test set accuracy 0.8798076923076923\n",
      "              precision    recall  f1-score   support\n",
      "\n",
      "        fake       0.83      0.95      0.89       520\n",
      "        real       0.95      0.81      0.87       520\n",
      "\n",
      "    accuracy                           0.88      1040\n",
      "   macro avg       0.89      0.88      0.88      1040\n",
      "weighted avg       0.89      0.88      0.88      1040\n",
      "\n"
     ]
    },
    {
     "data": {
      "image/png": "[encoded data removed]",
      "text/plain": [
       "<Figure size 1584x864 with 2 Axes>"
      ]
     },
     "metadata": {},
     "output_type": "display_data"
    }
   ],
   "source": [
    "#decision tree\n",
    "DTclassifer = DecisionTreeClassifier()\n",
    "DTclassifer.fit(X_train, y_train)\n",
    "y_pred = DTclassifer.predict(X_test)\n",
    "print('Test set accuracy %s' % accuracy_score(y_test, y_pred))\n",
    "cr = classification_report(y_test, y_pred, target_names=target_names)\n",
    "print(cr)\n",
    "\n",
    "# ------------------------------------------------------------------------------ #\n",
    "\n",
    "cm = confusion_matrix(y_test, y_pred)\n",
    "cm = (cm.T / cm.astype(float).sum(axis=1)).T\n",
    "\n",
    "df_cm = pd.DataFrame(cm, range(len(target_names)), range(len(target_names)))\n",
    "with sn.axes_style(\"white\"):\n",
    "    plt.figure(figsize = (22,12))\n",
    "    ax = sn.heatmap(df_cm, annot=True, xticklabels=target_names, yticklabels=target_names, vmax=1,  cmap=sn.cubehelix_palette(10))\n",
    "    ax.set_xticklabels(ax.get_xticklabels(), rotation=0)\n",
    "    fig = ax.get_figure()\n",
    "  \n"
   ]
  },
  {
   "cell_type": "code",
   "execution_count": 73,
   "id": "c1d9399d",
   "metadata": {},
   "outputs": [],
   "source": [
    "from sklearn.ensemble import RandomForestClassifier"
   ]
  },
  {
   "cell_type": "code",
   "execution_count": 74,
   "id": "91d06868",
   "metadata": {},
   "outputs": [
    {
     "name": "stdout",
     "output_type": "stream",
     "text": [
      "Test set accuracy 0.9528846153846153\n",
      "              precision    recall  f1-score   support\n",
      "\n",
      "        fake       0.93      0.98      0.95       520\n",
      "        real       0.98      0.93      0.95       520\n",
      "\n",
      "    accuracy                           0.95      1040\n",
      "   macro avg       0.95      0.95      0.95      1040\n",
      "weighted avg       0.95      0.95      0.95      1040\n",
      "\n"
     ]
    },
    {
     "data": {
      "image/png": "[encoded data removed]",
      "text/plain": [
       "<Figure size 1584x864 with 2 Axes>"
      ]
     },
     "metadata": {},
     "output_type": "display_data"
    }
   ],
   "source": [
    "#Random forest\n",
    "RFclassifer = RandomForestClassifier(n_estimators=100)\n",
    "RFclassifer.fit(X_train, y_train)\n",
    "y_pred = RFclassifer.predict(X_test)\n",
    "print('Test set accuracy %s' % accuracy_score(y_test, y_pred))\n",
    "cr = classification_report(y_test, y_pred, target_names=target_names)\n",
    "print(cr)\n",
    "\n",
    "# ------------------------------------------------------------------------------ #\n",
    "\n",
    "cm = confusion_matrix(y_test, y_pred)\n",
    "cm = (cm.T / cm.astype(float).sum(axis=1)).T\n",
    "\n",
    "df_cm = pd.DataFrame(cm, range(len(target_names)), range(len(target_names)))\n",
    "with sn.axes_style(\"white\"):\n",
    "    plt.figure(figsize = (22,12))\n",
    "    ax = sn.heatmap(df_cm, annot=True, xticklabels=target_names, yticklabels=target_names, vmax=1,  cmap=sn.cubehelix_palette(10))\n",
    "    ax.set_xticklabels(ax.get_xticklabels(), rotation=0)\n",
    "    fig = ax.get_figure()\n",
    "  "
   ]
  },
  {
   "cell_type": "code",
   "execution_count": 75,
   "id": "ae70145f",
   "metadata": {},
   "outputs": [],
   "source": [
    "from sklearn.linear_model import SGDClassifier"
   ]
  },
  {
   "cell_type": "code",
   "execution_count": 76,
   "id": "188b9283",
   "metadata": {},
   "outputs": [
    {
     "name": "stdout",
     "output_type": "stream",
     "text": [
      "Test set accuracy 0.9240384615384616\n",
      "              precision    recall  f1-score   support\n",
      "\n",
      "        fake       0.91      0.94      0.93       520\n",
      "        real       0.94      0.91      0.92       520\n",
      "\n",
      "    accuracy                           0.92      1040\n",
      "   macro avg       0.92      0.92      0.92      1040\n",
      "weighted avg       0.92      0.92      0.92      1040\n",
      "\n"
     ]
    },
    {
     "data": {
      "image/png": "[encoded data removed]",
      "text/plain": [
       "<Figure size 1584x864 with 2 Axes>"
      ]
     },
     "metadata": {},
     "output_type": "display_data"
    }
   ],
   "source": [
    "#model Simple gradient discent model\n",
    "SGDclassifer = SGDClassifier()\n",
    "SGDclassifer.fit(X_train, y_train)\n",
    "y_pred = SGDclassifer.predict(X_test)\n",
    "print('Test set accuracy %s' % accuracy_score(y_test, y_pred))\n",
    "cr = classification_report(y_test, y_pred, target_names=target_names)\n",
    "print(cr)\n",
    "\n",
    "# ------------------------------------------------------------------------------ #\n",
    "\n",
    "\n",
    "cm = confusion_matrix(y_test, y_pred)\n",
    "cm = (cm.T / cm.astype(float).sum(axis=1)).T\n",
    "\n",
    "df_cm = pd.DataFrame(cm, range(len(target_names)), range(len(target_names)))\n",
    "with sn.axes_style(\"white\"):\n",
    "    plt.figure(figsize = (22,12))\n",
    "    ax = sn.heatmap(df_cm, annot=True, xticklabels=target_names, yticklabels=target_names, vmax=1,  cmap=sn.cubehelix_palette(10))\n",
    "    ax.set_xticklabels(ax.get_xticklabels(), rotation=0)\n",
    "    fig = ax.get_figure()"
   ]
  },
  {
   "cell_type": "code",
   "execution_count": 77,
   "id": "4daaf87b",
   "metadata": {},
   "outputs": [],
   "source": [
    "from sklearn.neighbors import NearestNeighbors\n",
    "from sklearn.neighbors import KNeighborsClassifier"
   ]
  },
  {
   "cell_type": "code",
   "execution_count": 78,
   "id": "194628b2",
   "metadata": {},
   "outputs": [
    {
     "name": "stdout",
     "output_type": "stream",
     "text": [
      "Test set accuracy 0.8278846153846153\n",
      "              precision    recall  f1-score   support\n",
      "\n",
      "        fake       0.82      0.83      0.83       520\n",
      "        real       0.83      0.82      0.83       520\n",
      "\n",
      "    accuracy                           0.83      1040\n",
      "   macro avg       0.83      0.83      0.83      1040\n",
      "weighted avg       0.83      0.83      0.83      1040\n",
      "\n"
     ]
    },
    {
     "data": {
      "image/png": "[encoded data removed]",
      "text/plain": [
       "<Figure size 1584x864 with 2 Axes>"
      ]
     },
     "metadata": {},
     "output_type": "display_data"
    }
   ],
   "source": [
    "#Knn model\n",
    "KNNclassifer = KNeighborsClassifier(n_neighbors=3)\n",
    "KNNclassifer.fit(X_train, y_train)\n",
    "y_pred = KNNclassifer.predict(X_test)\n",
    "print('Test set accuracy %s' % accuracy_score(y_test, y_pred))\n",
    "cr = classification_report(y_test, y_pred, target_names=target_names)\n",
    "print(cr)\n",
    "\n",
    "# ------------------------------------------------------------------------------ #\n",
    "\n",
    "cm = confusion_matrix(y_test, y_pred)\n",
    "cm = (cm.T / cm.astype(float).sum(axis=1)).T\n",
    "\n",
    "df_cm = pd.DataFrame(cm, range(len(target_names)), range(len(target_names)))\n",
    "with sn.axes_style(\"white\"):\n",
    "    plt.figure(figsize = (22,12))\n",
    "    ax = sn.heatmap(df_cm, annot=True, xticklabels=target_names, yticklabels=target_names, vmax=1,  cmap=sn.cubehelix_palette(10))\n",
    "    ax.set_xticklabels(ax.get_xticklabels(), rotation=0)\n",
    "    fig = ax.get_figure()"
   ]
  },
  {
   "cell_type": "code",
   "execution_count": 79,
   "id": "21abeebf",
   "metadata": {},
   "outputs": [],
   "source": [
    "from sklearn.linear_model import LogisticRegression"
   ]
  },
  {
   "cell_type": "code",
   "execution_count": 80,
   "id": "1c8fb4a6",
   "metadata": {
    "scrolled": false
   },
   "outputs": [
    {
     "name": "stdout",
     "output_type": "stream",
     "text": [
      "Test set accuracy 0.9019230769230769\n",
      "              precision    recall  f1-score   support\n",
      "\n",
      "        fake       0.90      0.90      0.90       520\n",
      "        real       0.90      0.90      0.90       520\n",
      "\n",
      "    accuracy                           0.90      1040\n",
      "   macro avg       0.90      0.90      0.90      1040\n",
      "weighted avg       0.90      0.90      0.90      1040\n",
      "\n"
     ]
    },
    {
     "data": {
      "image/png": "[encoded data removed]",
      "text/plain": [
       "<Figure size 1584x864 with 2 Axes>"
      ]
     },
     "metadata": {},
     "output_type": "display_data"
    }
   ],
   "source": [
    "#logistics regression model\n",
    "LRclassifer = LogisticRegression()\n",
    "LRclassifer.fit(X_train, y_train)\n",
    "y_pred = LRclassifer.predict(X_test)\n",
    "print('Test set accuracy %s' % accuracy_score(y_test, y_pred))\n",
    "cr = classification_report(y_test, y_pred, target_names=target_names)\n",
    "print(cr)\n",
    "\n",
    "# ------------------------------------------------------------------------------ #\n",
    "\n",
    "cm = confusion_matrix(y_test, y_pred)\n",
    "cm = (cm.T / cm.astype(float).sum(axis=1)).T\n",
    "\n",
    "df_cm = pd.DataFrame(cm, range(len(target_names)), range(len(target_names)))\n",
    "with sn.axes_style(\"white\"):\n",
    "    plt.figure(figsize = (22,12))\n",
    "    ax = sn.heatmap(df_cm, annot=True, xticklabels=target_names, yticklabels=target_names, vmax=1,  cmap=sn.cubehelix_palette(10))\n",
    "    ax.set_xticklabels(ax.get_xticklabels(), rotation=0)\n",
    "    fig = ax.get_figure()"
   ]
  },
  {
   "cell_type": "code",
   "execution_count": 81,
   "id": "84cbaf9f",
   "metadata": {},
   "outputs": [
    {
     "data": {
      "text/plain": [
       "['News.pkl']"
      ]
     },
     "execution_count": 81,
     "metadata": {},
     "output_type": "execute_result"
    }
   ],
   "source": [
    "#save model \n",
    "import joblib \n",
    "joblib.dump(RFclassifer, 'News.pkl')"
   ]
  },
  {
   "cell_type": "code",
   "execution_count": 82,
   "id": "185cbae2",
   "metadata": {},
   "outputs": [],
   "source": [
    "model = joblib.load('News.pkl')"
   ]
  },
  {
   "cell_type": "code",
   "execution_count": null,
   "id": "64a02a82",
   "metadata": {},
   "outputs": [],
   "source": []
  }
 ],
 "metadata": {
  "kernelspec": {
   "display_name": "Python 3 (ipykernel)",
   "language": "python",
   "name": "python3"
  },
  "language_info": {
   "codemirror_mode": {
    "name": "ipython",
    "version": 3
   },
   "file_extension": ".py",
   "mimetype": "text/x-python",
   "name": "python",
   "nbconvert_exporter": "python",
   "pygments_lexer": "ipython3",
   "version": "3.9.12"
  }
 },
 "nbformat": 4,
 "nbformat_minor": 5
}
