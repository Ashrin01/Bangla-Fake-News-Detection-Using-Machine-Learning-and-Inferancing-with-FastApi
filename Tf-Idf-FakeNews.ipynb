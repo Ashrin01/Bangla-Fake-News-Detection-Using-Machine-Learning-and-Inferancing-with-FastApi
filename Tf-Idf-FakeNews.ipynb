{
 "cells": [
  {
   "cell_type": "code",
   "execution_count": 1,
   "id": "0f5354e3",
   "metadata": {},
   "outputs": [],
   "source": [
    "#importing libraries\n",
    "import pandas as pd\n",
    "import seaborn as sns\n",
    "from matplotlib import pyplot as plt"
   ]
  },
  {
   "cell_type": "code",
   "execution_count": 2,
   "id": "62ed011a",
   "metadata": {},
   "outputs": [],
   "source": [
    "#creting data frames\n",
    "df1=pd.read_csv(\"Authentic-48k.csv\")"
   ]
  },
  {
   "cell_type": "code",
   "execution_count": 3,
   "id": "56beea04",
   "metadata": {},
   "outputs": [
    {
     "data": {
      "text/plain": [
       "<bound method DataFrame.info of        articleID            domain                 date       category  \\\n",
       "0              1    jagonews24.com  2018-09-19 17:48:18      Education   \n",
       "1              2    jagonews24.com  2018-09-19 17:48:19       National   \n",
       "2              3    jagonews24.com  2018-09-19 17:48:20       National   \n",
       "3              4    jagonews24.com  2018-09-19 17:48:21          Crime   \n",
       "4              5    jagonews24.com  2018-09-19 17:48:21       National   \n",
       "...          ...               ...                  ...            ...   \n",
       "48673      61776  banglanews24.com  2018-10-11 16:39:23         Sports   \n",
       "48674      61777  banglanews24.com  2018-10-11 16:39:27  International   \n",
       "48675      61778  banglanews24.com  2018-10-11 16:39:30       Politics   \n",
       "48676      61779  banglanews24.com  2018-10-11 16:39:32       National   \n",
       "48677      61780  banglanews24.com  2018-10-11 16:39:36       National   \n",
       "\n",
       "                                                headline  \\\n",
       "0       হট্টগোল করায় বাকৃবিতে দুইজন বরখাস্ত, ৬ জনকে শোকজ   \n",
       "1        মালয়েশিয়ায় কর্মী পাঠানোর ব্যবস্থা নেয়ার সুপারিশ   \n",
       "2      প্রেমের প্রস্তাবে রাজি না হওয়ায় স্কুলছাত্রীকে ...   \n",
       "3      মেডিয়েশনই মামলাজট নিরসনের পথ : বিচারপতি আহমেদ ...   \n",
       "4             টকশোতে বক্তব্য দিতে গিয়ে জাপা নেতার মৃত্যু   \n",
       "...                                                  ...   \n",
       "48673                এনসিএলে তিতলির প্রভাব, সব ম্যাচ ড্র   \n",
       "48674      কর্ম-বসবাসে সেরা সিঙ্গাপুর, আয়ে সুইজারল্যান্ড   \n",
       "48675               জয়পুরহাটে জামায়াতের ১৯ নেতাকর্মী আটক   \n",
       "48676                 ভ্যানগার্ড পোশাক কারখানাকে জরিমানা   \n",
       "48677  উল্লাপাড়ায় ভেজাল সার-কীটনাশক তৈরির কারখানা সিল...   \n",
       "\n",
       "                                                 content  label  \n",
       "0      গত ১৭ সেপ্টেম্বর বাংলাদেশ কৃষি বিশ্ববিদ্যালয়ে ...      1  \n",
       "1      বাংলাদেশের বৃহৎ শ্রমবাজার মালয়েশিয়ায় আবার শ্রম...      1  \n",
       "2      নরসিংদীর মনোহরদীতে প্রেমের প্রস্তাবে রাজি না হ...      1  \n",
       "3      সুপ্রিম কোর্টের হাইকোর্ট বিভাগের বিচারপতি আহমে...      1  \n",
       "4      মাদারীপুর সদরের উপজেলার লেকেরপাড়ে একটি বেসরকার...      1  \n",
       "...                                                  ...    ...  \n",
       "48673  প্রথমে বাংলাদেশের কাছ দিয়ে যাওয়ার কথা থাকলেও ঘ...      1  \n",
       "48674  উন্নত জীবনযাপনের জন্য অনেকেই বিদেশে পাড়ি দেন। ...      1  \n",
       "48675  জয়পুরহাট: সরকার বিরোধী গোপন বৈঠকের সময় জয়পুরহা...      1  \n",
       "48676  চট্টগ্রাম: পরিবেশ দূষণের দায়ে নগরের আগ্রাবাদ এ...      1  \n",
       "48677  সিরাজগঞ্জ: সিরাজগঞ্জের উল্লাপাড়ায় অভিযান চালিয়...      1  \n",
       "\n",
       "[48678 rows x 7 columns]>"
      ]
     },
     "execution_count": 3,
     "metadata": {},
     "output_type": "execute_result"
    }
   ],
   "source": [
    "df1.info"
   ]
  },
  {
   "cell_type": "code",
   "execution_count": 4,
   "id": "18609009",
   "metadata": {},
   "outputs": [],
   "source": [
    "df2=pd.read_csv(\"Fake-1k.csv\")"
   ]
  },
  {
   "cell_type": "code",
   "execution_count": 5,
   "id": "6a53ac22",
   "metadata": {},
   "outputs": [
    {
     "data": {
      "text/plain": [
       "<bound method DataFrame.info of       articleID                    domain                        date  \\\n",
       "0             1         channeldhaka.news   2019-03-14T13:34:14+00:00   \n",
       "1             2                 earki.com            সেম্বর ১৭, ২০১৮    \n",
       "2             3                 earki.com  ২০:৩৯, জানুয়ারি ১৪, ২০১৯    \n",
       "3             4         channeldhaka.news   2018-06-30T15:56:47+00:00   \n",
       "4             5  motikontho.wordpress.com   2013-03-05T21:55:45+00:00   \n",
       "...         ...                       ...                         ...   \n",
       "1294       1303           bengalbeats.com   2019-03-31T21:34:42+00:00   \n",
       "1295       1304      bengaliviralnews.com   2018-01-16T15:36:12+00:00   \n",
       "1296       1305         channeldhaka.news   2018-12-03T18:09:08+00:00   \n",
       "1297       1306                 earki.com  ১৭:৩৬, জানুয়ারি ০৭, ২০১৯    \n",
       "1298       1307         channeldhaka.news   2019-03-09T23:00:05+00:00   \n",
       "\n",
       "           category                                           headline  \\\n",
       "0     International                           মুরগির হামলায় শেয়াল নিহত   \n",
       "1     Miscellaneous            বিটিভিতে যেবার আমি ইন্টারভিউ দিতে গেলাম   \n",
       "2     Miscellaneous  বিদেশ থেকে উন্নতমানের বিরোধীদল আমদানি করার পরা...   \n",
       "3            Sports                      অবসর নেয়ার ঘোষণা দিলেন মেসি !   \n",
       "4     Miscellaneous  মাদারফাকার নহে, ব্রাদারফাকার: সাকা | দৈনিক মতি...   \n",
       "...             ...                                                ...   \n",
       "1294  Miscellaneous  রাজশাহীতে স্বামীর হাঁচির আওয়াজে ঘুমের মধ্যেই স...   \n",
       "1295  Miscellaneous  IAS ইন্টারভিউ এ মেয়েটিকে জিজ্ঞসা করা হল মেয়েদে...   \n",
       "1296          Crime         শাওমি মোবাইল বিস্ফোরণে কলেজছাত্রের মৃত্যু!   \n",
       "1297  Miscellaneous  ফেসবুকে যেভাবে নতুন মন্ত্রীদের অভিনন্দন বার্তা...   \n",
       "1298  International            মাঝ আকাশে পর্ন দেখার অভিযোগে পাইলট আটক!   \n",
       "\n",
       "                                                content  label  \n",
       "0     বাংলায় একটা প্রবাদ আছে, শেয়ালের কাছে মুরগী বর্...      0  \n",
       "1     BTV থেকে লোকজন আসছে, ইন্টারভিউ নিবে।চারজনের টি...      0  \n",
       "2     অদ্ভুত বিরোধীদলহীনতায় ভুগছে সরকার। এ এক অন্যরক...      0  \n",
       "3     রাশিয়া বিশ্বকাপ নকআউট পর্বে ফ্রান্সের সাথে ৪-৩...      0  \n",
       "4     নিজস্ব মতিবেদক‘মাদারফাকার নহে, আমি ব্রাদারফাকা...      0  \n",
       "...                                                 ...    ...  \n",
       "1294  রাজশাহীর সাহেব বাজার মোড়ে রাতে ঘুমের মধ্যে হাস...      0  \n",
       "1295  IAS পরীক্ষায় এমন এমন অবাক করে দেওয়া প্রশ্ন এসে...      0  \n",
       "1296  শাওমি মোবাইল ফোন বিস্ফোরণ হয়ে স্বপ্নীল মজুমদা...      0  \n",
       "1297  আপনাকে নতুন মন্ত্রিসভার সদস্যদের অভিনন্দন জানা...      0  \n",
       "1298  বিমান যখন আকাশে তখন আর কোনও দিকে খেয়াল না রেখ...      0  \n",
       "\n",
       "[1299 rows x 7 columns]>"
      ]
     },
     "execution_count": 5,
     "metadata": {},
     "output_type": "execute_result"
    }
   ],
   "source": [
    "df2.info"
   ]
  },
  {
   "cell_type": "code",
   "execution_count": 6,
   "id": "f8041536",
   "metadata": {},
   "outputs": [],
   "source": [
    "df2.to_excel(\"fake2.xlsx\")"
   ]
  },
  {
   "cell_type": "code",
   "execution_count": 7,
   "id": "a656f7bd",
   "metadata": {},
   "outputs": [],
   "source": [
    "df3=pd.read_csv(\"LabeledAuthentic-7K.csv\")"
   ]
  },
  {
   "cell_type": "code",
   "execution_count": 8,
   "id": "9c0d50ad",
   "metadata": {},
   "outputs": [
    {
     "data": {
      "text/plain": [
       "<bound method DataFrame.info of       articleID                  domain                 date       category  \\\n",
       "0             1         bd-pratidin.com  2018-09-20 08:16:43         Sports   \n",
       "1             2            jugantor.com  2018-09-20 20:20:20         Sports   \n",
       "2             3            bd24live.com  2018-09-20 16:39:40       National   \n",
       "3             4            bd24live.com  2018-09-19 18:27:56       National   \n",
       "4             5            somoynews.tv  2018-09-20 10:15:28        Finance   \n",
       "...         ...                     ...                  ...            ...   \n",
       "7197       8263          jagonews24.com  2018-09-23 11:12:27       National   \n",
       "7198       8265          jagonews24.com  2018-09-24 13:36:25       National   \n",
       "7199       8266          jagonews24.com  2018-09-23 19:36:27       National   \n",
       "7200       8267       independent24.com  2018-09-21 14:26:51       National   \n",
       "7201       8268  bangla.thereport24.com  2018-09-23 12:29:50  Entertainment   \n",
       "\n",
       "                                            source relation  \\\n",
       "0               আফগান ক্রিকেট বোর্ড (এসিবি) প্রধান  Related   \n",
       "1                                         Reporter  Related   \n",
       "2                                         Reporter  Related   \n",
       "3                         জননিরাপত্তা বিভাগের সচিব  Related   \n",
       "4                 পেট্রোল পাম্প মালিক সমিতি সভাপতি  Related   \n",
       "...                                            ...      ...   \n",
       "7197               দেবপুড় ফাঁড়ী ইনচার্জ ইন্সপেক্টর  Related   \n",
       "7198                 বান্দরবানে রাজবিহারের অধ্যক্ষ  Related   \n",
       "7199  নারায়ণগঞ্জ জেলা পুলিশের অতিরিক্ত পুলিশ সুপার  Related   \n",
       "7200       ডাক, টেলিযোগাযোগ ও তথ্যপ্রযুক্তিমন্ত্রী  Related   \n",
       "7201                                       writter  Related   \n",
       "\n",
       "                                               headline  \\\n",
       "0             হঠাৎ আফগান ক্রিকেট বোর্ড প্রধানের পদত্যাগ   \n",
       "1                              টস হেরে বোলিংয়ে বাংলাদেশ   \n",
       "2                        রাজধানীতে বিশেষ অভিযানে আটক ৪৩   \n",
       "3     উস্কানি রোধে নজরদারি থাকবে সামাজিক যোগাযোগ মাধ...   \n",
       "4        'যেখানে তেল আসত ৭ দিনে, এখন তা আসবে অতি দ্রুত'   \n",
       "...                                                 ...   \n",
       "7197       তালাকের ৫ বছর পর শ্বশুরবাড়িতে প্রবাসীর মরদেহ   \n",
       "7198                বান্দরবানে পালিত হচ্ছে মধু পূর্ণিমা   \n",
       "7199  মাজেদাকে ধরিয়ে দিয়ে ১০ হাজার টাকা পুরস্কার নিল...   \n",
       "7200  মন্ত্রিসভায় চূড়ান্ত অনুমোদনের অপেক্ষায় টেলিযোগ...   \n",
       "7201                                        ফুল ঝরে পড়ে   \n",
       "\n",
       "                                                content  label  \n",
       "0     ক্রিকেট বিশ্বের নতুন চমকের নাম আফগানিস্তান। কয়...    1.0  \n",
       "1     এশিয়া কাপের ষষ্ঠ ম্যাচে বাংলাদেশ দলের বিপক্ষে ...    1.0  \n",
       "2     রাজধানীতে মাদক বিরোধী বিশেষ অভিযান পরিচালনা কর...    1.0  \n",
       "3     সনাতন ধর্মাবলম্বীদের সবচেয়ে বড় ধর্মীয় উৎসব দুর...    1.0  \n",
       "4     ভারত থেকে পাইপ লাইনের মাধ্যমে সরাসরি দেশে জ্বা...    1.0  \n",
       "...                                                 ...    ...  \n",
       "7197  কুমিল্লার বুড়িচং উপজেলার এবদারপুর গ্রামে সাবেক...    1.0  \n",
       "7198  নানা মাঙ্গলিক আয়োজনের মধ্যে দিয়ে বান্দরবানে পা...    1.0  \n",
       "7199  নারায়ণগঞ্জের সিদ্ধিরগঞ্জে শীর্ষ মাদক ব্যবসায়ী ...    1.0  \n",
       "7200  ২০ বছরের পুরনো নীতিমালা দিয়েই চলছে দেশের টেলিয...    1.0  \n",
       "7201  মারুফ কামরুল মুখ ভরে বমি করছে চুটকি। আধ ভাঙা ভ...    1.0  \n",
       "\n",
       "[7202 rows x 9 columns]>"
      ]
     },
     "execution_count": 8,
     "metadata": {},
     "output_type": "execute_result"
    }
   ],
   "source": [
    "df3.info"
   ]
  },
  {
   "cell_type": "code",
   "execution_count": 9,
   "id": "d735a9cf",
   "metadata": {},
   "outputs": [],
   "source": [
    "df4=pd.read_csv(\"LabeledFake-1K.csv\")"
   ]
  },
  {
   "cell_type": "code",
   "execution_count": 10,
   "id": "747876d8",
   "metadata": {},
   "outputs": [
    {
     "data": {
      "text/plain": [
       "<bound method DataFrame.info of       articleID                    domain                        date  \\\n",
       "0             1         channeldhaka.news   2019-03-14T13:34:14+00:00   \n",
       "1             2                 earki.com            সেম্বর ১৭, ২০১৮    \n",
       "2             3                 earki.com  ২০:৩৯, জানুয়ারি ১৪, ২০১৯    \n",
       "3             4         channeldhaka.news   2018-06-30T15:56:47+00:00   \n",
       "4             5  motikontho.wordpress.com   2013-03-05T21:55:45+00:00   \n",
       "...         ...                       ...                         ...   \n",
       "1294       1303           bengalbeats.com   2019-03-31T21:34:42+00:00   \n",
       "1295       1304      bengaliviralnews.com   2018-01-16T15:36:12+00:00   \n",
       "1296       1305         channeldhaka.news   2018-12-03T18:09:08+00:00   \n",
       "1297       1306                 earki.com  ১৭:৩৬, জানুয়ারি ০৭, ২০১৯    \n",
       "1298       1307         channeldhaka.news   2019-03-09T23:00:05+00:00   \n",
       "\n",
       "           category                         source   relation  \\\n",
       "0     International                       Reporter  Unrelated   \n",
       "1     Miscellaneous                       Reporter  Unrelated   \n",
       "2     Miscellaneous                       Reporter  Unrelated   \n",
       "3            Sports                       Reporter  Unrelated   \n",
       "4     Miscellaneous                       Reporter  Unrelated   \n",
       "...             ...                            ...        ...   \n",
       "1294  Miscellaneous                       Reporter  Unrelated   \n",
       "1295  Miscellaneous                       Reporter  Unrelated   \n",
       "1296          Crime  ফেনী ফায়ার স্টেশনের ইনচার্জ   Unrelated   \n",
       "1297  Miscellaneous                       Reporter    Related   \n",
       "1298  International      মুম্বাই বিমানবন্দর সূত্র   Unrelated   \n",
       "\n",
       "                                               headline  \\\n",
       "0                              মুরগির হামলায় শেয়াল নিহত   \n",
       "1               বিটিভিতে যেবার আমি ইন্টারভিউ দিতে গেলাম   \n",
       "2     বিদেশ থেকে উন্নতমানের বিরোধীদল আমদানি করার পরা...   \n",
       "3                         অবসর নেয়ার ঘোষণা দিলেন মেসি !   \n",
       "4     মাদারফাকার নহে, ব্রাদারফাকার: সাকা | দৈনিক মতি...   \n",
       "...                                                 ...   \n",
       "1294  রাজশাহীতে স্বামীর হাঁচির আওয়াজে ঘুমের মধ্যেই স...   \n",
       "1295  IAS ইন্টারভিউ এ মেয়েটিকে জিজ্ঞসা করা হল মেয়েদে...   \n",
       "1296         শাওমি মোবাইল বিস্ফোরণে কলেজছাত্রের মৃত্যু!   \n",
       "1297  ফেসবুকে যেভাবে নতুন মন্ত্রীদের অভিনন্দন বার্তা...   \n",
       "1298            মাঝ আকাশে পর্ন দেখার অভিযোগে পাইলট আটক!   \n",
       "\n",
       "                                                content  label      F-type  \n",
       "0     বাংলায় একটা প্রবাদ আছে, শেয়ালের কাছে মুরগী বর্...      0      Satire  \n",
       "1     BTV থেকে লোকজন আসছে, ইন্টারভিউ নিবে।চারজনের টি...      0      Satire  \n",
       "2     অদ্ভুত বিরোধীদলহীনতায় ভুগছে সরকার। এ এক অন্যরক...      0      Satire  \n",
       "3     রাশিয়া বিশ্বকাপ নকআউট পর্বে ফ্রান্সের সাথে ৪-৩...      0      Satire  \n",
       "4     নিজস্ব মতিবেদক‘মাদারফাকার নহে, আমি ব্রাদারফাকা...      0      Satire  \n",
       "...                                                 ...    ...         ...  \n",
       "1294  রাজশাহীর সাহেব বাজার মোড়ে রাতে ঘুমের মধ্যে হাস...      0      Satire  \n",
       "1295  IAS পরীক্ষায় এমন এমন অবাক করে দেওয়া প্রশ্ন এসে...      0  Clickbaits  \n",
       "1296  শাওমি মোবাইল ফোন বিস্ফোরণ হয়ে স্বপ্নীল মজুমদা...      0      Satire  \n",
       "1297  আপনাকে নতুন মন্ত্রিসভার সদস্যদের অভিনন্দন জানা...      0      Satire  \n",
       "1298  বিমান যখন আকাশে তখন আর কোনও দিকে খেয়াল না রেখ...      0      Satire  \n",
       "\n",
       "[1299 rows x 10 columns]>"
      ]
     },
     "execution_count": 10,
     "metadata": {},
     "output_type": "execute_result"
    }
   ],
   "source": [
    "df4.info"
   ]
  },
  {
   "cell_type": "code",
   "execution_count": 11,
   "id": "8e5d4f71",
   "metadata": {},
   "outputs": [],
   "source": [
    "frames = [df1, df2, df3, df4]"
   ]
  },
  {
   "cell_type": "code",
   "execution_count": 12,
   "id": "2f087f8c",
   "metadata": {},
   "outputs": [],
   "source": [
    "#mergining data frames\n",
    "df = pd.concat(frames)"
   ]
  },
  {
   "cell_type": "code",
   "execution_count": 13,
   "id": "ce5a0dad",
   "metadata": {},
   "outputs": [
    {
     "data": {
      "text/plain": [
       "<bound method DataFrame.info of       articleID                domain                        date  \\\n",
       "0             1        jagonews24.com         2018-09-19 17:48:18   \n",
       "1             2        jagonews24.com         2018-09-19 17:48:19   \n",
       "2             3        jagonews24.com         2018-09-19 17:48:20   \n",
       "3             4        jagonews24.com         2018-09-19 17:48:21   \n",
       "4             5        jagonews24.com         2018-09-19 17:48:21   \n",
       "...         ...                   ...                         ...   \n",
       "1294       1303       bengalbeats.com   2019-03-31T21:34:42+00:00   \n",
       "1295       1304  bengaliviralnews.com   2018-01-16T15:36:12+00:00   \n",
       "1296       1305     channeldhaka.news   2018-12-03T18:09:08+00:00   \n",
       "1297       1306             earki.com  ১৭:৩৬, জানুয়ারি ০৭, ২০১৯    \n",
       "1298       1307     channeldhaka.news   2019-03-09T23:00:05+00:00   \n",
       "\n",
       "           category                                           headline  \\\n",
       "0         Education   হট্টগোল করায় বাকৃবিতে দুইজন বরখাস্ত, ৬ জনকে শোকজ   \n",
       "1          National    মালয়েশিয়ায় কর্মী পাঠানোর ব্যবস্থা নেয়ার সুপারিশ   \n",
       "2          National  প্রেমের প্রস্তাবে রাজি না হওয়ায় স্কুলছাত্রীকে ...   \n",
       "3             Crime  মেডিয়েশনই মামলাজট নিরসনের পথ : বিচারপতি আহমেদ ...   \n",
       "4          National         টকশোতে বক্তব্য দিতে গিয়ে জাপা নেতার মৃত্যু   \n",
       "...             ...                                                ...   \n",
       "1294  Miscellaneous  রাজশাহীতে স্বামীর হাঁচির আওয়াজে ঘুমের মধ্যেই স...   \n",
       "1295  Miscellaneous  IAS ইন্টারভিউ এ মেয়েটিকে জিজ্ঞসা করা হল মেয়েদে...   \n",
       "1296          Crime         শাওমি মোবাইল বিস্ফোরণে কলেজছাত্রের মৃত্যু!   \n",
       "1297  Miscellaneous  ফেসবুকে যেভাবে নতুন মন্ত্রীদের অভিনন্দন বার্তা...   \n",
       "1298  International            মাঝ আকাশে পর্ন দেখার অভিযোগে পাইলট আটক!   \n",
       "\n",
       "                                                content  label  \\\n",
       "0     গত ১৭ সেপ্টেম্বর বাংলাদেশ কৃষি বিশ্ববিদ্যালয়ে ...    1.0   \n",
       "1     বাংলাদেশের বৃহৎ শ্রমবাজার মালয়েশিয়ায় আবার শ্রম...    1.0   \n",
       "2     নরসিংদীর মনোহরদীতে প্রেমের প্রস্তাবে রাজি না হ...    1.0   \n",
       "3     সুপ্রিম কোর্টের হাইকোর্ট বিভাগের বিচারপতি আহমে...    1.0   \n",
       "4     মাদারীপুর সদরের উপজেলার লেকেরপাড়ে একটি বেসরকার...    1.0   \n",
       "...                                                 ...    ...   \n",
       "1294  রাজশাহীর সাহেব বাজার মোড়ে রাতে ঘুমের মধ্যে হাস...    0.0   \n",
       "1295  IAS পরীক্ষায় এমন এমন অবাক করে দেওয়া প্রশ্ন এসে...    0.0   \n",
       "1296  শাওমি মোবাইল ফোন বিস্ফোরণ হয়ে স্বপ্নীল মজুমদা...    0.0   \n",
       "1297  আপনাকে নতুন মন্ত্রিসভার সদস্যদের অভিনন্দন জানা...    0.0   \n",
       "1298  বিমান যখন আকাশে তখন আর কোনও দিকে খেয়াল না রেখ...    0.0   \n",
       "\n",
       "                             source   relation      F-type  \n",
       "0                               NaN        NaN         NaN  \n",
       "1                               NaN        NaN         NaN  \n",
       "2                               NaN        NaN         NaN  \n",
       "3                               NaN        NaN         NaN  \n",
       "4                               NaN        NaN         NaN  \n",
       "...                             ...        ...         ...  \n",
       "1294                       Reporter  Unrelated      Satire  \n",
       "1295                       Reporter  Unrelated  Clickbaits  \n",
       "1296  ফেনী ফায়ার স্টেশনের ইনচার্জ   Unrelated      Satire  \n",
       "1297                       Reporter    Related      Satire  \n",
       "1298      মুম্বাই বিমানবন্দর সূত্র   Unrelated      Satire  \n",
       "\n",
       "[58478 rows x 10 columns]>"
      ]
     },
     "execution_count": 13,
     "metadata": {},
     "output_type": "execute_result"
    }
   ],
   "source": [
    "df.info"
   ]
  },
  {
   "cell_type": "code",
   "execution_count": 14,
   "id": "136eda95",
   "metadata": {},
   "outputs": [
    {
     "data": {
      "text/plain": [
       "<bound method NDFrame.head of       articleID                domain                        date  \\\n",
       "0             1        jagonews24.com         2018-09-19 17:48:18   \n",
       "1             2        jagonews24.com         2018-09-19 17:48:19   \n",
       "2             3        jagonews24.com         2018-09-19 17:48:20   \n",
       "3             4        jagonews24.com         2018-09-19 17:48:21   \n",
       "4             5        jagonews24.com         2018-09-19 17:48:21   \n",
       "...         ...                   ...                         ...   \n",
       "1294       1303       bengalbeats.com   2019-03-31T21:34:42+00:00   \n",
       "1295       1304  bengaliviralnews.com   2018-01-16T15:36:12+00:00   \n",
       "1296       1305     channeldhaka.news   2018-12-03T18:09:08+00:00   \n",
       "1297       1306             earki.com  ১৭:৩৬, জানুয়ারি ০৭, ২০১৯    \n",
       "1298       1307     channeldhaka.news   2019-03-09T23:00:05+00:00   \n",
       "\n",
       "           category                                           headline  \\\n",
       "0         Education   হট্টগোল করায় বাকৃবিতে দুইজন বরখাস্ত, ৬ জনকে শোকজ   \n",
       "1          National    মালয়েশিয়ায় কর্মী পাঠানোর ব্যবস্থা নেয়ার সুপারিশ   \n",
       "2          National  প্রেমের প্রস্তাবে রাজি না হওয়ায় স্কুলছাত্রীকে ...   \n",
       "3             Crime  মেডিয়েশনই মামলাজট নিরসনের পথ : বিচারপতি আহমেদ ...   \n",
       "4          National         টকশোতে বক্তব্য দিতে গিয়ে জাপা নেতার মৃত্যু   \n",
       "...             ...                                                ...   \n",
       "1294  Miscellaneous  রাজশাহীতে স্বামীর হাঁচির আওয়াজে ঘুমের মধ্যেই স...   \n",
       "1295  Miscellaneous  IAS ইন্টারভিউ এ মেয়েটিকে জিজ্ঞসা করা হল মেয়েদে...   \n",
       "1296          Crime         শাওমি মোবাইল বিস্ফোরণে কলেজছাত্রের মৃত্যু!   \n",
       "1297  Miscellaneous  ফেসবুকে যেভাবে নতুন মন্ত্রীদের অভিনন্দন বার্তা...   \n",
       "1298  International            মাঝ আকাশে পর্ন দেখার অভিযোগে পাইলট আটক!   \n",
       "\n",
       "                                                content  label  \\\n",
       "0     গত ১৭ সেপ্টেম্বর বাংলাদেশ কৃষি বিশ্ববিদ্যালয়ে ...    1.0   \n",
       "1     বাংলাদেশের বৃহৎ শ্রমবাজার মালয়েশিয়ায় আবার শ্রম...    1.0   \n",
       "2     নরসিংদীর মনোহরদীতে প্রেমের প্রস্তাবে রাজি না হ...    1.0   \n",
       "3     সুপ্রিম কোর্টের হাইকোর্ট বিভাগের বিচারপতি আহমে...    1.0   \n",
       "4     মাদারীপুর সদরের উপজেলার লেকেরপাড়ে একটি বেসরকার...    1.0   \n",
       "...                                                 ...    ...   \n",
       "1294  রাজশাহীর সাহেব বাজার মোড়ে রাতে ঘুমের মধ্যে হাস...    0.0   \n",
       "1295  IAS পরীক্ষায় এমন এমন অবাক করে দেওয়া প্রশ্ন এসে...    0.0   \n",
       "1296  শাওমি মোবাইল ফোন বিস্ফোরণ হয়ে স্বপ্নীল মজুমদা...    0.0   \n",
       "1297  আপনাকে নতুন মন্ত্রিসভার সদস্যদের অভিনন্দন জানা...    0.0   \n",
       "1298  বিমান যখন আকাশে তখন আর কোনও দিকে খেয়াল না রেখ...    0.0   \n",
       "\n",
       "                             source   relation      F-type  \n",
       "0                               NaN        NaN         NaN  \n",
       "1                               NaN        NaN         NaN  \n",
       "2                               NaN        NaN         NaN  \n",
       "3                               NaN        NaN         NaN  \n",
       "4                               NaN        NaN         NaN  \n",
       "...                             ...        ...         ...  \n",
       "1294                       Reporter  Unrelated      Satire  \n",
       "1295                       Reporter  Unrelated  Clickbaits  \n",
       "1296  ফেনী ফায়ার স্টেশনের ইনচার্জ   Unrelated      Satire  \n",
       "1297                       Reporter    Related      Satire  \n",
       "1298      মুম্বাই বিমানবন্দর সূত্র   Unrelated      Satire  \n",
       "\n",
       "[58478 rows x 10 columns]>"
      ]
     },
     "execution_count": 14,
     "metadata": {},
     "output_type": "execute_result"
    }
   ],
   "source": [
    "df.head"
   ]
  },
  {
   "cell_type": "code",
   "execution_count": 15,
   "id": "a7340126",
   "metadata": {},
   "outputs": [],
   "source": [
    "#chaning data frames type\n",
    "df['label'] = df['label'].astype('int64')"
   ]
  },
  {
   "cell_type": "code",
   "execution_count": 16,
   "id": "f61501a0",
   "metadata": {},
   "outputs": [
    {
     "data": {
      "text/html": [
       "<div>\n",
       "<style scoped>\n",
       "    .dataframe tbody tr th:only-of-type {\n",
       "        vertical-align: middle;\n",
       "    }\n",
       "\n",
       "    .dataframe tbody tr th {\n",
       "        vertical-align: top;\n",
       "    }\n",
       "\n",
       "    .dataframe thead tr th {\n",
       "        text-align: left;\n",
       "    }\n",
       "\n",
       "    .dataframe thead tr:last-of-type th {\n",
       "        text-align: right;\n",
       "    }\n",
       "</style>\n",
       "<table border=\"1\" class=\"dataframe\">\n",
       "  <thead>\n",
       "    <tr>\n",
       "      <th></th>\n",
       "      <th colspan=\"8\" halign=\"left\">articleID</th>\n",
       "    </tr>\n",
       "    <tr>\n",
       "      <th></th>\n",
       "      <th>count</th>\n",
       "      <th>mean</th>\n",
       "      <th>std</th>\n",
       "      <th>min</th>\n",
       "      <th>25%</th>\n",
       "      <th>50%</th>\n",
       "      <th>75%</th>\n",
       "      <th>max</th>\n",
       "    </tr>\n",
       "    <tr>\n",
       "      <th>label</th>\n",
       "      <th></th>\n",
       "      <th></th>\n",
       "      <th></th>\n",
       "      <th></th>\n",
       "      <th></th>\n",
       "      <th></th>\n",
       "      <th></th>\n",
       "      <th></th>\n",
       "    </tr>\n",
       "  </thead>\n",
       "  <tbody>\n",
       "    <tr>\n",
       "      <th>0</th>\n",
       "      <td>2598.0</td>\n",
       "      <td>653.268668</td>\n",
       "      <td>377.032471</td>\n",
       "      <td>1.0</td>\n",
       "      <td>326.25</td>\n",
       "      <td>653.0</td>\n",
       "      <td>978.75</td>\n",
       "      <td>1307.0</td>\n",
       "    </tr>\n",
       "    <tr>\n",
       "      <th>1</th>\n",
       "      <td>55880.0</td>\n",
       "      <td>27365.029295</td>\n",
       "      <td>19008.541200</td>\n",
       "      <td>1.0</td>\n",
       "      <td>8507.50</td>\n",
       "      <td>26153.5</td>\n",
       "      <td>44018.25</td>\n",
       "      <td>61780.0</td>\n",
       "    </tr>\n",
       "  </tbody>\n",
       "</table>\n",
       "</div>"
      ],
      "text/plain": [
       "      articleID                                                               \\\n",
       "          count          mean           std  min      25%      50%       75%   \n",
       "label                                                                          \n",
       "0        2598.0    653.268668    377.032471  1.0   326.25    653.0    978.75   \n",
       "1       55880.0  27365.029295  19008.541200  1.0  8507.50  26153.5  44018.25   \n",
       "\n",
       "                \n",
       "           max  \n",
       "label           \n",
       "0       1307.0  \n",
       "1      61780.0  "
      ]
     },
     "execution_count": 16,
     "metadata": {},
     "output_type": "execute_result"
    }
   ],
   "source": [
    "df.groupby(\"label\").describe()"
   ]
  },
  {
   "cell_type": "code",
   "execution_count": 17,
   "id": "6ca6a7fe",
   "metadata": {},
   "outputs": [],
   "source": [
    "#importing skiit learn libarier for tf-idf verctorization\n",
    "from sklearn.feature_extraction.text import CountVectorizer\n",
    "from sklearn.feature_extraction.text import TfidfTransformer\n",
    "from sklearn.preprocessing import LabelBinarizer"
   ]
  },
  {
   "cell_type": "code",
   "execution_count": 18,
   "id": "80dc5abe",
   "metadata": {
    "scrolled": true
   },
   "outputs": [],
   "source": [
    "count_vect = CountVectorizer() # for converting text into count-based vectors\n",
    "tfidf_transformer = TfidfTransformer() # for converting text into tf-idf-based vectors\n",
    "lb = LabelBinarizer() # object for making class-labels into binary numbers"
   ]
  },
  {
   "cell_type": "code",
   "execution_count": 19,
   "id": "9bc17df6",
   "metadata": {},
   "outputs": [
    {
     "data": {
      "text/plain": [
       "Index(['articleID', 'domain', 'date', 'category', 'headline', 'content',\n",
       "       'label', 'source', 'relation', 'F-type'],\n",
       "      dtype='object')"
      ]
     },
     "execution_count": 19,
     "metadata": {},
     "output_type": "execute_result"
    }
   ],
   "source": [
    "df.columns"
   ]
  },
  {
   "cell_type": "code",
   "execution_count": 20,
   "id": "a710a6cb",
   "metadata": {
    "scrolled": true
   },
   "outputs": [
    {
     "data": {
      "text/plain": [
       "<bound method NDFrame.head of       articleID                domain                        date  \\\n",
       "0             1        jagonews24.com         2018-09-19 17:48:18   \n",
       "1             2        jagonews24.com         2018-09-19 17:48:19   \n",
       "2             3        jagonews24.com         2018-09-19 17:48:20   \n",
       "3             4        jagonews24.com         2018-09-19 17:48:21   \n",
       "4             5        jagonews24.com         2018-09-19 17:48:21   \n",
       "...         ...                   ...                         ...   \n",
       "1294       1303       bengalbeats.com   2019-03-31T21:34:42+00:00   \n",
       "1295       1304  bengaliviralnews.com   2018-01-16T15:36:12+00:00   \n",
       "1296       1305     channeldhaka.news   2018-12-03T18:09:08+00:00   \n",
       "1297       1306             earki.com  ১৭:৩৬, জানুয়ারি ০৭, ২০১৯    \n",
       "1298       1307     channeldhaka.news   2019-03-09T23:00:05+00:00   \n",
       "\n",
       "           category                                           headline  \\\n",
       "0         Education   হট্টগোল করায় বাকৃবিতে দুইজন বরখাস্ত, ৬ জনকে শোকজ   \n",
       "1          National    মালয়েশিয়ায় কর্মী পাঠানোর ব্যবস্থা নেয়ার সুপারিশ   \n",
       "2          National  প্রেমের প্রস্তাবে রাজি না হওয়ায় স্কুলছাত্রীকে ...   \n",
       "3             Crime  মেডিয়েশনই মামলাজট নিরসনের পথ : বিচারপতি আহমেদ ...   \n",
       "4          National         টকশোতে বক্তব্য দিতে গিয়ে জাপা নেতার মৃত্যু   \n",
       "...             ...                                                ...   \n",
       "1294  Miscellaneous  রাজশাহীতে স্বামীর হাঁচির আওয়াজে ঘুমের মধ্যেই স...   \n",
       "1295  Miscellaneous  IAS ইন্টারভিউ এ মেয়েটিকে জিজ্ঞসা করা হল মেয়েদে...   \n",
       "1296          Crime         শাওমি মোবাইল বিস্ফোরণে কলেজছাত্রের মৃত্যু!   \n",
       "1297  Miscellaneous  ফেসবুকে যেভাবে নতুন মন্ত্রীদের অভিনন্দন বার্তা...   \n",
       "1298  International            মাঝ আকাশে পর্ন দেখার অভিযোগে পাইলট আটক!   \n",
       "\n",
       "                                                content  label  \\\n",
       "0     গত ১৭ সেপ্টেম্বর বাংলাদেশ কৃষি বিশ্ববিদ্যালয়ে ...      1   \n",
       "1     বাংলাদেশের বৃহৎ শ্রমবাজার মালয়েশিয়ায় আবার শ্রম...      1   \n",
       "2     নরসিংদীর মনোহরদীতে প্রেমের প্রস্তাবে রাজি না হ...      1   \n",
       "3     সুপ্রিম কোর্টের হাইকোর্ট বিভাগের বিচারপতি আহমে...      1   \n",
       "4     মাদারীপুর সদরের উপজেলার লেকেরপাড়ে একটি বেসরকার...      1   \n",
       "...                                                 ...    ...   \n",
       "1294  রাজশাহীর সাহেব বাজার মোড়ে রাতে ঘুমের মধ্যে হাস...      0   \n",
       "1295  IAS পরীক্ষায় এমন এমন অবাক করে দেওয়া প্রশ্ন এসে...      0   \n",
       "1296  শাওমি মোবাইল ফোন বিস্ফোরণ হয়ে স্বপ্নীল মজুমদা...      0   \n",
       "1297  আপনাকে নতুন মন্ত্রিসভার সদস্যদের অভিনন্দন জানা...      0   \n",
       "1298  বিমান যখন আকাশে তখন আর কোনও দিকে খেয়াল না রেখ...      0   \n",
       "\n",
       "                             source   relation      F-type  \n",
       "0                               NaN        NaN         NaN  \n",
       "1                               NaN        NaN         NaN  \n",
       "2                               NaN        NaN         NaN  \n",
       "3                               NaN        NaN         NaN  \n",
       "4                               NaN        NaN         NaN  \n",
       "...                             ...        ...         ...  \n",
       "1294                       Reporter  Unrelated      Satire  \n",
       "1295                       Reporter  Unrelated  Clickbaits  \n",
       "1296  ফেনী ফায়ার স্টেশনের ইনচার্জ   Unrelated      Satire  \n",
       "1297                       Reporter    Related      Satire  \n",
       "1298      মুম্বাই বিমানবন্দর সূত্র   Unrelated      Satire  \n",
       "\n",
       "[58478 rows x 10 columns]>"
      ]
     },
     "execution_count": 20,
     "metadata": {},
     "output_type": "execute_result"
    }
   ],
   "source": [
    "df.head"
   ]
  },
  {
   "cell_type": "code",
   "execution_count": 21,
   "id": "fffdfff2",
   "metadata": {},
   "outputs": [
    {
     "data": {
      "text/html": [
       "<div>\n",
       "<style scoped>\n",
       "    .dataframe tbody tr th:only-of-type {\n",
       "        vertical-align: middle;\n",
       "    }\n",
       "\n",
       "    .dataframe tbody tr th {\n",
       "        vertical-align: top;\n",
       "    }\n",
       "\n",
       "    .dataframe thead th {\n",
       "        text-align: right;\n",
       "    }\n",
       "</style>\n",
       "<table border=\"1\" class=\"dataframe\">\n",
       "  <thead>\n",
       "    <tr style=\"text-align: right;\">\n",
       "      <th></th>\n",
       "      <th>articleID</th>\n",
       "      <th>domain</th>\n",
       "      <th>date</th>\n",
       "      <th>category</th>\n",
       "      <th>headline</th>\n",
       "      <th>content</th>\n",
       "      <th>label</th>\n",
       "      <th>source</th>\n",
       "      <th>relation</th>\n",
       "      <th>F-type</th>\n",
       "    </tr>\n",
       "  </thead>\n",
       "  <tbody>\n",
       "    <tr>\n",
       "      <th>0</th>\n",
       "      <td>1</td>\n",
       "      <td>jagonews24.com</td>\n",
       "      <td>2018-09-19 17:48:18</td>\n",
       "      <td>Education</td>\n",
       "      <td>হট্টগোল করায় বাকৃবিতে দুইজন বরখাস্ত, ৬ জনকে শোকজ</td>\n",
       "      <td>গত ১৭ সেপ্টেম্বর বাংলাদেশ কৃষি বিশ্ববিদ্যালয়ে ...</td>\n",
       "      <td>1</td>\n",
       "      <td>NaN</td>\n",
       "      <td>NaN</td>\n",
       "      <td>NaN</td>\n",
       "    </tr>\n",
       "    <tr>\n",
       "      <th>1</th>\n",
       "      <td>2</td>\n",
       "      <td>jagonews24.com</td>\n",
       "      <td>2018-09-19 17:48:19</td>\n",
       "      <td>National</td>\n",
       "      <td>মালয়েশিয়ায় কর্মী পাঠানোর ব্যবস্থা নেয়ার সুপারিশ</td>\n",
       "      <td>বাংলাদেশের বৃহৎ শ্রমবাজার মালয়েশিয়ায় আবার শ্রম...</td>\n",
       "      <td>1</td>\n",
       "      <td>NaN</td>\n",
       "      <td>NaN</td>\n",
       "      <td>NaN</td>\n",
       "    </tr>\n",
       "    <tr>\n",
       "      <th>2</th>\n",
       "      <td>3</td>\n",
       "      <td>jagonews24.com</td>\n",
       "      <td>2018-09-19 17:48:20</td>\n",
       "      <td>National</td>\n",
       "      <td>প্রেমের প্রস্তাবে রাজি না হওয়ায় স্কুলছাত্রীকে ...</td>\n",
       "      <td>নরসিংদীর মনোহরদীতে প্রেমের প্রস্তাবে রাজি না হ...</td>\n",
       "      <td>1</td>\n",
       "      <td>NaN</td>\n",
       "      <td>NaN</td>\n",
       "      <td>NaN</td>\n",
       "    </tr>\n",
       "    <tr>\n",
       "      <th>3</th>\n",
       "      <td>4</td>\n",
       "      <td>jagonews24.com</td>\n",
       "      <td>2018-09-19 17:48:21</td>\n",
       "      <td>Crime</td>\n",
       "      <td>মেডিয়েশনই মামলাজট নিরসনের পথ : বিচারপতি আহমেদ ...</td>\n",
       "      <td>সুপ্রিম কোর্টের হাইকোর্ট বিভাগের বিচারপতি আহমে...</td>\n",
       "      <td>1</td>\n",
       "      <td>NaN</td>\n",
       "      <td>NaN</td>\n",
       "      <td>NaN</td>\n",
       "    </tr>\n",
       "    <tr>\n",
       "      <th>4</th>\n",
       "      <td>5</td>\n",
       "      <td>jagonews24.com</td>\n",
       "      <td>2018-09-19 17:48:21</td>\n",
       "      <td>National</td>\n",
       "      <td>টকশোতে বক্তব্য দিতে গিয়ে জাপা নেতার মৃত্যু</td>\n",
       "      <td>মাদারীপুর সদরের উপজেলার লেকেরপাড়ে একটি বেসরকার...</td>\n",
       "      <td>1</td>\n",
       "      <td>NaN</td>\n",
       "      <td>NaN</td>\n",
       "      <td>NaN</td>\n",
       "    </tr>\n",
       "    <tr>\n",
       "      <th>...</th>\n",
       "      <td>...</td>\n",
       "      <td>...</td>\n",
       "      <td>...</td>\n",
       "      <td>...</td>\n",
       "      <td>...</td>\n",
       "      <td>...</td>\n",
       "      <td>...</td>\n",
       "      <td>...</td>\n",
       "      <td>...</td>\n",
       "      <td>...</td>\n",
       "    </tr>\n",
       "    <tr>\n",
       "      <th>1294</th>\n",
       "      <td>1303</td>\n",
       "      <td>bengalbeats.com</td>\n",
       "      <td>2019-03-31T21:34:42+00:00</td>\n",
       "      <td>Miscellaneous</td>\n",
       "      <td>রাজশাহীতে স্বামীর হাঁচির আওয়াজে ঘুমের মধ্যেই স...</td>\n",
       "      <td>রাজশাহীর সাহেব বাজার মোড়ে রাতে ঘুমের মধ্যে হাস...</td>\n",
       "      <td>0</td>\n",
       "      <td>Reporter</td>\n",
       "      <td>Unrelated</td>\n",
       "      <td>Satire</td>\n",
       "    </tr>\n",
       "    <tr>\n",
       "      <th>1295</th>\n",
       "      <td>1304</td>\n",
       "      <td>bengaliviralnews.com</td>\n",
       "      <td>2018-01-16T15:36:12+00:00</td>\n",
       "      <td>Miscellaneous</td>\n",
       "      <td>IAS ইন্টারভিউ এ মেয়েটিকে জিজ্ঞসা করা হল মেয়েদে...</td>\n",
       "      <td>IAS পরীক্ষায় এমন এমন অবাক করে দেওয়া প্রশ্ন এসে...</td>\n",
       "      <td>0</td>\n",
       "      <td>Reporter</td>\n",
       "      <td>Unrelated</td>\n",
       "      <td>Clickbaits</td>\n",
       "    </tr>\n",
       "    <tr>\n",
       "      <th>1296</th>\n",
       "      <td>1305</td>\n",
       "      <td>channeldhaka.news</td>\n",
       "      <td>2018-12-03T18:09:08+00:00</td>\n",
       "      <td>Crime</td>\n",
       "      <td>শাওমি মোবাইল বিস্ফোরণে কলেজছাত্রের মৃত্যু!</td>\n",
       "      <td>শাওমি মোবাইল ফোন বিস্ফোরণ হয়ে স্বপ্নীল মজুমদা...</td>\n",
       "      <td>0</td>\n",
       "      <td>ফেনী ফায়ার স্টেশনের ইনচার্জ</td>\n",
       "      <td>Unrelated</td>\n",
       "      <td>Satire</td>\n",
       "    </tr>\n",
       "    <tr>\n",
       "      <th>1297</th>\n",
       "      <td>1306</td>\n",
       "      <td>earki.com</td>\n",
       "      <td>১৭:৩৬, জানুয়ারি ০৭, ২০১৯</td>\n",
       "      <td>Miscellaneous</td>\n",
       "      <td>ফেসবুকে যেভাবে নতুন মন্ত্রীদের অভিনন্দন বার্তা...</td>\n",
       "      <td>আপনাকে নতুন মন্ত্রিসভার সদস্যদের অভিনন্দন জানা...</td>\n",
       "      <td>0</td>\n",
       "      <td>Reporter</td>\n",
       "      <td>Related</td>\n",
       "      <td>Satire</td>\n",
       "    </tr>\n",
       "    <tr>\n",
       "      <th>1298</th>\n",
       "      <td>1307</td>\n",
       "      <td>channeldhaka.news</td>\n",
       "      <td>2019-03-09T23:00:05+00:00</td>\n",
       "      <td>International</td>\n",
       "      <td>মাঝ আকাশে পর্ন দেখার অভিযোগে পাইলট আটক!</td>\n",
       "      <td>বিমান যখন আকাশে তখন আর কোনও দিকে খেয়াল না রেখ...</td>\n",
       "      <td>0</td>\n",
       "      <td>মুম্বাই বিমানবন্দর সূত্র</td>\n",
       "      <td>Unrelated</td>\n",
       "      <td>Satire</td>\n",
       "    </tr>\n",
       "  </tbody>\n",
       "</table>\n",
       "<p>58478 rows × 10 columns</p>\n",
       "</div>"
      ],
      "text/plain": [
       "      articleID                domain                        date  \\\n",
       "0             1        jagonews24.com         2018-09-19 17:48:18   \n",
       "1             2        jagonews24.com         2018-09-19 17:48:19   \n",
       "2             3        jagonews24.com         2018-09-19 17:48:20   \n",
       "3             4        jagonews24.com         2018-09-19 17:48:21   \n",
       "4             5        jagonews24.com         2018-09-19 17:48:21   \n",
       "...         ...                   ...                         ...   \n",
       "1294       1303       bengalbeats.com   2019-03-31T21:34:42+00:00   \n",
       "1295       1304  bengaliviralnews.com   2018-01-16T15:36:12+00:00   \n",
       "1296       1305     channeldhaka.news   2018-12-03T18:09:08+00:00   \n",
       "1297       1306             earki.com  ১৭:৩৬, জানুয়ারি ০৭, ২০১৯    \n",
       "1298       1307     channeldhaka.news   2019-03-09T23:00:05+00:00   \n",
       "\n",
       "           category                                           headline  \\\n",
       "0         Education   হট্টগোল করায় বাকৃবিতে দুইজন বরখাস্ত, ৬ জনকে শোকজ   \n",
       "1          National    মালয়েশিয়ায় কর্মী পাঠানোর ব্যবস্থা নেয়ার সুপারিশ   \n",
       "2          National  প্রেমের প্রস্তাবে রাজি না হওয়ায় স্কুলছাত্রীকে ...   \n",
       "3             Crime  মেডিয়েশনই মামলাজট নিরসনের পথ : বিচারপতি আহমেদ ...   \n",
       "4          National         টকশোতে বক্তব্য দিতে গিয়ে জাপা নেতার মৃত্যু   \n",
       "...             ...                                                ...   \n",
       "1294  Miscellaneous  রাজশাহীতে স্বামীর হাঁচির আওয়াজে ঘুমের মধ্যেই স...   \n",
       "1295  Miscellaneous  IAS ইন্টারভিউ এ মেয়েটিকে জিজ্ঞসা করা হল মেয়েদে...   \n",
       "1296          Crime         শাওমি মোবাইল বিস্ফোরণে কলেজছাত্রের মৃত্যু!   \n",
       "1297  Miscellaneous  ফেসবুকে যেভাবে নতুন মন্ত্রীদের অভিনন্দন বার্তা...   \n",
       "1298  International            মাঝ আকাশে পর্ন দেখার অভিযোগে পাইলট আটক!   \n",
       "\n",
       "                                                content  label  \\\n",
       "0     গত ১৭ সেপ্টেম্বর বাংলাদেশ কৃষি বিশ্ববিদ্যালয়ে ...      1   \n",
       "1     বাংলাদেশের বৃহৎ শ্রমবাজার মালয়েশিয়ায় আবার শ্রম...      1   \n",
       "2     নরসিংদীর মনোহরদীতে প্রেমের প্রস্তাবে রাজি না হ...      1   \n",
       "3     সুপ্রিম কোর্টের হাইকোর্ট বিভাগের বিচারপতি আহমে...      1   \n",
       "4     মাদারীপুর সদরের উপজেলার লেকেরপাড়ে একটি বেসরকার...      1   \n",
       "...                                                 ...    ...   \n",
       "1294  রাজশাহীর সাহেব বাজার মোড়ে রাতে ঘুমের মধ্যে হাস...      0   \n",
       "1295  IAS পরীক্ষায় এমন এমন অবাক করে দেওয়া প্রশ্ন এসে...      0   \n",
       "1296  শাওমি মোবাইল ফোন বিস্ফোরণ হয়ে স্বপ্নীল মজুমদা...      0   \n",
       "1297  আপনাকে নতুন মন্ত্রিসভার সদস্যদের অভিনন্দন জানা...      0   \n",
       "1298  বিমান যখন আকাশে তখন আর কোনও দিকে খেয়াল না রেখ...      0   \n",
       "\n",
       "                             source   relation      F-type  \n",
       "0                               NaN        NaN         NaN  \n",
       "1                               NaN        NaN         NaN  \n",
       "2                               NaN        NaN         NaN  \n",
       "3                               NaN        NaN         NaN  \n",
       "4                               NaN        NaN         NaN  \n",
       "...                             ...        ...         ...  \n",
       "1294                       Reporter  Unrelated      Satire  \n",
       "1295                       Reporter  Unrelated  Clickbaits  \n",
       "1296  ফেনী ফায়ার স্টেশনের ইনচার্জ   Unrelated      Satire  \n",
       "1297                       Reporter    Related      Satire  \n",
       "1298      মুম্বাই বিমানবন্দর সূত্র   Unrelated      Satire  \n",
       "\n",
       "[58478 rows x 10 columns]"
      ]
     },
     "execution_count": 21,
     "metadata": {},
     "output_type": "execute_result"
    }
   ],
   "source": [
    "df"
   ]
  },
  {
   "cell_type": "code",
   "execution_count": 22,
   "id": "12f3da68",
   "metadata": {
    "scrolled": true
   },
   "outputs": [
    {
     "data": {
      "text/html": [
       "<div>\n",
       "<style scoped>\n",
       "    .dataframe tbody tr th:only-of-type {\n",
       "        vertical-align: middle;\n",
       "    }\n",
       "\n",
       "    .dataframe tbody tr th {\n",
       "        vertical-align: top;\n",
       "    }\n",
       "\n",
       "    .dataframe thead th {\n",
       "        text-align: right;\n",
       "    }\n",
       "</style>\n",
       "<table border=\"1\" class=\"dataframe\">\n",
       "  <thead>\n",
       "    <tr style=\"text-align: right;\">\n",
       "      <th></th>\n",
       "      <th>articleID</th>\n",
       "      <th>domain</th>\n",
       "      <th>date</th>\n",
       "      <th>category</th>\n",
       "      <th>headline</th>\n",
       "      <th>content</th>\n",
       "      <th>label</th>\n",
       "      <th>source</th>\n",
       "      <th>relation</th>\n",
       "      <th>F-type</th>\n",
       "    </tr>\n",
       "  </thead>\n",
       "  <tbody>\n",
       "    <tr>\n",
       "      <th>0</th>\n",
       "      <td>False</td>\n",
       "      <td>False</td>\n",
       "      <td>False</td>\n",
       "      <td>False</td>\n",
       "      <td>False</td>\n",
       "      <td>False</td>\n",
       "      <td>False</td>\n",
       "      <td>True</td>\n",
       "      <td>True</td>\n",
       "      <td>True</td>\n",
       "    </tr>\n",
       "    <tr>\n",
       "      <th>1</th>\n",
       "      <td>False</td>\n",
       "      <td>False</td>\n",
       "      <td>False</td>\n",
       "      <td>False</td>\n",
       "      <td>False</td>\n",
       "      <td>False</td>\n",
       "      <td>False</td>\n",
       "      <td>True</td>\n",
       "      <td>True</td>\n",
       "      <td>True</td>\n",
       "    </tr>\n",
       "    <tr>\n",
       "      <th>2</th>\n",
       "      <td>False</td>\n",
       "      <td>False</td>\n",
       "      <td>False</td>\n",
       "      <td>False</td>\n",
       "      <td>False</td>\n",
       "      <td>False</td>\n",
       "      <td>False</td>\n",
       "      <td>True</td>\n",
       "      <td>True</td>\n",
       "      <td>True</td>\n",
       "    </tr>\n",
       "    <tr>\n",
       "      <th>3</th>\n",
       "      <td>False</td>\n",
       "      <td>False</td>\n",
       "      <td>False</td>\n",
       "      <td>False</td>\n",
       "      <td>False</td>\n",
       "      <td>False</td>\n",
       "      <td>False</td>\n",
       "      <td>True</td>\n",
       "      <td>True</td>\n",
       "      <td>True</td>\n",
       "    </tr>\n",
       "    <tr>\n",
       "      <th>4</th>\n",
       "      <td>False</td>\n",
       "      <td>False</td>\n",
       "      <td>False</td>\n",
       "      <td>False</td>\n",
       "      <td>False</td>\n",
       "      <td>False</td>\n",
       "      <td>False</td>\n",
       "      <td>True</td>\n",
       "      <td>True</td>\n",
       "      <td>True</td>\n",
       "    </tr>\n",
       "    <tr>\n",
       "      <th>...</th>\n",
       "      <td>...</td>\n",
       "      <td>...</td>\n",
       "      <td>...</td>\n",
       "      <td>...</td>\n",
       "      <td>...</td>\n",
       "      <td>...</td>\n",
       "      <td>...</td>\n",
       "      <td>...</td>\n",
       "      <td>...</td>\n",
       "      <td>...</td>\n",
       "    </tr>\n",
       "    <tr>\n",
       "      <th>1294</th>\n",
       "      <td>False</td>\n",
       "      <td>False</td>\n",
       "      <td>False</td>\n",
       "      <td>False</td>\n",
       "      <td>False</td>\n",
       "      <td>False</td>\n",
       "      <td>False</td>\n",
       "      <td>False</td>\n",
       "      <td>False</td>\n",
       "      <td>False</td>\n",
       "    </tr>\n",
       "    <tr>\n",
       "      <th>1295</th>\n",
       "      <td>False</td>\n",
       "      <td>False</td>\n",
       "      <td>False</td>\n",
       "      <td>False</td>\n",
       "      <td>False</td>\n",
       "      <td>False</td>\n",
       "      <td>False</td>\n",
       "      <td>False</td>\n",
       "      <td>False</td>\n",
       "      <td>False</td>\n",
       "    </tr>\n",
       "    <tr>\n",
       "      <th>1296</th>\n",
       "      <td>False</td>\n",
       "      <td>False</td>\n",
       "      <td>False</td>\n",
       "      <td>False</td>\n",
       "      <td>False</td>\n",
       "      <td>False</td>\n",
       "      <td>False</td>\n",
       "      <td>False</td>\n",
       "      <td>False</td>\n",
       "      <td>False</td>\n",
       "    </tr>\n",
       "    <tr>\n",
       "      <th>1297</th>\n",
       "      <td>False</td>\n",
       "      <td>False</td>\n",
       "      <td>False</td>\n",
       "      <td>False</td>\n",
       "      <td>False</td>\n",
       "      <td>False</td>\n",
       "      <td>False</td>\n",
       "      <td>False</td>\n",
       "      <td>False</td>\n",
       "      <td>False</td>\n",
       "    </tr>\n",
       "    <tr>\n",
       "      <th>1298</th>\n",
       "      <td>False</td>\n",
       "      <td>False</td>\n",
       "      <td>False</td>\n",
       "      <td>False</td>\n",
       "      <td>False</td>\n",
       "      <td>False</td>\n",
       "      <td>False</td>\n",
       "      <td>False</td>\n",
       "      <td>False</td>\n",
       "      <td>False</td>\n",
       "    </tr>\n",
       "  </tbody>\n",
       "</table>\n",
       "<p>58478 rows × 10 columns</p>\n",
       "</div>"
      ],
      "text/plain": [
       "      articleID  domain   date  category  headline  content  label  source  \\\n",
       "0         False   False  False     False     False    False  False    True   \n",
       "1         False   False  False     False     False    False  False    True   \n",
       "2         False   False  False     False     False    False  False    True   \n",
       "3         False   False  False     False     False    False  False    True   \n",
       "4         False   False  False     False     False    False  False    True   \n",
       "...         ...     ...    ...       ...       ...      ...    ...     ...   \n",
       "1294      False   False  False     False     False    False  False   False   \n",
       "1295      False   False  False     False     False    False  False   False   \n",
       "1296      False   False  False     False     False    False  False   False   \n",
       "1297      False   False  False     False     False    False  False   False   \n",
       "1298      False   False  False     False     False    False  False   False   \n",
       "\n",
       "      relation  F-type  \n",
       "0         True    True  \n",
       "1         True    True  \n",
       "2         True    True  \n",
       "3         True    True  \n",
       "4         True    True  \n",
       "...        ...     ...  \n",
       "1294     False   False  \n",
       "1295     False   False  \n",
       "1296     False   False  \n",
       "1297     False   False  \n",
       "1298     False   False  \n",
       "\n",
       "[58478 rows x 10 columns]"
      ]
     },
     "execution_count": 22,
     "metadata": {},
     "output_type": "execute_result"
    }
   ],
   "source": [
    "df.isnull()"
   ]
  },
  {
   "cell_type": "code",
   "execution_count": 23,
   "id": "760668fc",
   "metadata": {},
   "outputs": [
    {
     "data": {
      "text/plain": [
       "label\n",
       "1    55880\n",
       "0     2598\n",
       "dtype: int64"
      ]
     },
     "execution_count": 23,
     "metadata": {},
     "output_type": "execute_result"
    }
   ],
   "source": [
    "df.value_counts(\"label\")"
   ]
  },
  {
   "cell_type": "code",
   "execution_count": 24,
   "id": "9fc7e0ac",
   "metadata": {},
   "outputs": [
    {
     "data": {
      "text/html": [
       "<div>\n",
       "<style scoped>\n",
       "    .dataframe tbody tr th:only-of-type {\n",
       "        vertical-align: middle;\n",
       "    }\n",
       "\n",
       "    .dataframe tbody tr th {\n",
       "        vertical-align: top;\n",
       "    }\n",
       "\n",
       "    .dataframe thead th {\n",
       "        text-align: right;\n",
       "    }\n",
       "</style>\n",
       "<table border=\"1\" class=\"dataframe\">\n",
       "  <thead>\n",
       "    <tr style=\"text-align: right;\">\n",
       "      <th></th>\n",
       "      <th>articleID</th>\n",
       "      <th>domain</th>\n",
       "      <th>date</th>\n",
       "      <th>category</th>\n",
       "      <th>headline</th>\n",
       "      <th>content</th>\n",
       "      <th>label</th>\n",
       "      <th>source</th>\n",
       "      <th>relation</th>\n",
       "      <th>F-type</th>\n",
       "    </tr>\n",
       "  </thead>\n",
       "  <tbody>\n",
       "    <tr>\n",
       "      <th>0</th>\n",
       "      <td>1</td>\n",
       "      <td>jagonews24.com</td>\n",
       "      <td>2018-09-19 17:48:18</td>\n",
       "      <td>Education</td>\n",
       "      <td>হট্টগোল করায় বাকৃবিতে দুইজন বরখাস্ত, ৬ জনকে শোকজ</td>\n",
       "      <td>গত ১৭ সেপ্টেম্বর বাংলাদেশ কৃষি বিশ্ববিদ্যালয়ে ...</td>\n",
       "      <td>1</td>\n",
       "      <td>NaN</td>\n",
       "      <td>NaN</td>\n",
       "      <td>NaN</td>\n",
       "    </tr>\n",
       "    <tr>\n",
       "      <th>1</th>\n",
       "      <td>2</td>\n",
       "      <td>jagonews24.com</td>\n",
       "      <td>2018-09-19 17:48:19</td>\n",
       "      <td>National</td>\n",
       "      <td>মালয়েশিয়ায় কর্মী পাঠানোর ব্যবস্থা নেয়ার সুপারিশ</td>\n",
       "      <td>বাংলাদেশের বৃহৎ শ্রমবাজার মালয়েশিয়ায় আবার শ্রম...</td>\n",
       "      <td>1</td>\n",
       "      <td>NaN</td>\n",
       "      <td>NaN</td>\n",
       "      <td>NaN</td>\n",
       "    </tr>\n",
       "    <tr>\n",
       "      <th>2</th>\n",
       "      <td>3</td>\n",
       "      <td>jagonews24.com</td>\n",
       "      <td>2018-09-19 17:48:20</td>\n",
       "      <td>National</td>\n",
       "      <td>প্রেমের প্রস্তাবে রাজি না হওয়ায় স্কুলছাত্রীকে ...</td>\n",
       "      <td>নরসিংদীর মনোহরদীতে প্রেমের প্রস্তাবে রাজি না হ...</td>\n",
       "      <td>1</td>\n",
       "      <td>NaN</td>\n",
       "      <td>NaN</td>\n",
       "      <td>NaN</td>\n",
       "    </tr>\n",
       "    <tr>\n",
       "      <th>3</th>\n",
       "      <td>4</td>\n",
       "      <td>jagonews24.com</td>\n",
       "      <td>2018-09-19 17:48:21</td>\n",
       "      <td>Crime</td>\n",
       "      <td>মেডিয়েশনই মামলাজট নিরসনের পথ : বিচারপতি আহমেদ ...</td>\n",
       "      <td>সুপ্রিম কোর্টের হাইকোর্ট বিভাগের বিচারপতি আহমে...</td>\n",
       "      <td>1</td>\n",
       "      <td>NaN</td>\n",
       "      <td>NaN</td>\n",
       "      <td>NaN</td>\n",
       "    </tr>\n",
       "    <tr>\n",
       "      <th>4</th>\n",
       "      <td>5</td>\n",
       "      <td>jagonews24.com</td>\n",
       "      <td>2018-09-19 17:48:21</td>\n",
       "      <td>National</td>\n",
       "      <td>টকশোতে বক্তব্য দিতে গিয়ে জাপা নেতার মৃত্যু</td>\n",
       "      <td>মাদারীপুর সদরের উপজেলার লেকেরপাড়ে একটি বেসরকার...</td>\n",
       "      <td>1</td>\n",
       "      <td>NaN</td>\n",
       "      <td>NaN</td>\n",
       "      <td>NaN</td>\n",
       "    </tr>\n",
       "    <tr>\n",
       "      <th>...</th>\n",
       "      <td>...</td>\n",
       "      <td>...</td>\n",
       "      <td>...</td>\n",
       "      <td>...</td>\n",
       "      <td>...</td>\n",
       "      <td>...</td>\n",
       "      <td>...</td>\n",
       "      <td>...</td>\n",
       "      <td>...</td>\n",
       "      <td>...</td>\n",
       "    </tr>\n",
       "    <tr>\n",
       "      <th>1294</th>\n",
       "      <td>1303</td>\n",
       "      <td>bengalbeats.com</td>\n",
       "      <td>2019-03-31T21:34:42+00:00</td>\n",
       "      <td>Miscellaneous</td>\n",
       "      <td>রাজশাহীতে স্বামীর হাঁচির আওয়াজে ঘুমের মধ্যেই স...</td>\n",
       "      <td>রাজশাহীর সাহেব বাজার মোড়ে রাতে ঘুমের মধ্যে হাস...</td>\n",
       "      <td>0</td>\n",
       "      <td>Reporter</td>\n",
       "      <td>Unrelated</td>\n",
       "      <td>Satire</td>\n",
       "    </tr>\n",
       "    <tr>\n",
       "      <th>1295</th>\n",
       "      <td>1304</td>\n",
       "      <td>bengaliviralnews.com</td>\n",
       "      <td>2018-01-16T15:36:12+00:00</td>\n",
       "      <td>Miscellaneous</td>\n",
       "      <td>IAS ইন্টারভিউ এ মেয়েটিকে জিজ্ঞসা করা হল মেয়েদে...</td>\n",
       "      <td>IAS পরীক্ষায় এমন এমন অবাক করে দেওয়া প্রশ্ন এসে...</td>\n",
       "      <td>0</td>\n",
       "      <td>Reporter</td>\n",
       "      <td>Unrelated</td>\n",
       "      <td>Clickbaits</td>\n",
       "    </tr>\n",
       "    <tr>\n",
       "      <th>1296</th>\n",
       "      <td>1305</td>\n",
       "      <td>channeldhaka.news</td>\n",
       "      <td>2018-12-03T18:09:08+00:00</td>\n",
       "      <td>Crime</td>\n",
       "      <td>শাওমি মোবাইল বিস্ফোরণে কলেজছাত্রের মৃত্যু!</td>\n",
       "      <td>শাওমি মোবাইল ফোন বিস্ফোরণ হয়ে স্বপ্নীল মজুমদা...</td>\n",
       "      <td>0</td>\n",
       "      <td>ফেনী ফায়ার স্টেশনের ইনচার্জ</td>\n",
       "      <td>Unrelated</td>\n",
       "      <td>Satire</td>\n",
       "    </tr>\n",
       "    <tr>\n",
       "      <th>1297</th>\n",
       "      <td>1306</td>\n",
       "      <td>earki.com</td>\n",
       "      <td>১৭:৩৬, জানুয়ারি ০৭, ২০১৯</td>\n",
       "      <td>Miscellaneous</td>\n",
       "      <td>ফেসবুকে যেভাবে নতুন মন্ত্রীদের অভিনন্দন বার্তা...</td>\n",
       "      <td>আপনাকে নতুন মন্ত্রিসভার সদস্যদের অভিনন্দন জানা...</td>\n",
       "      <td>0</td>\n",
       "      <td>Reporter</td>\n",
       "      <td>Related</td>\n",
       "      <td>Satire</td>\n",
       "    </tr>\n",
       "    <tr>\n",
       "      <th>1298</th>\n",
       "      <td>1307</td>\n",
       "      <td>channeldhaka.news</td>\n",
       "      <td>2019-03-09T23:00:05+00:00</td>\n",
       "      <td>International</td>\n",
       "      <td>মাঝ আকাশে পর্ন দেখার অভিযোগে পাইলট আটক!</td>\n",
       "      <td>বিমান যখন আকাশে তখন আর কোনও দিকে খেয়াল না রেখ...</td>\n",
       "      <td>0</td>\n",
       "      <td>মুম্বাই বিমানবন্দর সূত্র</td>\n",
       "      <td>Unrelated</td>\n",
       "      <td>Satire</td>\n",
       "    </tr>\n",
       "  </tbody>\n",
       "</table>\n",
       "<p>58478 rows × 10 columns</p>\n",
       "</div>"
      ],
      "text/plain": [
       "      articleID                domain                        date  \\\n",
       "0             1        jagonews24.com         2018-09-19 17:48:18   \n",
       "1             2        jagonews24.com         2018-09-19 17:48:19   \n",
       "2             3        jagonews24.com         2018-09-19 17:48:20   \n",
       "3             4        jagonews24.com         2018-09-19 17:48:21   \n",
       "4             5        jagonews24.com         2018-09-19 17:48:21   \n",
       "...         ...                   ...                         ...   \n",
       "1294       1303       bengalbeats.com   2019-03-31T21:34:42+00:00   \n",
       "1295       1304  bengaliviralnews.com   2018-01-16T15:36:12+00:00   \n",
       "1296       1305     channeldhaka.news   2018-12-03T18:09:08+00:00   \n",
       "1297       1306             earki.com  ১৭:৩৬, জানুয়ারি ০৭, ২০১৯    \n",
       "1298       1307     channeldhaka.news   2019-03-09T23:00:05+00:00   \n",
       "\n",
       "           category                                           headline  \\\n",
       "0         Education   হট্টগোল করায় বাকৃবিতে দুইজন বরখাস্ত, ৬ জনকে শোকজ   \n",
       "1          National    মালয়েশিয়ায় কর্মী পাঠানোর ব্যবস্থা নেয়ার সুপারিশ   \n",
       "2          National  প্রেমের প্রস্তাবে রাজি না হওয়ায় স্কুলছাত্রীকে ...   \n",
       "3             Crime  মেডিয়েশনই মামলাজট নিরসনের পথ : বিচারপতি আহমেদ ...   \n",
       "4          National         টকশোতে বক্তব্য দিতে গিয়ে জাপা নেতার মৃত্যু   \n",
       "...             ...                                                ...   \n",
       "1294  Miscellaneous  রাজশাহীতে স্বামীর হাঁচির আওয়াজে ঘুমের মধ্যেই স...   \n",
       "1295  Miscellaneous  IAS ইন্টারভিউ এ মেয়েটিকে জিজ্ঞসা করা হল মেয়েদে...   \n",
       "1296          Crime         শাওমি মোবাইল বিস্ফোরণে কলেজছাত্রের মৃত্যু!   \n",
       "1297  Miscellaneous  ফেসবুকে যেভাবে নতুন মন্ত্রীদের অভিনন্দন বার্তা...   \n",
       "1298  International            মাঝ আকাশে পর্ন দেখার অভিযোগে পাইলট আটক!   \n",
       "\n",
       "                                                content  label  \\\n",
       "0     গত ১৭ সেপ্টেম্বর বাংলাদেশ কৃষি বিশ্ববিদ্যালয়ে ...      1   \n",
       "1     বাংলাদেশের বৃহৎ শ্রমবাজার মালয়েশিয়ায় আবার শ্রম...      1   \n",
       "2     নরসিংদীর মনোহরদীতে প্রেমের প্রস্তাবে রাজি না হ...      1   \n",
       "3     সুপ্রিম কোর্টের হাইকোর্ট বিভাগের বিচারপতি আহমে...      1   \n",
       "4     মাদারীপুর সদরের উপজেলার লেকেরপাড়ে একটি বেসরকার...      1   \n",
       "...                                                 ...    ...   \n",
       "1294  রাজশাহীর সাহেব বাজার মোড়ে রাতে ঘুমের মধ্যে হাস...      0   \n",
       "1295  IAS পরীক্ষায় এমন এমন অবাক করে দেওয়া প্রশ্ন এসে...      0   \n",
       "1296  শাওমি মোবাইল ফোন বিস্ফোরণ হয়ে স্বপ্নীল মজুমদা...      0   \n",
       "1297  আপনাকে নতুন মন্ত্রিসভার সদস্যদের অভিনন্দন জানা...      0   \n",
       "1298  বিমান যখন আকাশে তখন আর কোনও দিকে খেয়াল না রেখ...      0   \n",
       "\n",
       "                             source   relation      F-type  \n",
       "0                               NaN        NaN         NaN  \n",
       "1                               NaN        NaN         NaN  \n",
       "2                               NaN        NaN         NaN  \n",
       "3                               NaN        NaN         NaN  \n",
       "4                               NaN        NaN         NaN  \n",
       "...                             ...        ...         ...  \n",
       "1294                       Reporter  Unrelated      Satire  \n",
       "1295                       Reporter  Unrelated  Clickbaits  \n",
       "1296  ফেনী ফায়ার স্টেশনের ইনচার্জ   Unrelated      Satire  \n",
       "1297                       Reporter    Related      Satire  \n",
       "1298      মুম্বাই বিমানবন্দর সূত্র   Unrelated      Satire  \n",
       "\n",
       "[58478 rows x 10 columns]"
      ]
     },
     "execution_count": 24,
     "metadata": {},
     "output_type": "execute_result"
    }
   ],
   "source": [
    "df"
   ]
  },
  {
   "cell_type": "code",
   "execution_count": 25,
   "id": "23fbb740",
   "metadata": {},
   "outputs": [],
   "source": [
    "text = df['content'].values.tolist()"
   ]
  },
  {
   "cell_type": "code",
   "execution_count": 26,
   "id": "73914a34",
   "metadata": {},
   "outputs": [
    {
     "data": {
      "text/html": [
       "<div>\n",
       "<style scoped>\n",
       "    .dataframe tbody tr th:only-of-type {\n",
       "        vertical-align: middle;\n",
       "    }\n",
       "\n",
       "    .dataframe tbody tr th {\n",
       "        vertical-align: top;\n",
       "    }\n",
       "\n",
       "    .dataframe thead tr th {\n",
       "        text-align: left;\n",
       "    }\n",
       "\n",
       "    .dataframe thead tr:last-of-type th {\n",
       "        text-align: right;\n",
       "    }\n",
       "</style>\n",
       "<table border=\"1\" class=\"dataframe\">\n",
       "  <thead>\n",
       "    <tr>\n",
       "      <th></th>\n",
       "      <th colspan=\"8\" halign=\"left\">articleID</th>\n",
       "    </tr>\n",
       "    <tr>\n",
       "      <th></th>\n",
       "      <th>count</th>\n",
       "      <th>mean</th>\n",
       "      <th>std</th>\n",
       "      <th>min</th>\n",
       "      <th>25%</th>\n",
       "      <th>50%</th>\n",
       "      <th>75%</th>\n",
       "      <th>max</th>\n",
       "    </tr>\n",
       "    <tr>\n",
       "      <th>label</th>\n",
       "      <th></th>\n",
       "      <th></th>\n",
       "      <th></th>\n",
       "      <th></th>\n",
       "      <th></th>\n",
       "      <th></th>\n",
       "      <th></th>\n",
       "      <th></th>\n",
       "    </tr>\n",
       "  </thead>\n",
       "  <tbody>\n",
       "    <tr>\n",
       "      <th>0</th>\n",
       "      <td>2598.0</td>\n",
       "      <td>653.268668</td>\n",
       "      <td>377.032471</td>\n",
       "      <td>1.0</td>\n",
       "      <td>326.25</td>\n",
       "      <td>653.0</td>\n",
       "      <td>978.75</td>\n",
       "      <td>1307.0</td>\n",
       "    </tr>\n",
       "    <tr>\n",
       "      <th>1</th>\n",
       "      <td>55880.0</td>\n",
       "      <td>27365.029295</td>\n",
       "      <td>19008.541200</td>\n",
       "      <td>1.0</td>\n",
       "      <td>8507.50</td>\n",
       "      <td>26153.5</td>\n",
       "      <td>44018.25</td>\n",
       "      <td>61780.0</td>\n",
       "    </tr>\n",
       "  </tbody>\n",
       "</table>\n",
       "</div>"
      ],
      "text/plain": [
       "      articleID                                                               \\\n",
       "          count          mean           std  min      25%      50%       75%   \n",
       "label                                                                          \n",
       "0        2598.0    653.268668    377.032471  1.0   326.25    653.0    978.75   \n",
       "1       55880.0  27365.029295  19008.541200  1.0  8507.50  26153.5  44018.25   \n",
       "\n",
       "                \n",
       "           max  \n",
       "label           \n",
       "0       1307.0  \n",
       "1      61780.0  "
      ]
     },
     "execution_count": 26,
     "metadata": {},
     "output_type": "execute_result"
    }
   ],
   "source": [
    "df.groupby(\"label\").describe()"
   ]
  },
  {
   "cell_type": "code",
   "execution_count": 27,
   "id": "9367651b",
   "metadata": {},
   "outputs": [
    {
     "data": {
      "text/plain": [
       "1    55880\n",
       "0     2598\n",
       "Name: label, dtype: int64"
      ]
     },
     "execution_count": 27,
     "metadata": {},
     "output_type": "execute_result"
    }
   ],
   "source": [
    "df[\"label\"].value_counts()"
   ]
  },
  {
   "cell_type": "code",
   "execution_count": 28,
   "id": "17a8951f",
   "metadata": {},
   "outputs": [
    {
     "name": "stderr",
     "output_type": "stream",
     "text": [
      "C:\\Users\\RAZER\\anaconda3\\lib\\site-packages\\seaborn\\_decorators.py:36: FutureWarning: Pass the following variable as a keyword arg: x. From version 0.12, the only valid positional argument will be `data`, and passing other arguments without an explicit keyword will result in an error or misinterpretation.\n",
      "  warnings.warn(\n"
     ]
    },
    {
     "data": {
      "image/png": "[encoded data removed]",
      "text/plain": [
       "<Figure size 576x432 with 1 Axes>"
      ]
     },
     "metadata": {
      "needs_background": "light"
     },
     "output_type": "display_data"
    }
   ],
   "source": [
    "plt.subplots(figsize=(8,6))\n",
    "sns.countplot(df[\"label\"])\n",
    "plt.show()"
   ]
  },
  {
   "cell_type": "code",
   "execution_count": 29,
   "id": "8dd4d10d",
   "metadata": {},
   "outputs": [
    {
     "name": "stdout",
     "output_type": "stream",
     "text": [
      "27155\n"
     ]
    }
   ],
   "source": [
    "longest_string = max(df[\"content\"], key=len)\n",
    "print(len(longest_string))"
   ]
  },
  {
   "cell_type": "code",
   "execution_count": 30,
   "id": "5a02d478",
   "metadata": {},
   "outputs": [],
   "source": [
    "#importing libraries for data cleaning\n",
    "import nltk\n",
    "from bs4 import BeautifulSoup\n",
    "import re,string,unicodedata"
   ]
  },
  {
   "cell_type": "code",
   "execution_count": 31,
   "id": "9fcb0c21",
   "metadata": {},
   "outputs": [
    {
     "name": "stderr",
     "output_type": "stream",
     "text": [
      "C:\\Users\\RAZER\\anaconda3\\lib\\site-packages\\bs4\\__init__.py:435: MarkupResemblesLocatorWarning: The input looks more like a filename than markup. You may want to open this file and pass the filehandle into Beautiful Soup.\n",
      "  warnings.warn(\n"
     ]
    }
   ],
   "source": [
    "#Removing the html strips\n",
    "def strip_html(text):\n",
    "    soup = BeautifulSoup(text, \"html.parser\")\n",
    "    return soup.get_text()\n",
    "\n",
    "#Removing the square brackets\n",
    "def remove_between_square_brackets(text):\n",
    "    return re.sub('\\[[^]]*\\]', '', text)\n",
    "\n",
    "#Removing the noisy text\n",
    "def denoise_text(text):\n",
    "    text = strip_html(text)\n",
    "    text = remove_between_square_brackets(text)\n",
    "    return text\n",
    "#Apply function on description column\n",
    "df['content']=df['content'].apply(denoise_text)"
   ]
  },
  {
   "cell_type": "code",
   "execution_count": 32,
   "id": "be664942",
   "metadata": {},
   "outputs": [],
   "source": [
    "#remove special character\n",
    "def rem_special_characters(text):\n",
    "    pattern = re.compile('[!@#$%^&*()_+-={}\\[\\];:\\'\\\"\\|<>,.///?`~।]', flags=re.I)\n",
    "    return pattern.sub(r'', text)\n",
    "#remove non bangla character\n",
    "def rem_non_bangla_characters(text):\n",
    "    pattern = re.compile('[A-Z]', flags=re.I)\n",
    "    return pattern.sub(r'', text)\n",
    "#remove non empticons character\n",
    "def rem_emoticons(text):\n",
    "    regrex_pattern = re.compile(pattern = \"[\"\n",
    "        u\"\\U0001F600-\\U0001F64F\"  # emoticons\n",
    "        u\"\\U0001F300-\\U0001F5FF\"  # symbols & pictographs\n",
    "        u\"\\U0001F680-\\U0001F6FF\"  # transport & map symbols\n",
    "        u\"\\U0001F1E0-\\U0001F1FF\"  # flags (iOS)\n",
    "                           \"]+\", flags = re.UNICODE)\n",
    "    return regrex_pattern.sub(r'',text)\n",
    "\n",
    "#remove noise\n",
    "def Remove_text(text):\n",
    "    text = rem_special_characters(text)\n",
    "    text = rem_non_bangla_characters(text)\n",
    "    text = rem_emoticons(text)\n",
    "    return text\n",
    "#Apply function on description column\n",
    "df['content']=df['content'].apply(Remove_text)"
   ]
  },
  {
   "cell_type": "code",
   "execution_count": 33,
   "id": "e5baeb66",
   "metadata": {},
   "outputs": [
    {
     "data": {
      "text/plain": [
       "0       গত ১৭ সেপ্টেম্বর বাংলাদেশ কৃষি বিশ্ববিদ্যালয়ে ...\n",
       "1       বাংলাদেশের বৃহৎ শ্রমবাজার মালয়েশিয়ায় আবার শ্রম...\n",
       "2       নরসিংদীর মনোহরদীতে প্রেমের প্রস্তাবে রাজি না হ...\n",
       "3       সুপ্রিম কোর্টের হাইকোর্ট বিভাগের বিচারপতি আহমে...\n",
       "4       মাদারীপুর সদরের উপজেলার লেকেরপাড়ে একটি বেসরকার...\n",
       "                              ...                        \n",
       "1294    রাজশাহীর সাহেব বাজার মোড়ে রাতে ঘুমের মধ্যে হাস...\n",
       "1295     পরীক্ষায় এমন এমন অবাক করে দেওয়া প্রশ্ন এসেছে ...\n",
       "1296    শাওমি মোবাইল ফোন বিস্ফোরণ হয়ে স্বপ্নীল মজুমদা...\n",
       "1297    আপনাকে নতুন মন্ত্রিসভার সদস্যদের অভিনন্দন জানা...\n",
       "1298    বিমান যখন আকাশে তখন আর কোনও দিকে খেয়াল না রেখ...\n",
       "Name: content, Length: 58478, dtype: object"
      ]
     },
     "execution_count": 33,
     "metadata": {},
     "output_type": "execute_result"
    }
   ],
   "source": [
    "df['content']"
   ]
  },
  {
   "cell_type": "code",
   "execution_count": 34,
   "id": "afced9f3",
   "metadata": {},
   "outputs": [
    {
     "name": "stdout",
     "output_type": "stream",
     "text": [
      "26004\n"
     ]
    }
   ],
   "source": [
    "#checking longest sting size\n",
    "longest_string = max(df[\"content\"], key=len)\n",
    "print(len(longest_string))"
   ]
  },
  {
   "cell_type": "code",
   "execution_count": 35,
   "id": "cf6d8169",
   "metadata": {},
   "outputs": [
    {
     "name": "stderr",
     "output_type": "stream",
     "text": [
      "C:\\Users\\RAZER\\AppData\\Local\\Temp\\ipykernel_1376\\3308837054.py:1: SettingWithCopyWarning: \n",
      "A value is trying to be set on a copy of a slice from a DataFrame\n",
      "\n",
      "See the caveats in the documentation: https://pandas.pydata.org/pandas-docs/stable/user_guide/indexing.html#returning-a-view-versus-a-copy\n",
      "  df.label[df.label == 1]=\"real\"\n"
     ]
    }
   ],
   "source": [
    "df.label[df.label == 1]=\"real\"\n",
    "df.label[df.label == 0]=\"fake\""
   ]
  },
  {
   "cell_type": "code",
   "execution_count": 36,
   "id": "2fd1d060",
   "metadata": {},
   "outputs": [
    {
     "data": {
      "text/plain": [
       "0       real\n",
       "1       real\n",
       "2       real\n",
       "3       real\n",
       "4       real\n",
       "        ... \n",
       "1294    fake\n",
       "1295    fake\n",
       "1296    fake\n",
       "1297    fake\n",
       "1298    fake\n",
       "Name: label, Length: 58478, dtype: object"
      ]
     },
     "execution_count": 36,
     "metadata": {},
     "output_type": "execute_result"
    }
   ],
   "source": [
    "df['label']"
   ]
  },
  {
   "cell_type": "code",
   "execution_count": 37,
   "id": "77143afb",
   "metadata": {},
   "outputs": [
    {
     "data": {
      "text/html": [
       "<div>\n",
       "<style scoped>\n",
       "    .dataframe tbody tr th:only-of-type {\n",
       "        vertical-align: middle;\n",
       "    }\n",
       "\n",
       "    .dataframe tbody tr th {\n",
       "        vertical-align: top;\n",
       "    }\n",
       "\n",
       "    .dataframe thead th {\n",
       "        text-align: right;\n",
       "    }\n",
       "</style>\n",
       "<table border=\"1\" class=\"dataframe\">\n",
       "  <thead>\n",
       "    <tr style=\"text-align: right;\">\n",
       "      <th></th>\n",
       "      <th>label</th>\n",
       "      <th>Text_label</th>\n",
       "    </tr>\n",
       "  </thead>\n",
       "  <tbody>\n",
       "    <tr>\n",
       "      <th>0</th>\n",
       "      <td>real</td>\n",
       "      <td>1</td>\n",
       "    </tr>\n",
       "    <tr>\n",
       "      <th>1</th>\n",
       "      <td>real</td>\n",
       "      <td>1</td>\n",
       "    </tr>\n",
       "    <tr>\n",
       "      <th>2</th>\n",
       "      <td>real</td>\n",
       "      <td>1</td>\n",
       "    </tr>\n",
       "    <tr>\n",
       "      <th>3</th>\n",
       "      <td>real</td>\n",
       "      <td>1</td>\n",
       "    </tr>\n",
       "    <tr>\n",
       "      <th>4</th>\n",
       "      <td>real</td>\n",
       "      <td>1</td>\n",
       "    </tr>\n",
       "    <tr>\n",
       "      <th>5</th>\n",
       "      <td>real</td>\n",
       "      <td>1</td>\n",
       "    </tr>\n",
       "    <tr>\n",
       "      <th>6</th>\n",
       "      <td>real</td>\n",
       "      <td>1</td>\n",
       "    </tr>\n",
       "    <tr>\n",
       "      <th>7</th>\n",
       "      <td>real</td>\n",
       "      <td>1</td>\n",
       "    </tr>\n",
       "    <tr>\n",
       "      <th>8</th>\n",
       "      <td>real</td>\n",
       "      <td>1</td>\n",
       "    </tr>\n",
       "    <tr>\n",
       "      <th>9</th>\n",
       "      <td>real</td>\n",
       "      <td>1</td>\n",
       "    </tr>\n",
       "    <tr>\n",
       "      <th>10</th>\n",
       "      <td>real</td>\n",
       "      <td>1</td>\n",
       "    </tr>\n",
       "  </tbody>\n",
       "</table>\n",
       "</div>"
      ],
      "text/plain": [
       "   label  Text_label\n",
       "0   real           1\n",
       "1   real           1\n",
       "2   real           1\n",
       "3   real           1\n",
       "4   real           1\n",
       "5   real           1\n",
       "6   real           1\n",
       "7   real           1\n",
       "8   real           1\n",
       "9   real           1\n",
       "10  real           1"
      ]
     },
     "execution_count": 37,
     "metadata": {},
     "output_type": "execute_result"
    }
   ],
   "source": [
    "from sklearn.preprocessing import LabelEncoder\n",
    "\n",
    "lb_make = LabelEncoder()\n",
    "df[\"Text_label\"] = lb_make.fit_transform(df[\"label\"])\n",
    "df[[\"label\", \"Text_label\"]].head(11)"
   ]
  },
  {
   "cell_type": "code",
   "execution_count": 38,
   "id": "699e5e06",
   "metadata": {},
   "outputs": [
    {
     "data": {
      "text/plain": [
       "real    55880\n",
       "fake     2598\n",
       "Name: label, dtype: int64"
      ]
     },
     "execution_count": 38,
     "metadata": {},
     "output_type": "execute_result"
    }
   ],
   "source": [
    "df[\"label\"].value_counts()"
   ]
  },
  {
   "cell_type": "code",
   "execution_count": 39,
   "id": "f5084f38",
   "metadata": {},
   "outputs": [],
   "source": [
    "def tokenized_data(sent):\n",
    "    tokenized_text = sent.split()\n",
    "    return tokenized_text"
   ]
  },
  {
   "cell_type": "code",
   "execution_count": 40,
   "id": "d2a11873",
   "metadata": {},
   "outputs": [],
   "source": [
    "# stop_words = {'এ', 'হয়', 'কি', 'কী', 'এর', 'কে', 'যে', 'এই', 'বা', 'সব', 'টি', 'তা',\n",
    "#        'সে', 'তাই', 'সেই', 'তার', 'আগে', 'যদি', 'আছে', 'আমি', 'এবং', 'করে', 'কার', 'এটি', 'হতে', 'যায়',\n",
    "#        'আরও', 'যাক', 'খুব', 'উপর', 'পরে', 'হবে', 'কেন', 'কখন', 'সকল', 'হয়', 'ঠিক', 'একই', 'কোন',\n",
    "#        'ছিল', 'খুবই', 'কোনো', 'অধীন', 'যারা', 'তারা', 'গুলি', 'তাকে', 'সেটা', 'সময়', 'আমার', 'আমরা', 'সবার',\n",
    "#        'উভয়', 'একটা', 'আপনি', 'নিয়ে', 'একটি', 'বন্ধ', 'জন্য', 'শুধু', 'যেটা', 'উচিত', 'মাঝে', 'থেকে', 'করবে',\n",
    "#        'আবার', 'উপরে', 'সেটি', 'কিছু', 'কারণ', 'যেমন', 'তিনি', 'মধ্যে', 'আমাকে', 'করছেন', 'তুলনা', 'তারপর',\n",
    "#        'নিজেই', 'থাকার', 'নিজের', 'পারেন', 'একবার', 'সঙ্গে', 'ইচ্ছা', 'নীচের', 'এগুলো', 'আপনার', 'অধীনে', 'কিংবা',\n",
    "#        'এখানে', 'তাহলে', 'কয়েক', 'জন্যে', 'হচ্ছে', 'তাদের', 'কোথায়', 'কিন্তু', 'নিজেকে', 'যতক্ষণ', 'আমাদের',\n",
    "#        'দ্বারা', 'হয়েছে', ' সঙ্গে', 'সেখানে', 'কিভাবে', 'মাধ্যমে', 'নিজেদের', 'তুলনায়', 'প্রতিটি',\n",
    "#        'তাদেরকে', 'ইত্যাদি', 'সম্পর্কে', 'সর্বাধিক', 'বিরুদ্ধে', 'অন্যান্য'}\n",
    "\n",
    "\n"
   ]
  },
  {
   "cell_type": "code",
   "execution_count": 41,
   "id": "646797dc",
   "metadata": {},
   "outputs": [],
   "source": [
    "stop_words = { \"অবশ্য\" ,\"অনেক\",\"অনেকে\",\"অনেকেই\",\"অন্তত\",\"অথবা\",\"অথচ\",\"অর্থাত\",\"অন্য\",\"আজ\",\"আছে\",\"আপনার\",\"আপনি\",\"আবার\",\"আমরা\"\n",
    "\"আমাকে\",\"আমাদের\",\"আমার\",\"আমি\",\"আরও\",\"আর\",\"আগে\",\"আগেই\",\"আই\",\"অতএব\",\"আগামী\",\"অবধি\",\"অনুযায়ী\",\"আদ্যভাগে\",\"এই\",\"একই\",\"একে\",\n",
    "\"একটি\",\"এখন\",\"এখনও\",\"এখানে\",\"এখানেই\",\n",
    "\"এটি\",\n",
    "\"এটা\",\n",
    "\"এটাই\",\n",
    "\"এতটাই\",\n",
    "\"এবং\",\n",
    "\"একবার\",\n",
    "\"এবার\",\n",
    "\"এদের\",\n",
    "\"এঁদের\",\n",
    "\"এমন\",\n",
    "\"এমনকী\",\n",
    "\"এল\",\n",
    "\"এর\",\n",
    "\"এরা\",\n",
    "\"এঁরা\",\n",
    "\"এস\",\n",
    "\"এত\",\n",
    "\"এতে\",\n",
    "\"এসে\",\n",
    "\"একে\",\n",
    "\"এ\",\n",
    "\"ঐ\",\n",
    "\"ই\",\n",
    "\"ইহা\",\n",
    "\"ইত্যাদি\",\n",
    "\"উনি\",\n",
    "\"উপর\",\n",
    "\"উপরে\",\n",
    "\"উচিত\",\n",
    "\"ও\",\n",
    "\"ওই\",\n",
    "\"ওর\",\n",
    "\"ওরা\",\n",
    "\"ওঁর\",\n",
    "\"ওঁরা\",\n",
    "\"ওকে\",\n",
    "\"ওদের\",\n",
    "\"ওঁদের\",\n",
    "\"ওখানে\",\n",
    "'কত',\n",
    "\"কবে\",\n",
    "'করতে',\n",
    "\"কয়েক\"\n",
    "\"কয়েকটি\",\n",
    "\"করবে\",\n",
    "\"করলেন\",\n",
    "\"করার\",\n",
    "\"কারও\",\n",
    "\"করা\",\n",
    "\"করি\",\n",
    "\"করিয়ে\",\n",
    "\"করার\",\n",
    "\"করাই\",\n",
    "\"করলে\",\n",
    "\"করলেন\",\n",
    "\"করিতে\",\n",
    "\"করিয়া\",\n",
    "\"করেছিলেন\",\n",
    "\"করছে\",\n",
    "\"করছেন\",\n",
    "\"করেছেন\",\n",
    "\"করেছে\",\n",
    "\"করেন\",\n",
    "\"করবেন\",\n",
    "\"করায়\",\n",
    "\"করে\",\n",
    "\"করেই\",\n",
    "\"কাছ\",\n",
    "\"কাছে\",\n",
    "\"কাজে\",\n",
    "\"কারণ\",\n",
    "\"কিছু\",\n",
    "\"কিছুই\",\n",
    "\"কিন্তু\",\n",
    "\"কিংবা\",\n",
    "\"কি\",\n",
    "\"কী\",\n",
    "\"কেউ\",\n",
    "\"কেউই\",\n",
    "\"কাউকে\",\n",
    "\"কেন\",\n",
    "\"কে\",\n",
    "\"কোনও\",\n",
    "\"কোনো\",\n",
    "\"কোন\",\n",
    "\"কখনও\",\n",
    "\"ক্ষেত্রে\",\n",
    "\"খুব\",\n",
    "\"গুলি\",\n",
    "\"গিয়ে\",\n",
    "\"গিয়েছে\",\n",
    "\"গেছে\",\n",
    "\"গেল\",\n",
    "\"গেলে\",\n",
    "\"গোটা\",\n",
    "\"চলে\",\n",
    "\"ছাড়া\",\n",
    "\"ছাড়াও\",\n",
    "\"ছিলেন\",\n",
    "\"ছিল\",\n",
    "\"জন্য\",\n",
    "\"জানা\",\n",
    "\"ঠিক\",\n",
    "\"তিনি\",\n",
    "\"তিনঐ\",\n",
    "\"তিনিও\",\n",
    "\"তখন\",\n",
    "\"তবে\",\n",
    "\"তবু\",\n",
    "\"তাঁদের\",\n",
    "\"তাঁাহারা\",\n",
    "\"তাঁরা\",\n",
    "\"তাঁর\",\n",
    "\"তাঁকে\",\n",
    "\"তাই\",\n",
    "\"তেমন\",\n",
    "\"তাকে\",\n",
    "\"তাহা\",\n",
    "\"তাহাতে\",\n",
    "\"তাহার\",\n",
    "\"তাদের\",\n",
    "\"তারপর\",\n",
    "\"তারা\",\n",
    "\"তারৈ\",\n",
    "\"তার\",\n",
    "\"তাহলে\",\n",
    "\"তিনি\",\n",
    "\"তা\",\n",
    "\"তাও\",\n",
    "\"তাতে\",\n",
    "\"তো\",\n",
    "\"তত\",\n",
    "\"তুমি\",\n",
    "\"তোমার\",\n",
    "\"তথা\",\n",
    "\"থাকে\",\n",
    "\"থাকা\",\n",
    "\"থাকায়\",\n",
    "\"থেকে\",\n",
    "\"থেকেও\",\n",
    "\"থাকবে\",\n",
    "\"থাকেন\",\n",
    "\"থাকবেন\",\n",
    "\"থেকেই\",\n",
    "\"দিকে\",\n",
    "\"দিতে\",\n",
    "\"দিয়ে\",\n",
    "\"দিয়েছে\",\n",
    "\"দিয়েছেন\",\n",
    "\"দিলেন\",\n",
    "\"দু\",\n",
    "\"দুটি\",\n",
    "\"দুটো\",\n",
    "\"দেয়\",\n",
    "\"দেওয়া\",\n",
    "\"দেওয়ার\",\n",
    "\"দেখা\",\n",
    "\"দেখে\",\n",
    "\"দেখতে\",\n",
    "\"দ্বারা\",\n",
    "\"ধরে\",\n",
    "\"ধরা\",\n",
    "\"নয়\",\n",
    "\"নানা\",\n",
    "\"না\",\n",
    "\"নাকি\",\n",
    "\"নাগাদ\",\n",
    "\"নিতে\",\n",
    "\"নিজে\",\n",
    "\"নিজেই\",\n",
    "\"নিজের\",\n",
    "\"নিজেদের\",\n",
    "\"নিয়ে\",\n",
    "\"নেওয়া\",\n",
    "\"নেওয়ার\",\n",
    "\"নেই\",\n",
    "\"নাই\",\n",
    "\"পক্ষে\",\n",
    "\"পর্যন্ত\",\n",
    "\"পাওয়া\",\n",
    "\"পারেন\",\n",
    "\"পারি\",\n",
    "\"পারে\",\n",
    "\"পরে\",\n",
    "\"পরেই\",\n",
    "\"পরেও\",\n",
    "\"পর\",\n",
    "\"পেয়ে\",\n",
    "\"প্রতি\",\n",
    "\"প্রভৃতি\",\n",
    "\"প্রায়\",\n",
    "\"ফের\",\n",
    "\"ফলে\",\n",
    "\"ফিরে\",\n",
    "\"ব্যবহার\",\n",
    "\"বলতে\",\n",
    "\"বললেন\",\n",
    "\"বলেছেন\",\n",
    "\"বলল\",\n",
    "\"বলা\",\n",
    "\"বলেন\",\n",
    "\"বলে\",\n",
    "\"বহু\",\n",
    "\"বসে\",\n",
    "\"বার\",\n",
    "\"বা\",\n",
    "\"বিনা\",\n",
    "\"বরং\",\n",
    "\"বদলে\",\n",
    "\"বাদে\",\n",
    "\"বার\",\n",
    "\"বিশেষ\",\n",
    "\"বিভিন্ন\",\n",
    "\"বিষয়টি\",\n",
    "\"ব্যবহার\",\n",
    "\"ব্যাপারে\"\n",
    "\"ভাবে\",\n",
    "\"ভাবেই\",\n",
    "\"মধ্যে\",\n",
    "\"মধ্যেই\",\n",
    "\"মধ্যেও\",\n",
    "\"মধ্যভাগে\",\n",
    "\"মাধ্যমে\",\n",
    "\"মাত্র\",\n",
    "\"মতো\",\n",
    "\"মতোই\",\n",
    "\"মোটেই\",\n",
    "\"যখন\",\n",
    "\"যদি\",\n",
    "\"যদিও\",\n",
    "\"যাবে\",\n",
    "\"যায়\",\n",
    "\"যাকে\",\n",
    "\"যাওয়া\",\n",
    "\"যাওয়ার\",\n",
    "\"যত\",\n",
    "\"যতটা\",\n",
    "\"যা\",\n",
    "\"যার\",\n",
    "\"যারা\",\n",
    "\"যাঁর\",\n",
    "\"যাঁরা\",\n",
    "\"যাদের\",\n",
    "\"যান\",\n",
    "\"যাচ্ছে\",\n",
    "\"যেতে\",\n",
    "\"যাতে\",\n",
    "\"যেন\",\n",
    "\"যেমন\",\n",
    "\"যেখানে\",\n",
    "\"যিনি\",\n",
    "\"যে\",\n",
    "\"রেখে\",\n",
    "\"রাখা\",\n",
    "\"রয়েছে\",\n",
    "\"রকম\",\n",
    "\"শুধু\",\n",
    "\"সঙ্গে\",\n",
    "\"সঙ্গেও\",\n",
    "\"সমস্ত\",\n",
    "\"সব\",\n",
    "\"সবার\",\n",
    "\"সহ\",\n",
    "\"সুতরাং\",\n",
    "\"সহিত\",\n",
    "\"সেই\",\n",
    "\"সেটা\",\n",
    "\"সেটি\",\n",
    "\"সেটাই\",\n",
    "\"সেটাও\",\n",
    "\"সম্প্রতি\",\n",
    "\"সেখান\",\n",
    "\"সেখানে\",\n",
    "\"সে\",\n",
    "\"স্পষ্ট\",\n",
    "\"স্বয়ং\",\n",
    "\"হইতে\",\n",
    "\"হইবে\",\n",
    "\"হৈলে\",\n",
    "\"হইয়া\",\n",
    "\"হচ্ছে\",\n",
    "\"হত\",\n",
    "\"হতে\",\n",
    "\"হতেই\",\n",
    "\"হবে\",\n",
    "\"হবেন\",\n",
    "\"হয়েছিল\",\n",
    "\"হয়েছে\",\n",
    "\"হয়েছেন\",\n",
    "\"হয়ে\",\n",
    "\"হয়নি\",\n",
    "\"হয়\",\n",
    "\"হয়েই\",\n",
    "\"হয়তো\",\n",
    "\"হল\",\n",
    "\"হলে\",\n",
    "\"হলেই\",\n",
    "\"হলেও\",\n",
    "\"হলো\",\n",
    "\"হিসাবে\",\n",
    "\"হওয়া\",\n",
    "\"হওয়ার\",\n",
    "\"হওয়ায়\",\n",
    "\"হন\",\n",
    "\"হোক\",\n",
    "\"জন\",\n",
    "\"জনকে\",\n",
    "\"জনের\",\n",
    "\"জানতে\",\n",
    "\"জানায়\",\n",
    "\"জানিয়ে\",\n",
    "\"জানানো\",\n",
    "\"জানিয়েছে\",\n",
    "\"জন্য\",\n",
    "\"জন্যওজে\",\n",
    "\"জে\",\n",
    "\"বেশ\",\n",
    "\"দেন\",\n",
    "\"তুলে\",\n",
    "\"ছিলেন\",\n",
    "\"চান\",\n",
    "\"চায়\",\n",
    "\"চেয়ে\",\n",
    "\"মোট\",\n",
    "\"যথেষ্ট\",\n",
    "\"টি\"}"
   ]
  },
  {
   "cell_type": "code",
   "execution_count": 42,
   "id": "cfe207ea",
   "metadata": {},
   "outputs": [],
   "source": [
    "def remove_stop_words(text):\n",
    "    text = [w for w in text if not w in stop_words]\n",
    "    text = ' '.join(text)\n",
    "    return text"
   ]
  },
  {
   "cell_type": "code",
   "execution_count": 43,
   "id": "ac01a639",
   "metadata": {},
   "outputs": [],
   "source": [
    "df['content'] = [remove_stop_words(tokenized_data(sent)) for sent in df['content'].tolist()]"
   ]
  },
  {
   "cell_type": "code",
   "execution_count": 44,
   "id": "86985733",
   "metadata": {
    "scrolled": true
   },
   "outputs": [
    {
     "name": "stdout",
     "output_type": "stream",
     "text": [
      "18659\n"
     ]
    }
   ],
   "source": [
    "longest_string = max(df[\"content\"], key=len)\n",
    "print(len(longest_string))"
   ]
  },
  {
   "cell_type": "code",
   "execution_count": 45,
   "id": "b7ffc464",
   "metadata": {},
   "outputs": [],
   "source": [
    "text = df[\"content\"]"
   ]
  },
  {
   "cell_type": "code",
   "execution_count": 46,
   "id": "ec320938",
   "metadata": {
    "scrolled": true
   },
   "outputs": [
    {
     "data": {
      "text/plain": [
       "(58478, 31677)"
      ]
     },
     "execution_count": 46,
     "metadata": {},
     "output_type": "execute_result"
    }
   ],
   "source": [
    "train_counts = count_vect.fit_transform(text) # converting docs into vectors\n",
    "train_tfidf  = train_counts \n",
    "#train_tfidf = tfidf_transformer.fit_transform(train_counts) # converting transformed vectors into tf-idf vectors\n",
    "train_tfidf.shape #vector shape"
   ]
  },
  {
   "cell_type": "code",
   "execution_count": 47,
   "id": "b5ca4e4c",
   "metadata": {},
   "outputs": [],
   "source": [
    "#train test split\n",
    "from sklearn.model_selection import train_test_split"
   ]
  },
  {
   "cell_type": "code",
   "execution_count": 48,
   "id": "18282b5d",
   "metadata": {},
   "outputs": [],
   "source": [
    "X_train, X_test, y_train, y_test = train_test_split(train_tfidf, df['Text_label'],stratify=df['Text_label'], test_size=0.2)\n",
    "\n",
    "Y_pre = df['label']\n",
    "target_names = list(set(Y_pre))"
   ]
  },
  {
   "cell_type": "code",
   "execution_count": 49,
   "id": "55a97594",
   "metadata": {
    "scrolled": true
   },
   "outputs": [
    {
     "data": {
      "text/plain": [
       "real    55880\n",
       "fake     2598\n",
       "Name: label, dtype: int64"
      ]
     },
     "execution_count": 49,
     "metadata": {},
     "output_type": "execute_result"
    }
   ],
   "source": [
    "Y_pre.value_counts()"
   ]
  },
  {
   "cell_type": "code",
   "execution_count": 50,
   "id": "8683a063",
   "metadata": {
    "scrolled": true
   },
   "outputs": [
    {
     "data": {
      "text/plain": [
       "['fake', 'real']"
      ]
     },
     "execution_count": 50,
     "metadata": {},
     "output_type": "execute_result"
    }
   ],
   "source": [
    "target_names"
   ]
  },
  {
   "cell_type": "code",
   "execution_count": 51,
   "id": "81f576ca",
   "metadata": {},
   "outputs": [
    {
     "data": {
      "text/plain": [
       "<46782x31677 sparse matrix of type '<class 'numpy.int64'>'\n",
       "\twith 3985273 stored elements in Compressed Sparse Row format>"
      ]
     },
     "execution_count": 51,
     "metadata": {},
     "output_type": "execute_result"
    }
   ],
   "source": [
    "X_train"
   ]
  },
  {
   "cell_type": "code",
   "execution_count": 52,
   "id": "7317b086",
   "metadata": {},
   "outputs": [
    {
     "data": {
      "text/plain": [
       "1    44704\n",
       "0     2078\n",
       "Name: Text_label, dtype: int64"
      ]
     },
     "execution_count": 52,
     "metadata": {},
     "output_type": "execute_result"
    }
   ],
   "source": [
    "y_train.value_counts()"
   ]
  },
  {
   "cell_type": "code",
   "execution_count": 53,
   "id": "117096c0",
   "metadata": {},
   "outputs": [
    {
     "data": {
      "text/plain": [
       "1    11176\n",
       "0      520\n",
       "Name: Text_label, dtype: int64"
      ]
     },
     "execution_count": 53,
     "metadata": {},
     "output_type": "execute_result"
    }
   ],
   "source": [
    "y_test.value_counts()"
   ]
  },
  {
   "cell_type": "code",
   "execution_count": 54,
   "id": "8d6fa472",
   "metadata": {},
   "outputs": [],
   "source": [
    "from sklearn.naive_bayes import MultinomialNB\n",
    "from sklearn.metrics import classification_report\n",
    "from sklearn.metrics import confusion_matrix, accuracy_score"
   ]
  },
  {
   "cell_type": "code",
   "execution_count": 55,
   "id": "3bae7e2d",
   "metadata": {},
   "outputs": [],
   "source": [
    "import seaborn as sn"
   ]
  },
  {
   "cell_type": "code",
   "execution_count": 56,
   "id": "9f0279a4",
   "metadata": {},
   "outputs": [
    {
     "name": "stdout",
     "output_type": "stream",
     "text": [
      "Test set accuracy 0.9343365253077975\n",
      "              precision    recall  f1-score   support\n",
      "\n",
      "        fake       0.39      0.82      0.52       520\n",
      "        real       0.99      0.94      0.96     11176\n",
      "\n",
      "    accuracy                           0.93     11696\n",
      "   macro avg       0.69      0.88      0.74     11696\n",
      "weighted avg       0.96      0.93      0.95     11696\n",
      "\n"
     ]
    },
    {
     "data": {
      "image/png": "[encoded data removed]",
      "text/plain": [
       "<Figure size 1584x864 with 2 Axes>"
      ]
     },
     "metadata": {},
     "output_type": "display_data"
    }
   ],
   "source": [
    "#naive bayes model\n",
    "classifer = MultinomialNB()\n",
    "classifer.fit(X_train, y_train)\n",
    "y_pred = classifer.predict(X_test)\n",
    "print('Test set accuracy %s' % accuracy_score(y_test, y_pred))\n",
    "cr = classification_report(y_test, y_pred, target_names=target_names)\n",
    "print(cr)\n",
    "\n",
    "\n",
    "# ------------------------------------------------------------------------------ #\n",
    "\n",
    "cm = confusion_matrix(y_test, y_pred)\n",
    "cm = (cm.T / cm.astype(float).sum(axis=1)).T\n",
    "\n",
    "df_cm = pd.DataFrame(cm, range(len(target_names)), range(len(target_names)))\n",
    "with sn.axes_style(\"white\"):\n",
    "    plt.figure(figsize = (22,12))\n",
    "    ax = sn.heatmap(df_cm, annot=True, xticklabels=target_names, yticklabels=target_names, vmax=1,  cmap=sn.cubehelix_palette(10))\n",
    "    ax.set_xticklabels(ax.get_xticklabels(), rotation=0)\n",
    "    fig = ax.get_figure()\n",
    "  "
   ]
  },
  {
   "cell_type": "code",
   "execution_count": 57,
   "id": "780e6cd6",
   "metadata": {},
   "outputs": [],
   "source": [
    "from sklearn.svm import SVC"
   ]
  },
  {
   "cell_type": "code",
   "execution_count": 56,
   "id": "7daac7fc",
   "metadata": {},
   "outputs": [
    {
     "name": "stdout",
     "output_type": "stream",
     "text": [
      "Test set accuracy 0.9901675786593708\n",
      "              precision    recall  f1-score   support\n",
      "\n",
      "        fake       0.86      0.94      0.89       520\n",
      "        real       1.00      0.99      0.99     11176\n",
      "\n",
      "    accuracy                           0.99     11696\n",
      "   macro avg       0.93      0.96      0.94     11696\n",
      "weighted avg       0.99      0.99      0.99     11696\n",
      "\n"
     ]
    },
    {
     "data": {
      "image/png": "[encoded data removed]",
      "text/plain": [
       "<Figure size 1584x864 with 2 Axes>"
      ]
     },
     "metadata": {},
     "output_type": "display_data"
    }
   ],
   "source": [
    "#SVM model\n",
    "classifer = SVC(kernel='linear')\n",
    "classifer.fit(X_train, y_train)\n",
    "y_pred = classifer.predict(X_test)\n",
    "print('Test set accuracy %s' % accuracy_score(y_test, y_pred))\n",
    "cr = classification_report(y_test, y_pred, target_names=target_names)\n",
    "print(cr)\n",
    "\n",
    "# ------------------------------------------------------------------------------ #\n",
    "\n",
    "cm = confusion_matrix(y_test, y_pred)\n",
    "cm = (cm.T / cm.astype(float).sum(axis=1)).T\n",
    "\n",
    "df_cm = pd.DataFrame(cm, range(len(target_names)), range(len(target_names)))\n",
    "with sn.axes_style(\"white\"):\n",
    "    plt.figure(figsize = (22,12))\n",
    "    ax = sn.heatmap(df_cm, annot=True, xticklabels=target_names, yticklabels=target_names, vmax=1,  cmap=sn.cubehelix_palette(10))\n",
    "    ax.set_xticklabels(ax.get_xticklabels(), rotation=0)\n",
    "    fig = ax.get_figure()\n",
    "  "
   ]
  },
  {
   "cell_type": "code",
   "execution_count": 57,
   "id": "59d93989",
   "metadata": {
    "scrolled": true
   },
   "outputs": [],
   "source": [
    "from xgboost import XGBClassifier"
   ]
  },
  {
   "cell_type": "code",
   "execution_count": 58,
   "id": "d24f497a",
   "metadata": {},
   "outputs": [
    {
     "name": "stdout",
     "output_type": "stream",
     "text": [
      "Test set accuracy 0.9886285909712722\n",
      "              precision    recall  f1-score   support\n",
      "\n",
      "        fake       0.96      0.77      0.86       520\n",
      "        real       0.99      1.00      0.99     11176\n",
      "\n",
      "    accuracy                           0.99     11696\n",
      "   macro avg       0.98      0.89      0.93     11696\n",
      "weighted avg       0.99      0.99      0.99     11696\n",
      "\n"
     ]
    },
    {
     "data": {
      "image/png": "[encoded data removed]",
      "text/plain": [
       "<Figure size 1584x864 with 2 Axes>"
      ]
     },
     "metadata": {},
     "output_type": "display_data"
    }
   ],
   "source": [
    "#XGboost model\n",
    "classifer = XGBClassifier()\n",
    "classifer.fit(X_train, y_train)\n",
    "y_pred = classifer.predict(X_test)\n",
    "print('Test set accuracy %s' % accuracy_score(y_test, y_pred))\n",
    "cr = classification_report(y_test, y_pred, target_names=target_names)\n",
    "print(cr)\n",
    "\n",
    "# ------------------------------------------------------------------------------ #\n",
    "\n",
    "cm = confusion_matrix(y_test, y_pred)\n",
    "cm = (cm.T / cm.astype(float).sum(axis=1)).T\n",
    "\n",
    "df_cm = pd.DataFrame(cm, range(len(target_names)), range(len(target_names)))\n",
    "with sn.axes_style(\"white\"):\n",
    "    plt.figure(figsize = (22,12))\n",
    "    ax = sn.heatmap(df_cm, annot=True, xticklabels=target_names, yticklabels=target_names, vmax=1,  cmap=sn.cubehelix_palette(10))\n",
    "    ax.set_xticklabels(ax.get_xticklabels(), rotation=0)\n",
    "    fig = ax.get_figure()\n",
    "  \n"
   ]
  },
  {
   "cell_type": "code",
   "execution_count": 59,
   "id": "0330d563",
   "metadata": {},
   "outputs": [],
   "source": [
    "from sklearn.ensemble import AdaBoostClassifier\n"
   ]
  },
  {
   "cell_type": "code",
   "execution_count": 60,
   "id": "ddb497ec",
   "metadata": {},
   "outputs": [
    {
     "name": "stdout",
     "output_type": "stream",
     "text": [
      "Test set accuracy 0.9672537619699042\n",
      "              precision    recall  f1-score   support\n",
      "\n",
      "        fake       0.74      0.40      0.52       520\n",
      "        real       0.97      0.99      0.98     11176\n",
      "\n",
      "    accuracy                           0.97     11696\n",
      "   macro avg       0.86      0.70      0.75     11696\n",
      "weighted avg       0.96      0.97      0.96     11696\n",
      "\n"
     ]
    },
    {
     "data": {
      "image/png": "[encoded data removed]",
      "text/plain": [
       "<Figure size 1584x864 with 2 Axes>"
      ]
     },
     "metadata": {},
     "output_type": "display_data"
    }
   ],
   "source": [
    "#Adaboost model\n",
    "classifer = AdaBoostClassifier(n_estimators=60,\n",
    "                         learning_rate=1)\n",
    "classifer.fit(X_train, y_train)\n",
    "y_pred = classifer.predict(X_test)\n",
    "print('Test set accuracy %s' % accuracy_score(y_test, y_pred))\n",
    "cr = classification_report(y_test, y_pred, target_names=target_names)\n",
    "print(cr)\n",
    "\n",
    "# ------------------------------------------------------------------------------ #\n",
    "\n",
    "cm = confusion_matrix(y_test, y_pred)\n",
    "cm = (cm.T / cm.astype(float).sum(axis=1)).T\n",
    "\n",
    "df_cm = pd.DataFrame(cm, range(len(target_names)), range(len(target_names)))\n",
    "with sn.axes_style(\"white\"):\n",
    "    plt.figure(figsize = (22,12))\n",
    "    ax = sn.heatmap(df_cm, annot=True, xticklabels=target_names, yticklabels=target_names, vmax=1,  cmap=sn.cubehelix_palette(10))\n",
    "    ax.set_xticklabels(ax.get_xticklabels(), rotation=0)\n",
    "    fig = ax.get_figure()\n",
    "  \n"
   ]
  },
  {
   "cell_type": "code",
   "execution_count": 61,
   "id": "32cf2afc",
   "metadata": {},
   "outputs": [],
   "source": [
    "from sklearn.tree import DecisionTreeClassifier"
   ]
  },
  {
   "cell_type": "code",
   "execution_count": 62,
   "id": "8c3fa0fc",
   "metadata": {
    "scrolled": false
   },
   "outputs": [
    {
     "name": "stdout",
     "output_type": "stream",
     "text": [
      "Test set accuracy 0.9865766073871409\n",
      "              precision    recall  f1-score   support\n",
      "\n",
      "        fake       0.82      0.90      0.86       520\n",
      "        real       1.00      0.99      0.99     11176\n",
      "\n",
      "    accuracy                           0.99     11696\n",
      "   macro avg       0.91      0.95      0.92     11696\n",
      "weighted avg       0.99      0.99      0.99     11696\n",
      "\n"
     ]
    },
    {
     "data": {
      "image/png": "[encoded data removed]",
      "text/plain": [
       "<Figure size 1584x864 with 2 Axes>"
      ]
     },
     "metadata": {},
     "output_type": "display_data"
    }
   ],
   "source": [
    "#decision tree\n",
    "classifer = DecisionTreeClassifier()\n",
    "classifer.fit(X_train, y_train)\n",
    "y_pred = classifer.predict(X_test)\n",
    "print('Test set accuracy %s' % accuracy_score(y_test, y_pred))\n",
    "cr = classification_report(y_test, y_pred, target_names=target_names)\n",
    "print(cr)\n",
    "\n",
    "# ------------------------------------------------------------------------------ #\n",
    "\n",
    "cm = confusion_matrix(y_test, y_pred)\n",
    "cm = (cm.T / cm.astype(float).sum(axis=1)).T\n",
    "\n",
    "df_cm = pd.DataFrame(cm, range(len(target_names)), range(len(target_names)))\n",
    "with sn.axes_style(\"white\"):\n",
    "    plt.figure(figsize = (22,12))\n",
    "    ax = sn.heatmap(df_cm, annot=True, xticklabels=target_names, yticklabels=target_names, vmax=1,  cmap=sn.cubehelix_palette(10))\n",
    "    ax.set_xticklabels(ax.get_xticklabels(), rotation=0)\n",
    "    fig = ax.get_figure()\n",
    "  \n"
   ]
  },
  {
   "cell_type": "code",
   "execution_count": 58,
   "id": "c1d9399d",
   "metadata": {},
   "outputs": [],
   "source": [
    "from sklearn.ensemble import RandomForestClassifier"
   ]
  },
  {
   "cell_type": "code",
   "execution_count": 59,
   "id": "91d06868",
   "metadata": {},
   "outputs": [
    {
     "name": "stdout",
     "output_type": "stream",
     "text": [
      "Test set accuracy 0.9936730506155951\n",
      "              precision    recall  f1-score   support\n",
      "\n",
      "        fake       1.00      0.86      0.92       520\n",
      "        real       0.99      1.00      1.00     11176\n",
      "\n",
      "    accuracy                           0.99     11696\n",
      "   macro avg       1.00      0.93      0.96     11696\n",
      "weighted avg       0.99      0.99      0.99     11696\n",
      "\n"
     ]
    },
    {
     "data": {
      "image/png": "[encoded data removed]",
      "text/plain": [
       "<Figure size 1584x864 with 2 Axes>"
      ]
     },
     "metadata": {},
     "output_type": "display_data"
    }
   ],
   "source": [
    "#Random forest\n",
    "classifer = RandomForestClassifier(n_estimators=100)\n",
    "shapas = classifer.fit(X_train, y_train)\n",
    "y_pred = classifer.predict(X_test)\n",
    "print('Test set accuracy %s' % accuracy_score(y_test, y_pred))\n",
    "cr = classification_report(y_test, y_pred, target_names=target_names)\n",
    "print(cr)\n",
    "\n",
    "# ------------------------------------------------------------------------------ #\n",
    "\n",
    "cm = confusion_matrix(y_test, y_pred)\n",
    "cm = (cm.T / cm.astype(float).sum(axis=1)).T\n",
    "\n",
    "df_cm = pd.DataFrame(cm, range(len(target_names)), range(len(target_names)))\n",
    "with sn.axes_style(\"white\"):\n",
    "    plt.figure(figsize = (22,12))\n",
    "    ax = sn.heatmap(df_cm, annot=True, xticklabels=target_names, yticklabels=target_names, vmax=1,  cmap=sn.cubehelix_palette(10))\n",
    "    ax.set_xticklabels(ax.get_xticklabels(), rotation=0)\n",
    "    fig = ax.get_figure()\n",
    "  "
   ]
  },
  {
   "cell_type": "code",
   "execution_count": 65,
   "id": "ae70145f",
   "metadata": {},
   "outputs": [],
   "source": [
    "from sklearn.linear_model import SGDClassifier"
   ]
  },
  {
   "cell_type": "code",
   "execution_count": 66,
   "id": "188b9283",
   "metadata": {},
   "outputs": [
    {
     "name": "stdout",
     "output_type": "stream",
     "text": [
      "Test set accuracy 0.9863201094391245\n",
      "              precision    recall  f1-score   support\n",
      "\n",
      "        fake       0.83      0.87      0.85       520\n",
      "        real       0.99      0.99      0.99     11176\n",
      "\n",
      "    accuracy                           0.99     11696\n",
      "   macro avg       0.91      0.93      0.92     11696\n",
      "weighted avg       0.99      0.99      0.99     11696\n",
      "\n"
     ]
    },
    {
     "data": {
      "image/png": "[encoded data removed]",
      "text/plain": [
       "<Figure size 1584x864 with 2 Axes>"
      ]
     },
     "metadata": {},
     "output_type": "display_data"
    }
   ],
   "source": [
    "#model Simple gradient discent model\n",
    "classifer = SGDClassifier()\n",
    "classifer.fit(X_train, y_train)\n",
    "y_pred = classifer.predict(X_test)\n",
    "print('Test set accuracy %s' % accuracy_score(y_test, y_pred))\n",
    "cr = classification_report(y_test, y_pred, target_names=target_names)\n",
    "print(cr)\n",
    "\n",
    "# ------------------------------------------------------------------------------ #\n",
    "\n",
    "\n",
    "cm = confusion_matrix(y_test, y_pred)\n",
    "cm = (cm.T / cm.astype(float).sum(axis=1)).T\n",
    "\n",
    "df_cm = pd.DataFrame(cm, range(len(target_names)), range(len(target_names)))\n",
    "with sn.axes_style(\"white\"):\n",
    "    plt.figure(figsize = (22,12))\n",
    "    ax = sn.heatmap(df_cm, annot=True, xticklabels=target_names, yticklabels=target_names, vmax=1,  cmap=sn.cubehelix_palette(10))\n",
    "    ax.set_xticklabels(ax.get_xticklabels(), rotation=0)\n",
    "    fig = ax.get_figure()"
   ]
  },
  {
   "cell_type": "code",
   "execution_count": 67,
   "id": "4daaf87b",
   "metadata": {},
   "outputs": [],
   "source": [
    "from sklearn.neighbors import NearestNeighbors\n",
    "from sklearn.neighbors import KNeighborsClassifier"
   ]
  },
  {
   "cell_type": "code",
   "execution_count": 68,
   "id": "194628b2",
   "metadata": {},
   "outputs": [
    {
     "name": "stdout",
     "output_type": "stream",
     "text": [
      "Test set accuracy 0.9627222982216143\n",
      "              precision    recall  f1-score   support\n",
      "\n",
      "        fake       0.62      0.41      0.49       520\n",
      "        real       0.97      0.99      0.98     11176\n",
      "\n",
      "    accuracy                           0.96     11696\n",
      "   macro avg       0.80      0.70      0.74     11696\n",
      "weighted avg       0.96      0.96      0.96     11696\n",
      "\n"
     ]
    },
    {
     "data": {
      "image/png": "[encoded data removed]",
      "text/plain": [
       "<Figure size 1584x864 with 2 Axes>"
      ]
     },
     "metadata": {},
     "output_type": "display_data"
    }
   ],
   "source": [
    "#Knn model\n",
    "classifer = KNeighborsClassifier(n_neighbors=3)\n",
    "classifer.fit(X_train, y_train)\n",
    "y_pred = classifer.predict(X_test)\n",
    "print('Test set accuracy %s' % accuracy_score(y_test, y_pred))\n",
    "cr = classification_report(y_test, y_pred, target_names=target_names)\n",
    "print(cr)\n",
    "\n",
    "# ------------------------------------------------------------------------------ #\n",
    "\n",
    "cm = confusion_matrix(y_test, y_pred)\n",
    "cm = (cm.T / cm.astype(float).sum(axis=1)).T\n",
    "\n",
    "df_cm = pd.DataFrame(cm, range(len(target_names)), range(len(target_names)))\n",
    "with sn.axes_style(\"white\"):\n",
    "    plt.figure(figsize = (22,12))\n",
    "    ax = sn.heatmap(df_cm, annot=True, xticklabels=target_names, yticklabels=target_names, vmax=1,  cmap=sn.cubehelix_palette(10))\n",
    "    ax.set_xticklabels(ax.get_xticklabels(), rotation=0)\n",
    "    fig = ax.get_figure()"
   ]
  },
  {
   "cell_type": "code",
   "execution_count": 69,
   "id": "21abeebf",
   "metadata": {},
   "outputs": [],
   "source": [
    "from sklearn.linear_model import LogisticRegression"
   ]
  },
  {
   "cell_type": "code",
   "execution_count": 70,
   "id": "1c8fb4a6",
   "metadata": {},
   "outputs": [
    {
     "name": "stdout",
     "output_type": "stream",
     "text": [
      "Test set accuracy 0.9905095759233926\n",
      "              precision    recall  f1-score   support\n",
      "\n",
      "        fake       0.89      0.89      0.89       520\n",
      "        real       0.99      1.00      1.00     11176\n",
      "\n",
      "    accuracy                           0.99     11696\n",
      "   macro avg       0.94      0.94      0.94     11696\n",
      "weighted avg       0.99      0.99      0.99     11696\n",
      "\n"
     ]
    },
    {
     "name": "stderr",
     "output_type": "stream",
     "text": [
      "C:\\Users\\moshi\\anaconda3\\lib\\site-packages\\sklearn\\linear_model\\_logistic.py:444: ConvergenceWarning: lbfgs failed to converge (status=1):\n",
      "STOP: TOTAL NO. of ITERATIONS REACHED LIMIT.\n",
      "\n",
      "Increase the number of iterations (max_iter) or scale the data as shown in:\n",
      "    https://scikit-learn.org/stable/modules/preprocessing.html\n",
      "Please also refer to the documentation for alternative solver options:\n",
      "    https://scikit-learn.org/stable/modules/linear_model.html#logistic-regression\n",
      "  n_iter_i = _check_optimize_result(\n"
     ]
    },
    {
     "data": {
      "image/png": "[encoded data removed]",
      "text/plain": [
       "<Figure size 1584x864 with 2 Axes>"
      ]
     },
     "metadata": {},
     "output_type": "display_data"
    }
   ],
   "source": [
    "#logistics regression model\n",
    "classifer = LogisticRegression()\n",
    "classifer.fit(X_train, y_train)\n",
    "y_pred = classifer.predict(X_test)\n",
    "print('Test set accuracy %s' % accuracy_score(y_test, y_pred))\n",
    "cr = classification_report(y_test, y_pred, target_names=target_names)\n",
    "print(cr)\n",
    "\n",
    "# ------------------------------------------------------------------------------ #\n",
    "\n",
    "cm = confusion_matrix(y_test, y_pred)\n",
    "cm = (cm.T / cm.astype(float).sum(axis=1)).T\n",
    "\n",
    "df_cm = pd.DataFrame(cm, range(len(target_names)), range(len(target_names)))\n",
    "with sn.axes_style(\"white\"):\n",
    "    plt.figure(figsize = (22,12))\n",
    "    ax = sn.heatmap(df_cm, annot=True, xticklabels=target_names, yticklabels=target_names, vmax=1,  cmap=sn.cubehelix_palette(10))\n",
    "    ax.set_xticklabels(ax.get_xticklabels(), rotation=0)\n",
    "    fig = ax.get_figure()"
   ]
  },
  {
   "cell_type": "code",
   "execution_count": 60,
   "id": "18fdbfc9",
   "metadata": {},
   "outputs": [
    {
     "data": {
      "text/plain": [
       "['fakeNews_model_pipeline.pkl']"
      ]
     },
     "execution_count": 60,
     "metadata": {},
     "output_type": "execute_result"
    }
   ],
   "source": [
    "import joblib \n",
    "joblib.dump(classifer,'fakeNews_model_pipeline.pkl')"
   ]
  },
  {
   "cell_type": "code",
   "execution_count": null,
   "id": "45caf5dc",
   "metadata": {},
   "outputs": [],
   "source": []
  }
 ],
 "metadata": {
  "kernelspec": {
   "display_name": "Python 3 (ipykernel)",
   "language": "python",
   "name": "python3"
  },
  "language_info": {
   "codemirror_mode": {
    "name": "ipython",
    "version": 3
   },
   "file_extension": ".py",
   "mimetype": "text/x-python",
   "name": "python",
   "nbconvert_exporter": "python",
   "pygments_lexer": "ipython3",
   "version": "3.9.12"
  }
 },
 "nbformat": 4,
 "nbformat_minor": 5
}
